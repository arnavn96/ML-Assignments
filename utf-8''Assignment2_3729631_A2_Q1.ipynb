{
  "cells": [
    {
      "metadata": {},
      "cell_type": "markdown",
      "source": "# MATH2319 Machine Learning\nSemester 1, 2020\n\nAssignment 2\n\n\n`I hereby agree to follow any and all assignment rules and procedures as stated in Canvas for this course, MATH2319. In particular, I solemnly swear that I will not discuss/ have not discussed my assignment solutions with anyone in any way and the solutions I am submitting are my own personal work.`\n\n\n*Arnav Nambiar* - 3729631"
    },
    {
      "metadata": {
        "collapsed": true
      },
      "cell_type": "markdown",
      "source": "# Question1"
    },
    {
      "metadata": {},
      "cell_type": "markdown",
      "source": "\nWe will be building a simple decision tree with depth 1 to predict the 'annual income' target feature. We will use the Gini Index split criterion to this end.\n"
    },
    {
      "metadata": {},
      "cell_type": "markdown",
      "source": "**Importing Required Libraries:**"
    },
    {
      "metadata": {
        "trusted": true
      },
      "cell_type": "code",
      "source": "import pandas as pd\nimport numpy as np\npd.set_option('display.max_columns', None) ",
      "execution_count": 2,
      "outputs": []
    },
    {
      "metadata": {},
      "cell_type": "markdown",
      "source": "**Reading the data;**"
    },
    {
      "metadata": {
        "trusted": true
      },
      "cell_type": "code",
      "source": "q1 = pd.read_csv(\"A2_Q1.csv\")",
      "execution_count": 3,
      "outputs": []
    },
    {
      "metadata": {
        "trusted": true
      },
      "cell_type": "code",
      "source": "print('The data set has '+ str(q1.shape[1])+' columns and '+ str(q1.shape[0])+ ' rows.')",
      "execution_count": 4,
      "outputs": [
        {
          "output_type": "stream",
          "text": "The data set has 6 columns and 20 rows.\n",
          "name": "stdout"
        }
      ]
    },
    {
      "metadata": {},
      "cell_type": "markdown",
      "source": "To check the first 5 rows of the dataset;"
    },
    {
      "metadata": {
        "trusted": true,
        "scrolled": true
      },
      "cell_type": "code",
      "source": "q1.head()",
      "execution_count": 5,
      "outputs": [
        {
          "output_type": "execute_result",
          "execution_count": 5,
          "data": {
            "text/html": "<div>\n<style scoped>\n    .dataframe tbody tr th:only-of-type {\n        vertical-align: middle;\n    }\n\n    .dataframe tbody tr th {\n        vertical-align: top;\n    }\n\n    .dataframe thead th {\n        text-align: right;\n    }\n</style>\n<table border=\"1\" class=\"dataframe\">\n  <thead>\n    <tr style=\"text-align: right;\">\n      <th></th>\n      <th>ID</th>\n      <th>Age</th>\n      <th>Education</th>\n      <th>Marital_Status</th>\n      <th>Occupation</th>\n      <th>Annual_Income</th>\n    </tr>\n  </thead>\n  <tbody>\n    <tr>\n      <th>0</th>\n      <td>1</td>\n      <td>39</td>\n      <td>bachelors</td>\n      <td>never married</td>\n      <td>professional</td>\n      <td>high</td>\n    </tr>\n    <tr>\n      <th>1</th>\n      <td>2</td>\n      <td>50</td>\n      <td>doctorate</td>\n      <td>married</td>\n      <td>professional</td>\n      <td>mid</td>\n    </tr>\n    <tr>\n      <th>2</th>\n      <td>3</td>\n      <td>18</td>\n      <td>high school</td>\n      <td>never married</td>\n      <td>agriculture</td>\n      <td>low</td>\n    </tr>\n    <tr>\n      <th>3</th>\n      <td>4</td>\n      <td>30</td>\n      <td>bachelors</td>\n      <td>married</td>\n      <td>professional</td>\n      <td>mid</td>\n    </tr>\n    <tr>\n      <th>4</th>\n      <td>5</td>\n      <td>37</td>\n      <td>high school</td>\n      <td>married</td>\n      <td>agriculture</td>\n      <td>mid</td>\n    </tr>\n  </tbody>\n</table>\n</div>",
            "text/plain": "   ID  Age    Education Marital_Status    Occupation Annual_Income\n0   1   39    bachelors  never married  professional          high\n1   2   50    doctorate        married  professional           mid\n2   3   18  high school  never married   agriculture           low\n3   4   30    bachelors        married  professional           mid\n4   5   37  high school        married   agriculture           mid"
          },
          "metadata": {}
        }
      ]
    },
    {
      "metadata": {},
      "cell_type": "markdown",
      "source": "## Part A"
    },
    {
      "metadata": {},
      "cell_type": "markdown",
      "source": "Here, the impurity of the target feature will be calculated using Gini Index."
    },
    {
      "metadata": {},
      "cell_type": "markdown",
      "source": "We first compute the probability of each categories in the target."
    },
    {
      "metadata": {
        "trusted": true,
        "scrolled": true
      },
      "cell_type": "code",
      "source": "q1.iloc[:,5].value_counts()",
      "execution_count": 6,
      "outputs": [
        {
          "output_type": "execute_result",
          "execution_count": 6,
          "data": {
            "text/plain": "mid     12\nhigh     5\nlow      3\nName: Annual_Income, dtype: int64"
          },
          "metadata": {}
        }
      ]
    },
    {
      "metadata": {},
      "cell_type": "markdown",
      "source": "The probabilities for target feature;"
    },
    {
      "metadata": {
        "trusted": true
      },
      "cell_type": "code",
      "source": "mid = 12 / 20\nhigh = 5 / 20\nlow = 3 / 20\n\nprint('The probability of annual income being low is ' + str(low)+ ', mid is '+str(mid)+', and high is '+str(high))",
      "execution_count": 7,
      "outputs": [
        {
          "output_type": "stream",
          "text": "The probability of annual income being low is 0.15, mid is 0.6, and high is 0.25\n",
          "name": "stdout"
        }
      ]
    },
    {
      "metadata": {},
      "cell_type": "markdown",
      "source": "The Gini index is how often the target levels of instances in\na dataset would be misclassified if predictions were made based only on the distribution of\nthe target levels in the dataset.\n\n$$ Gini Index =1 - \\sum_l^{} P(t=1)^2$$"
    },
    {
      "metadata": {
        "trusted": true
      },
      "cell_type": "code",
      "source": "GiniIndex = 1 - ((mid)**2 +  (high)**2  + (low)**2)",
      "execution_count": 8,
      "outputs": []
    },
    {
      "metadata": {
        "trusted": true
      },
      "cell_type": "code",
      "source": "GiniIndex",
      "execution_count": 9,
      "outputs": [
        {
          "output_type": "execute_result",
          "execution_count": 9,
          "data": {
            "text/plain": "0.5549999999999999"
          },
          "metadata": {}
        }
      ]
    },
    {
      "metadata": {},
      "cell_type": "markdown",
      "source": "The Gini impurity index rounded to 3 decimals it is 0.555."
    },
    {
      "metadata": {},
      "cell_type": "markdown",
      "source": "## Part B"
    },
    {
      "metadata": {},
      "cell_type": "markdown",
      "source": "Here, the root node will be determined for the decision tree algorithms. WE begin by computing the Partition Gini Indexes, Information Gains, and the remainders."
    },
    {
      "metadata": {},
      "cell_type": "markdown",
      "source": "### Impurity and Information Gains for Categorical Variables"
    },
    {
      "metadata": {},
      "cell_type": "markdown",
      "source": "We drop the Age and ID column as the Age column is the only continuous descriptive feature and the ID column is just a unique identifier."
    },
    {
      "metadata": {
        "trusted": true
      },
      "cell_type": "code",
      "source": "catdata = q1.drop(columns=['Age','ID'])\ncatdata.head()",
      "execution_count": 10,
      "outputs": [
        {
          "output_type": "execute_result",
          "execution_count": 10,
          "data": {
            "text/html": "<div>\n<style scoped>\n    .dataframe tbody tr th:only-of-type {\n        vertical-align: middle;\n    }\n\n    .dataframe tbody tr th {\n        vertical-align: top;\n    }\n\n    .dataframe thead th {\n        text-align: right;\n    }\n</style>\n<table border=\"1\" class=\"dataframe\">\n  <thead>\n    <tr style=\"text-align: right;\">\n      <th></th>\n      <th>Education</th>\n      <th>Marital_Status</th>\n      <th>Occupation</th>\n      <th>Annual_Income</th>\n    </tr>\n  </thead>\n  <tbody>\n    <tr>\n      <th>0</th>\n      <td>bachelors</td>\n      <td>never married</td>\n      <td>professional</td>\n      <td>high</td>\n    </tr>\n    <tr>\n      <th>1</th>\n      <td>doctorate</td>\n      <td>married</td>\n      <td>professional</td>\n      <td>mid</td>\n    </tr>\n    <tr>\n      <th>2</th>\n      <td>high school</td>\n      <td>never married</td>\n      <td>agriculture</td>\n      <td>low</td>\n    </tr>\n    <tr>\n      <th>3</th>\n      <td>bachelors</td>\n      <td>married</td>\n      <td>professional</td>\n      <td>mid</td>\n    </tr>\n    <tr>\n      <th>4</th>\n      <td>high school</td>\n      <td>married</td>\n      <td>agriculture</td>\n      <td>mid</td>\n    </tr>\n  </tbody>\n</table>\n</div>",
            "text/plain": "     Education Marital_Status    Occupation Annual_Income\n0    bachelors  never married  professional          high\n1    doctorate        married  professional           mid\n2  high school  never married   agriculture           low\n3    bachelors        married  professional           mid\n4  high school        married   agriculture           mid"
          },
          "metadata": {}
        }
      ]
    },
    {
      "metadata": {},
      "cell_type": "markdown",
      "source": "\n\nTo define the Computation part of Gini Impurity function;"
    },
    {
      "metadata": {
        "trusted": true,
        "scrolled": true
      },
      "cell_type": "code",
      "source": "def compute_impurity(feature, impurity_criterion):\n   \n    probs = feature.value_counts(normalize=True)\n    \n    if impurity_criterion == 'entropy':\n        impurity = -1 * np.sum(np.log2(probs) * probs)\n    elif impurity_criterion == 'gini':\n        impurity = 1 - np.sum(np.square(probs))\n    else:\n        raise ValueError('Unknown impurity criterion')\n        \n    return(round(impurity, 3))\n\nprint('impurity using gini index:', compute_impurity(catdata.iloc[:,3], 'gini'))\n",
      "execution_count": 11,
      "outputs": [
        {
          "output_type": "stream",
          "text": "impurity using gini index: 0.555\n",
          "name": "stdout"
        }
      ]
    },
    {
      "metadata": {},
      "cell_type": "markdown",
      "source": "The Gini Index is 0.555, which verifies the Gini Index found in the previous section."
    },
    {
      "metadata": {},
      "cell_type": "markdown",
      "source": "The Information Gain function;"
    },
    {
      "metadata": {
        "trusted": true
      },
      "cell_type": "code",
      "source": "def comp_feature_information_gain(df, target, descriptive_feature, split_criterion):  \n    print('target feature:', target)\n    print('descriptive_feature:', descriptive_feature)\n    print('split criterion:', split_criterion)\n            \n    target_entropy = compute_impurity(df[target], split_criterion)\n    entropy_list = list()\n    weight_list = list()\n    \n    for level in df[descriptive_feature].unique():\n        df_feature_level = df[df[descriptive_feature] == level]\n        entropy_level = compute_impurity(df_feature_level[target], split_criterion)\n        entropy_list.append(round(entropy_level, 3))\n        weight_level = len(df_feature_level) / len(df)\n        weight_list.append(round(weight_level, 3))\n\n    print('impurity of partitions:', entropy_list)\n    print('weights of partitions:', weight_list)\n\n    feature_remaining_impurity = np.sum(np.array(entropy_list) * np.array(weight_list))\n    print('remaining impurity:', feature_remaining_impurity)\n    \n    information_gain = target_entropy - feature_remaining_impurity\n    print('information gain:', information_gain)\n    \n    print('====================')\n\n    return(information_gain)",
      "execution_count": 12,
      "outputs": []
    },
    {
      "metadata": {},
      "cell_type": "markdown",
      "source": "To run the function for Education, Marital Status and Occupation;"
    },
    {
      "metadata": {
        "trusted": true
      },
      "cell_type": "code",
      "source": "split_criteria = 'gini'\nfor feature in catdata.drop(columns='Annual_Income').columns:\n    feature_info_gain = comp_feature_information_gain(catdata, 'Annual_Income', feature, split_criteria)",
      "execution_count": 13,
      "outputs": [
        {
          "output_type": "stream",
          "text": "target feature: Annual_Income\ndescriptive_feature: Education\nsplit criterion: gini\nimpurity of partitions: [0.531, 0.375, 0.625]\nweights of partitions: [0.4, 0.2, 0.4]\nremaining impurity: 0.5374000000000001\ninformation gain: 0.01759999999999995\n====================\ntarget feature: Annual_Income\ndescriptive_feature: Marital_Status\nsplit criterion: gini\nimpurity of partitions: [0.611, 0.42, 0.375]\nweights of partitions: [0.3, 0.5, 0.2]\nremaining impurity: 0.4683\ninformation gain: 0.08670000000000005\n====================\ntarget feature: Annual_Income\ndescriptive_feature: Occupation\nsplit criterion: gini\nimpurity of partitions: [0.5, 0.5, 0.278]\nweights of partitions: [0.4, 0.3, 0.3]\nremaining impurity: 0.4334\ninformation gain: 0.12160000000000004\n====================\n",
          "name": "stdout"
        }
      ]
    },
    {
      "metadata": {},
      "cell_type": "markdown",
      "source": "Based on the output of the function;"
    },
    {
      "metadata": {
        "trusted": true
      },
      "cell_type": "code",
      "source": "\nInfGainEducation = 0.017\nInfGainMarital_S = 0.087\nInfGainOccupation = 0.122\n\n\nRemEducation = 0.537\nRemMarital_S = 0.468\nRemOccupation = 0.433",
      "execution_count": 14,
      "outputs": []
    },
    {
      "metadata": {},
      "cell_type": "markdown",
      "source": "### Age's Information Gain Calculation"
    },
    {
      "metadata": {},
      "cell_type": "markdown",
      "source": "We first sort the data in an ascending order of the Age column"
    },
    {
      "metadata": {
        "trusted": true,
        "scrolled": false
      },
      "cell_type": "code",
      "source": "datasort = q1.sort_values(by='Age')\ndatasort",
      "execution_count": 15,
      "outputs": [
        {
          "output_type": "execute_result",
          "execution_count": 15,
          "data": {
            "text/html": "<div>\n<style scoped>\n    .dataframe tbody tr th:only-of-type {\n        vertical-align: middle;\n    }\n\n    .dataframe tbody tr th {\n        vertical-align: top;\n    }\n\n    .dataframe thead th {\n        text-align: right;\n    }\n</style>\n<table border=\"1\" class=\"dataframe\">\n  <thead>\n    <tr style=\"text-align: right;\">\n      <th></th>\n      <th>ID</th>\n      <th>Age</th>\n      <th>Education</th>\n      <th>Marital_Status</th>\n      <th>Occupation</th>\n      <th>Annual_Income</th>\n    </tr>\n  </thead>\n  <tbody>\n    <tr>\n      <th>2</th>\n      <td>3</td>\n      <td>18</td>\n      <td>high school</td>\n      <td>never married</td>\n      <td>agriculture</td>\n      <td>low</td>\n    </tr>\n    <tr>\n      <th>5</th>\n      <td>6</td>\n      <td>23</td>\n      <td>high school</td>\n      <td>never married</td>\n      <td>agriculture</td>\n      <td>low</td>\n    </tr>\n    <tr>\n      <th>12</th>\n      <td>13</td>\n      <td>23</td>\n      <td>bachelors</td>\n      <td>never married</td>\n      <td>agriculture</td>\n      <td>low</td>\n    </tr>\n    <tr>\n      <th>19</th>\n      <td>20</td>\n      <td>25</td>\n      <td>bachelors</td>\n      <td>married</td>\n      <td>transport</td>\n      <td>high</td>\n    </tr>\n    <tr>\n      <th>13</th>\n      <td>14</td>\n      <td>25</td>\n      <td>high school</td>\n      <td>married</td>\n      <td>professional</td>\n      <td>high</td>\n    </tr>\n    <tr>\n      <th>15</th>\n      <td>16</td>\n      <td>29</td>\n      <td>bachelors</td>\n      <td>never married</td>\n      <td>agriculture</td>\n      <td>mid</td>\n    </tr>\n    <tr>\n      <th>3</th>\n      <td>4</td>\n      <td>30</td>\n      <td>bachelors</td>\n      <td>married</td>\n      <td>professional</td>\n      <td>mid</td>\n    </tr>\n    <tr>\n      <th>9</th>\n      <td>10</td>\n      <td>33</td>\n      <td>high school</td>\n      <td>married</td>\n      <td>transport</td>\n      <td>mid</td>\n    </tr>\n    <tr>\n      <th>14</th>\n      <td>15</td>\n      <td>35</td>\n      <td>bachelors</td>\n      <td>married</td>\n      <td>agriculture</td>\n      <td>mid</td>\n    </tr>\n    <tr>\n      <th>10</th>\n      <td>11</td>\n      <td>36</td>\n      <td>high school</td>\n      <td>never married</td>\n      <td>transport</td>\n      <td>mid</td>\n    </tr>\n    <tr>\n      <th>4</th>\n      <td>5</td>\n      <td>37</td>\n      <td>high school</td>\n      <td>married</td>\n      <td>agriculture</td>\n      <td>mid</td>\n    </tr>\n    <tr>\n      <th>17</th>\n      <td>18</td>\n      <td>37</td>\n      <td>bachelors</td>\n      <td>married</td>\n      <td>professional</td>\n      <td>mid</td>\n    </tr>\n    <tr>\n      <th>18</th>\n      <td>19</td>\n      <td>39</td>\n      <td>high school</td>\n      <td>divorced</td>\n      <td>professional</td>\n      <td>high</td>\n    </tr>\n    <tr>\n      <th>0</th>\n      <td>1</td>\n      <td>39</td>\n      <td>bachelors</td>\n      <td>never married</td>\n      <td>professional</td>\n      <td>high</td>\n    </tr>\n    <tr>\n      <th>7</th>\n      <td>8</td>\n      <td>40</td>\n      <td>doctorate</td>\n      <td>married</td>\n      <td>professional</td>\n      <td>high</td>\n    </tr>\n    <tr>\n      <th>16</th>\n      <td>17</td>\n      <td>44</td>\n      <td>doctorate</td>\n      <td>divorced</td>\n      <td>transport</td>\n      <td>mid</td>\n    </tr>\n    <tr>\n      <th>11</th>\n      <td>12</td>\n      <td>45</td>\n      <td>doctorate</td>\n      <td>married</td>\n      <td>professional</td>\n      <td>mid</td>\n    </tr>\n    <tr>\n      <th>8</th>\n      <td>9</td>\n      <td>46</td>\n      <td>bachelors</td>\n      <td>divorced</td>\n      <td>transport</td>\n      <td>mid</td>\n    </tr>\n    <tr>\n      <th>1</th>\n      <td>2</td>\n      <td>50</td>\n      <td>doctorate</td>\n      <td>married</td>\n      <td>professional</td>\n      <td>mid</td>\n    </tr>\n    <tr>\n      <th>6</th>\n      <td>7</td>\n      <td>52</td>\n      <td>high school</td>\n      <td>divorced</td>\n      <td>transport</td>\n      <td>mid</td>\n    </tr>\n  </tbody>\n</table>\n</div>",
            "text/plain": "    ID  Age    Education Marital_Status    Occupation Annual_Income\n2    3   18  high school  never married   agriculture           low\n5    6   23  high school  never married   agriculture           low\n12  13   23    bachelors  never married   agriculture           low\n19  20   25    bachelors        married     transport          high\n13  14   25  high school        married  professional          high\n15  16   29    bachelors  never married   agriculture           mid\n3    4   30    bachelors        married  professional           mid\n9   10   33  high school        married     transport           mid\n14  15   35    bachelors        married   agriculture           mid\n10  11   36  high school  never married     transport           mid\n4    5   37  high school        married   agriculture           mid\n17  18   37    bachelors        married  professional           mid\n18  19   39  high school       divorced  professional          high\n0    1   39    bachelors  never married  professional          high\n7    8   40    doctorate        married  professional          high\n16  17   44    doctorate       divorced     transport           mid\n11  12   45    doctorate        married  professional           mid\n8    9   46    bachelors       divorced     transport           mid\n1    2   50    doctorate        married  professional           mid\n6    7   52  high school       divorced     transport           mid"
          },
          "metadata": {}
        }
      ]
    },
    {
      "metadata": {},
      "cell_type": "markdown",
      "source": "We then examine the points at which the target feature switches from high to low, medium to low, etc. The thresholds for age are `24,27, 38 and 47`. To find out the optimal threshold, the Information Gain needs to be calculated."
    },
    {
      "metadata": {},
      "cell_type": "markdown",
      "source": "To calculate the `Information Gain` of these thresholds, we begin by filtering the data for each threshold and computing the Partition Gini."
    },
    {
      "metadata": {},
      "cell_type": "markdown",
      "source": "#### For Age < 24:"
    },
    {
      "metadata": {
        "trusted": true,
        "scrolled": true
      },
      "cell_type": "code",
      "source": "datasort[datasort['Age'] <24]",
      "execution_count": 16,
      "outputs": [
        {
          "output_type": "execute_result",
          "execution_count": 16,
          "data": {
            "text/html": "<div>\n<style scoped>\n    .dataframe tbody tr th:only-of-type {\n        vertical-align: middle;\n    }\n\n    .dataframe tbody tr th {\n        vertical-align: top;\n    }\n\n    .dataframe thead th {\n        text-align: right;\n    }\n</style>\n<table border=\"1\" class=\"dataframe\">\n  <thead>\n    <tr style=\"text-align: right;\">\n      <th></th>\n      <th>ID</th>\n      <th>Age</th>\n      <th>Education</th>\n      <th>Marital_Status</th>\n      <th>Occupation</th>\n      <th>Annual_Income</th>\n    </tr>\n  </thead>\n  <tbody>\n    <tr>\n      <th>2</th>\n      <td>3</td>\n      <td>18</td>\n      <td>high school</td>\n      <td>never married</td>\n      <td>agriculture</td>\n      <td>low</td>\n    </tr>\n    <tr>\n      <th>5</th>\n      <td>6</td>\n      <td>23</td>\n      <td>high school</td>\n      <td>never married</td>\n      <td>agriculture</td>\n      <td>low</td>\n    </tr>\n    <tr>\n      <th>12</th>\n      <td>13</td>\n      <td>23</td>\n      <td>bachelors</td>\n      <td>never married</td>\n      <td>agriculture</td>\n      <td>low</td>\n    </tr>\n  </tbody>\n</table>\n</div>",
            "text/plain": "    ID  Age    Education Marital_Status   Occupation Annual_Income\n2    3   18  high school  never married  agriculture           low\n5    6   23  high school  never married  agriculture           low\n12  13   23    bachelors  never married  agriculture           low"
          },
          "metadata": {}
        }
      ]
    },
    {
      "metadata": {
        "trusted": true
      },
      "cell_type": "code",
      "source": "PartGL24 = 1 - ((3/3)**2)\nPartGL24",
      "execution_count": 17,
      "outputs": [
        {
          "output_type": "execute_result",
          "execution_count": 17,
          "data": {
            "text/plain": "0.0"
          },
          "metadata": {}
        }
      ]
    },
    {
      "metadata": {},
      "cell_type": "markdown",
      "source": "#### For Age >= 24:"
    },
    {
      "metadata": {
        "trusted": true
      },
      "cell_type": "code",
      "source": "datasort[datasort['Age'] >= 24]",
      "execution_count": 18,
      "outputs": [
        {
          "output_type": "execute_result",
          "execution_count": 18,
          "data": {
            "text/html": "<div>\n<style scoped>\n    .dataframe tbody tr th:only-of-type {\n        vertical-align: middle;\n    }\n\n    .dataframe tbody tr th {\n        vertical-align: top;\n    }\n\n    .dataframe thead th {\n        text-align: right;\n    }\n</style>\n<table border=\"1\" class=\"dataframe\">\n  <thead>\n    <tr style=\"text-align: right;\">\n      <th></th>\n      <th>ID</th>\n      <th>Age</th>\n      <th>Education</th>\n      <th>Marital_Status</th>\n      <th>Occupation</th>\n      <th>Annual_Income</th>\n    </tr>\n  </thead>\n  <tbody>\n    <tr>\n      <th>19</th>\n      <td>20</td>\n      <td>25</td>\n      <td>bachelors</td>\n      <td>married</td>\n      <td>transport</td>\n      <td>high</td>\n    </tr>\n    <tr>\n      <th>13</th>\n      <td>14</td>\n      <td>25</td>\n      <td>high school</td>\n      <td>married</td>\n      <td>professional</td>\n      <td>high</td>\n    </tr>\n    <tr>\n      <th>15</th>\n      <td>16</td>\n      <td>29</td>\n      <td>bachelors</td>\n      <td>never married</td>\n      <td>agriculture</td>\n      <td>mid</td>\n    </tr>\n    <tr>\n      <th>3</th>\n      <td>4</td>\n      <td>30</td>\n      <td>bachelors</td>\n      <td>married</td>\n      <td>professional</td>\n      <td>mid</td>\n    </tr>\n    <tr>\n      <th>9</th>\n      <td>10</td>\n      <td>33</td>\n      <td>high school</td>\n      <td>married</td>\n      <td>transport</td>\n      <td>mid</td>\n    </tr>\n    <tr>\n      <th>14</th>\n      <td>15</td>\n      <td>35</td>\n      <td>bachelors</td>\n      <td>married</td>\n      <td>agriculture</td>\n      <td>mid</td>\n    </tr>\n    <tr>\n      <th>10</th>\n      <td>11</td>\n      <td>36</td>\n      <td>high school</td>\n      <td>never married</td>\n      <td>transport</td>\n      <td>mid</td>\n    </tr>\n    <tr>\n      <th>4</th>\n      <td>5</td>\n      <td>37</td>\n      <td>high school</td>\n      <td>married</td>\n      <td>agriculture</td>\n      <td>mid</td>\n    </tr>\n    <tr>\n      <th>17</th>\n      <td>18</td>\n      <td>37</td>\n      <td>bachelors</td>\n      <td>married</td>\n      <td>professional</td>\n      <td>mid</td>\n    </tr>\n    <tr>\n      <th>18</th>\n      <td>19</td>\n      <td>39</td>\n      <td>high school</td>\n      <td>divorced</td>\n      <td>professional</td>\n      <td>high</td>\n    </tr>\n    <tr>\n      <th>0</th>\n      <td>1</td>\n      <td>39</td>\n      <td>bachelors</td>\n      <td>never married</td>\n      <td>professional</td>\n      <td>high</td>\n    </tr>\n    <tr>\n      <th>7</th>\n      <td>8</td>\n      <td>40</td>\n      <td>doctorate</td>\n      <td>married</td>\n      <td>professional</td>\n      <td>high</td>\n    </tr>\n    <tr>\n      <th>16</th>\n      <td>17</td>\n      <td>44</td>\n      <td>doctorate</td>\n      <td>divorced</td>\n      <td>transport</td>\n      <td>mid</td>\n    </tr>\n    <tr>\n      <th>11</th>\n      <td>12</td>\n      <td>45</td>\n      <td>doctorate</td>\n      <td>married</td>\n      <td>professional</td>\n      <td>mid</td>\n    </tr>\n    <tr>\n      <th>8</th>\n      <td>9</td>\n      <td>46</td>\n      <td>bachelors</td>\n      <td>divorced</td>\n      <td>transport</td>\n      <td>mid</td>\n    </tr>\n    <tr>\n      <th>1</th>\n      <td>2</td>\n      <td>50</td>\n      <td>doctorate</td>\n      <td>married</td>\n      <td>professional</td>\n      <td>mid</td>\n    </tr>\n    <tr>\n      <th>6</th>\n      <td>7</td>\n      <td>52</td>\n      <td>high school</td>\n      <td>divorced</td>\n      <td>transport</td>\n      <td>mid</td>\n    </tr>\n  </tbody>\n</table>\n</div>",
            "text/plain": "    ID  Age    Education Marital_Status    Occupation Annual_Income\n19  20   25    bachelors        married     transport          high\n13  14   25  high school        married  professional          high\n15  16   29    bachelors  never married   agriculture           mid\n3    4   30    bachelors        married  professional           mid\n9   10   33  high school        married     transport           mid\n14  15   35    bachelors        married   agriculture           mid\n10  11   36  high school  never married     transport           mid\n4    5   37  high school        married   agriculture           mid\n17  18   37    bachelors        married  professional           mid\n18  19   39  high school       divorced  professional          high\n0    1   39    bachelors  never married  professional          high\n7    8   40    doctorate        married  professional          high\n16  17   44    doctorate       divorced     transport           mid\n11  12   45    doctorate        married  professional           mid\n8    9   46    bachelors       divorced     transport           mid\n1    2   50    doctorate        married  professional           mid\n6    7   52  high school       divorced     transport           mid"
          },
          "metadata": {}
        }
      ]
    },
    {
      "metadata": {
        "trusted": true,
        "scrolled": true
      },
      "cell_type": "code",
      "source": "PartGG24 = 1- ((5/17)**2 + (12/17)**2 )\nPartGG24",
      "execution_count": 19,
      "outputs": [
        {
          "output_type": "execute_result",
          "execution_count": 19,
          "data": {
            "text/plain": "0.4152249134948096"
          },
          "metadata": {}
        }
      ]
    },
    {
      "metadata": {
        "trusted": true
      },
      "cell_type": "code",
      "source": "PartGG24 = 0.415 # rounded to 3 decimals.",
      "execution_count": 20,
      "outputs": []
    },
    {
      "metadata": {},
      "cell_type": "markdown",
      "source": "#### For Age < 27:"
    },
    {
      "metadata": {
        "trusted": true
      },
      "cell_type": "code",
      "source": "datasort[datasort['Age'] < 27]",
      "execution_count": 21,
      "outputs": [
        {
          "output_type": "execute_result",
          "execution_count": 21,
          "data": {
            "text/html": "<div>\n<style scoped>\n    .dataframe tbody tr th:only-of-type {\n        vertical-align: middle;\n    }\n\n    .dataframe tbody tr th {\n        vertical-align: top;\n    }\n\n    .dataframe thead th {\n        text-align: right;\n    }\n</style>\n<table border=\"1\" class=\"dataframe\">\n  <thead>\n    <tr style=\"text-align: right;\">\n      <th></th>\n      <th>ID</th>\n      <th>Age</th>\n      <th>Education</th>\n      <th>Marital_Status</th>\n      <th>Occupation</th>\n      <th>Annual_Income</th>\n    </tr>\n  </thead>\n  <tbody>\n    <tr>\n      <th>2</th>\n      <td>3</td>\n      <td>18</td>\n      <td>high school</td>\n      <td>never married</td>\n      <td>agriculture</td>\n      <td>low</td>\n    </tr>\n    <tr>\n      <th>5</th>\n      <td>6</td>\n      <td>23</td>\n      <td>high school</td>\n      <td>never married</td>\n      <td>agriculture</td>\n      <td>low</td>\n    </tr>\n    <tr>\n      <th>12</th>\n      <td>13</td>\n      <td>23</td>\n      <td>bachelors</td>\n      <td>never married</td>\n      <td>agriculture</td>\n      <td>low</td>\n    </tr>\n    <tr>\n      <th>19</th>\n      <td>20</td>\n      <td>25</td>\n      <td>bachelors</td>\n      <td>married</td>\n      <td>transport</td>\n      <td>high</td>\n    </tr>\n    <tr>\n      <th>13</th>\n      <td>14</td>\n      <td>25</td>\n      <td>high school</td>\n      <td>married</td>\n      <td>professional</td>\n      <td>high</td>\n    </tr>\n  </tbody>\n</table>\n</div>",
            "text/plain": "    ID  Age    Education Marital_Status    Occupation Annual_Income\n2    3   18  high school  never married   agriculture           low\n5    6   23  high school  never married   agriculture           low\n12  13   23    bachelors  never married   agriculture           low\n19  20   25    bachelors        married     transport          high\n13  14   25  high school        married  professional          high"
          },
          "metadata": {}
        }
      ]
    },
    {
      "metadata": {
        "trusted": true
      },
      "cell_type": "code",
      "source": "PartGL27  = 1 - ((3/5)**2 + (2/5)**2)\nPartGL27",
      "execution_count": 22,
      "outputs": [
        {
          "output_type": "execute_result",
          "execution_count": 22,
          "data": {
            "text/plain": "0.48"
          },
          "metadata": {}
        }
      ]
    },
    {
      "metadata": {},
      "cell_type": "markdown",
      "source": "#### For Age >= 27:"
    },
    {
      "metadata": {
        "trusted": true
      },
      "cell_type": "code",
      "source": "datasort[datasort['Age'] >= 27]",
      "execution_count": 23,
      "outputs": [
        {
          "output_type": "execute_result",
          "execution_count": 23,
          "data": {
            "text/html": "<div>\n<style scoped>\n    .dataframe tbody tr th:only-of-type {\n        vertical-align: middle;\n    }\n\n    .dataframe tbody tr th {\n        vertical-align: top;\n    }\n\n    .dataframe thead th {\n        text-align: right;\n    }\n</style>\n<table border=\"1\" class=\"dataframe\">\n  <thead>\n    <tr style=\"text-align: right;\">\n      <th></th>\n      <th>ID</th>\n      <th>Age</th>\n      <th>Education</th>\n      <th>Marital_Status</th>\n      <th>Occupation</th>\n      <th>Annual_Income</th>\n    </tr>\n  </thead>\n  <tbody>\n    <tr>\n      <th>15</th>\n      <td>16</td>\n      <td>29</td>\n      <td>bachelors</td>\n      <td>never married</td>\n      <td>agriculture</td>\n      <td>mid</td>\n    </tr>\n    <tr>\n      <th>3</th>\n      <td>4</td>\n      <td>30</td>\n      <td>bachelors</td>\n      <td>married</td>\n      <td>professional</td>\n      <td>mid</td>\n    </tr>\n    <tr>\n      <th>9</th>\n      <td>10</td>\n      <td>33</td>\n      <td>high school</td>\n      <td>married</td>\n      <td>transport</td>\n      <td>mid</td>\n    </tr>\n    <tr>\n      <th>14</th>\n      <td>15</td>\n      <td>35</td>\n      <td>bachelors</td>\n      <td>married</td>\n      <td>agriculture</td>\n      <td>mid</td>\n    </tr>\n    <tr>\n      <th>10</th>\n      <td>11</td>\n      <td>36</td>\n      <td>high school</td>\n      <td>never married</td>\n      <td>transport</td>\n      <td>mid</td>\n    </tr>\n    <tr>\n      <th>4</th>\n      <td>5</td>\n      <td>37</td>\n      <td>high school</td>\n      <td>married</td>\n      <td>agriculture</td>\n      <td>mid</td>\n    </tr>\n    <tr>\n      <th>17</th>\n      <td>18</td>\n      <td>37</td>\n      <td>bachelors</td>\n      <td>married</td>\n      <td>professional</td>\n      <td>mid</td>\n    </tr>\n    <tr>\n      <th>18</th>\n      <td>19</td>\n      <td>39</td>\n      <td>high school</td>\n      <td>divorced</td>\n      <td>professional</td>\n      <td>high</td>\n    </tr>\n    <tr>\n      <th>0</th>\n      <td>1</td>\n      <td>39</td>\n      <td>bachelors</td>\n      <td>never married</td>\n      <td>professional</td>\n      <td>high</td>\n    </tr>\n    <tr>\n      <th>7</th>\n      <td>8</td>\n      <td>40</td>\n      <td>doctorate</td>\n      <td>married</td>\n      <td>professional</td>\n      <td>high</td>\n    </tr>\n    <tr>\n      <th>16</th>\n      <td>17</td>\n      <td>44</td>\n      <td>doctorate</td>\n      <td>divorced</td>\n      <td>transport</td>\n      <td>mid</td>\n    </tr>\n    <tr>\n      <th>11</th>\n      <td>12</td>\n      <td>45</td>\n      <td>doctorate</td>\n      <td>married</td>\n      <td>professional</td>\n      <td>mid</td>\n    </tr>\n    <tr>\n      <th>8</th>\n      <td>9</td>\n      <td>46</td>\n      <td>bachelors</td>\n      <td>divorced</td>\n      <td>transport</td>\n      <td>mid</td>\n    </tr>\n    <tr>\n      <th>1</th>\n      <td>2</td>\n      <td>50</td>\n      <td>doctorate</td>\n      <td>married</td>\n      <td>professional</td>\n      <td>mid</td>\n    </tr>\n    <tr>\n      <th>6</th>\n      <td>7</td>\n      <td>52</td>\n      <td>high school</td>\n      <td>divorced</td>\n      <td>transport</td>\n      <td>mid</td>\n    </tr>\n  </tbody>\n</table>\n</div>",
            "text/plain": "    ID  Age    Education Marital_Status    Occupation Annual_Income\n15  16   29    bachelors  never married   agriculture           mid\n3    4   30    bachelors        married  professional           mid\n9   10   33  high school        married     transport           mid\n14  15   35    bachelors        married   agriculture           mid\n10  11   36  high school  never married     transport           mid\n4    5   37  high school        married   agriculture           mid\n17  18   37    bachelors        married  professional           mid\n18  19   39  high school       divorced  professional          high\n0    1   39    bachelors  never married  professional          high\n7    8   40    doctorate        married  professional          high\n16  17   44    doctorate       divorced     transport           mid\n11  12   45    doctorate        married  professional           mid\n8    9   46    bachelors       divorced     transport           mid\n1    2   50    doctorate        married  professional           mid\n6    7   52  high school       divorced     transport           mid"
          },
          "metadata": {}
        }
      ]
    },
    {
      "metadata": {
        "trusted": true
      },
      "cell_type": "code",
      "source": "PartGG27 = 1-((3/15)**2+(12/15)**2)\nPartGG27",
      "execution_count": 24,
      "outputs": [
        {
          "output_type": "execute_result",
          "execution_count": 24,
          "data": {
            "text/plain": "0.31999999999999984"
          },
          "metadata": {}
        }
      ]
    },
    {
      "metadata": {
        "trusted": true
      },
      "cell_type": "code",
      "source": "PartGG27 = 0.314 # as it is requested, it is rounded for 3 decimals.",
      "execution_count": 25,
      "outputs": []
    },
    {
      "metadata": {},
      "cell_type": "markdown",
      "source": "#### For  Age < 38 :"
    },
    {
      "metadata": {
        "trusted": true,
        "scrolled": false
      },
      "cell_type": "code",
      "source": "datasort[datasort['Age'] < 38]",
      "execution_count": 26,
      "outputs": [
        {
          "output_type": "execute_result",
          "execution_count": 26,
          "data": {
            "text/html": "<div>\n<style scoped>\n    .dataframe tbody tr th:only-of-type {\n        vertical-align: middle;\n    }\n\n    .dataframe tbody tr th {\n        vertical-align: top;\n    }\n\n    .dataframe thead th {\n        text-align: right;\n    }\n</style>\n<table border=\"1\" class=\"dataframe\">\n  <thead>\n    <tr style=\"text-align: right;\">\n      <th></th>\n      <th>ID</th>\n      <th>Age</th>\n      <th>Education</th>\n      <th>Marital_Status</th>\n      <th>Occupation</th>\n      <th>Annual_Income</th>\n    </tr>\n  </thead>\n  <tbody>\n    <tr>\n      <th>2</th>\n      <td>3</td>\n      <td>18</td>\n      <td>high school</td>\n      <td>never married</td>\n      <td>agriculture</td>\n      <td>low</td>\n    </tr>\n    <tr>\n      <th>5</th>\n      <td>6</td>\n      <td>23</td>\n      <td>high school</td>\n      <td>never married</td>\n      <td>agriculture</td>\n      <td>low</td>\n    </tr>\n    <tr>\n      <th>12</th>\n      <td>13</td>\n      <td>23</td>\n      <td>bachelors</td>\n      <td>never married</td>\n      <td>agriculture</td>\n      <td>low</td>\n    </tr>\n    <tr>\n      <th>19</th>\n      <td>20</td>\n      <td>25</td>\n      <td>bachelors</td>\n      <td>married</td>\n      <td>transport</td>\n      <td>high</td>\n    </tr>\n    <tr>\n      <th>13</th>\n      <td>14</td>\n      <td>25</td>\n      <td>high school</td>\n      <td>married</td>\n      <td>professional</td>\n      <td>high</td>\n    </tr>\n    <tr>\n      <th>15</th>\n      <td>16</td>\n      <td>29</td>\n      <td>bachelors</td>\n      <td>never married</td>\n      <td>agriculture</td>\n      <td>mid</td>\n    </tr>\n    <tr>\n      <th>3</th>\n      <td>4</td>\n      <td>30</td>\n      <td>bachelors</td>\n      <td>married</td>\n      <td>professional</td>\n      <td>mid</td>\n    </tr>\n    <tr>\n      <th>9</th>\n      <td>10</td>\n      <td>33</td>\n      <td>high school</td>\n      <td>married</td>\n      <td>transport</td>\n      <td>mid</td>\n    </tr>\n    <tr>\n      <th>14</th>\n      <td>15</td>\n      <td>35</td>\n      <td>bachelors</td>\n      <td>married</td>\n      <td>agriculture</td>\n      <td>mid</td>\n    </tr>\n    <tr>\n      <th>10</th>\n      <td>11</td>\n      <td>36</td>\n      <td>high school</td>\n      <td>never married</td>\n      <td>transport</td>\n      <td>mid</td>\n    </tr>\n    <tr>\n      <th>4</th>\n      <td>5</td>\n      <td>37</td>\n      <td>high school</td>\n      <td>married</td>\n      <td>agriculture</td>\n      <td>mid</td>\n    </tr>\n    <tr>\n      <th>17</th>\n      <td>18</td>\n      <td>37</td>\n      <td>bachelors</td>\n      <td>married</td>\n      <td>professional</td>\n      <td>mid</td>\n    </tr>\n  </tbody>\n</table>\n</div>",
            "text/plain": "    ID  Age    Education Marital_Status    Occupation Annual_Income\n2    3   18  high school  never married   agriculture           low\n5    6   23  high school  never married   agriculture           low\n12  13   23    bachelors  never married   agriculture           low\n19  20   25    bachelors        married     transport          high\n13  14   25  high school        married  professional          high\n15  16   29    bachelors  never married   agriculture           mid\n3    4   30    bachelors        married  professional           mid\n9   10   33  high school        married     transport           mid\n14  15   35    bachelors        married   agriculture           mid\n10  11   36  high school  never married     transport           mid\n4    5   37  high school        married   agriculture           mid\n17  18   37    bachelors        married  professional           mid"
          },
          "metadata": {}
        }
      ]
    },
    {
      "metadata": {
        "trusted": true,
        "scrolled": true
      },
      "cell_type": "code",
      "source": "PartGL38 = 1 - ((3/12)**2 + (2/12)**2 + (7/12)**2)\nPartGL38",
      "execution_count": 27,
      "outputs": [
        {
          "output_type": "execute_result",
          "execution_count": 27,
          "data": {
            "text/plain": "0.5694444444444444"
          },
          "metadata": {}
        }
      ]
    },
    {
      "metadata": {
        "trusted": true
      },
      "cell_type": "code",
      "source": "PartGL38 = 0.569 # as it is requested, it is rounded for 3 decimals.",
      "execution_count": 28,
      "outputs": []
    },
    {
      "metadata": {},
      "cell_type": "markdown",
      "source": "#### For Age >= 38:"
    },
    {
      "metadata": {
        "trusted": true,
        "scrolled": false
      },
      "cell_type": "code",
      "source": "datasort[datasort['Age'] >= 38]",
      "execution_count": 29,
      "outputs": [
        {
          "output_type": "execute_result",
          "execution_count": 29,
          "data": {
            "text/html": "<div>\n<style scoped>\n    .dataframe tbody tr th:only-of-type {\n        vertical-align: middle;\n    }\n\n    .dataframe tbody tr th {\n        vertical-align: top;\n    }\n\n    .dataframe thead th {\n        text-align: right;\n    }\n</style>\n<table border=\"1\" class=\"dataframe\">\n  <thead>\n    <tr style=\"text-align: right;\">\n      <th></th>\n      <th>ID</th>\n      <th>Age</th>\n      <th>Education</th>\n      <th>Marital_Status</th>\n      <th>Occupation</th>\n      <th>Annual_Income</th>\n    </tr>\n  </thead>\n  <tbody>\n    <tr>\n      <th>18</th>\n      <td>19</td>\n      <td>39</td>\n      <td>high school</td>\n      <td>divorced</td>\n      <td>professional</td>\n      <td>high</td>\n    </tr>\n    <tr>\n      <th>0</th>\n      <td>1</td>\n      <td>39</td>\n      <td>bachelors</td>\n      <td>never married</td>\n      <td>professional</td>\n      <td>high</td>\n    </tr>\n    <tr>\n      <th>7</th>\n      <td>8</td>\n      <td>40</td>\n      <td>doctorate</td>\n      <td>married</td>\n      <td>professional</td>\n      <td>high</td>\n    </tr>\n    <tr>\n      <th>16</th>\n      <td>17</td>\n      <td>44</td>\n      <td>doctorate</td>\n      <td>divorced</td>\n      <td>transport</td>\n      <td>mid</td>\n    </tr>\n    <tr>\n      <th>11</th>\n      <td>12</td>\n      <td>45</td>\n      <td>doctorate</td>\n      <td>married</td>\n      <td>professional</td>\n      <td>mid</td>\n    </tr>\n    <tr>\n      <th>8</th>\n      <td>9</td>\n      <td>46</td>\n      <td>bachelors</td>\n      <td>divorced</td>\n      <td>transport</td>\n      <td>mid</td>\n    </tr>\n    <tr>\n      <th>1</th>\n      <td>2</td>\n      <td>50</td>\n      <td>doctorate</td>\n      <td>married</td>\n      <td>professional</td>\n      <td>mid</td>\n    </tr>\n    <tr>\n      <th>6</th>\n      <td>7</td>\n      <td>52</td>\n      <td>high school</td>\n      <td>divorced</td>\n      <td>transport</td>\n      <td>mid</td>\n    </tr>\n  </tbody>\n</table>\n</div>",
            "text/plain": "    ID  Age    Education Marital_Status    Occupation Annual_Income\n18  19   39  high school       divorced  professional          high\n0    1   39    bachelors  never married  professional          high\n7    8   40    doctorate        married  professional          high\n16  17   44    doctorate       divorced     transport           mid\n11  12   45    doctorate        married  professional           mid\n8    9   46    bachelors       divorced     transport           mid\n1    2   50    doctorate        married  professional           mid\n6    7   52  high school       divorced     transport           mid"
          },
          "metadata": {}
        }
      ]
    },
    {
      "metadata": {
        "trusted": true,
        "scrolled": true
      },
      "cell_type": "code",
      "source": "PartGG38 = 1 - ((3/8)**2 + (5/8)**2)\nPartGG38",
      "execution_count": 30,
      "outputs": [
        {
          "output_type": "execute_result",
          "execution_count": 30,
          "data": {
            "text/plain": "0.46875"
          },
          "metadata": {}
        }
      ]
    },
    {
      "metadata": {
        "trusted": true
      },
      "cell_type": "code",
      "source": "PartGG38 = 0.468 # as it is requested, it is rounded for 3 decimals.",
      "execution_count": 31,
      "outputs": []
    },
    {
      "metadata": {},
      "cell_type": "markdown",
      "source": "#### For Age < 42 threshold:"
    },
    {
      "metadata": {
        "trusted": true
      },
      "cell_type": "code",
      "source": "datasort[datasort['Age'] < 42]",
      "execution_count": 32,
      "outputs": [
        {
          "output_type": "execute_result",
          "execution_count": 32,
          "data": {
            "text/html": "<div>\n<style scoped>\n    .dataframe tbody tr th:only-of-type {\n        vertical-align: middle;\n    }\n\n    .dataframe tbody tr th {\n        vertical-align: top;\n    }\n\n    .dataframe thead th {\n        text-align: right;\n    }\n</style>\n<table border=\"1\" class=\"dataframe\">\n  <thead>\n    <tr style=\"text-align: right;\">\n      <th></th>\n      <th>ID</th>\n      <th>Age</th>\n      <th>Education</th>\n      <th>Marital_Status</th>\n      <th>Occupation</th>\n      <th>Annual_Income</th>\n    </tr>\n  </thead>\n  <tbody>\n    <tr>\n      <th>2</th>\n      <td>3</td>\n      <td>18</td>\n      <td>high school</td>\n      <td>never married</td>\n      <td>agriculture</td>\n      <td>low</td>\n    </tr>\n    <tr>\n      <th>5</th>\n      <td>6</td>\n      <td>23</td>\n      <td>high school</td>\n      <td>never married</td>\n      <td>agriculture</td>\n      <td>low</td>\n    </tr>\n    <tr>\n      <th>12</th>\n      <td>13</td>\n      <td>23</td>\n      <td>bachelors</td>\n      <td>never married</td>\n      <td>agriculture</td>\n      <td>low</td>\n    </tr>\n    <tr>\n      <th>19</th>\n      <td>20</td>\n      <td>25</td>\n      <td>bachelors</td>\n      <td>married</td>\n      <td>transport</td>\n      <td>high</td>\n    </tr>\n    <tr>\n      <th>13</th>\n      <td>14</td>\n      <td>25</td>\n      <td>high school</td>\n      <td>married</td>\n      <td>professional</td>\n      <td>high</td>\n    </tr>\n    <tr>\n      <th>15</th>\n      <td>16</td>\n      <td>29</td>\n      <td>bachelors</td>\n      <td>never married</td>\n      <td>agriculture</td>\n      <td>mid</td>\n    </tr>\n    <tr>\n      <th>3</th>\n      <td>4</td>\n      <td>30</td>\n      <td>bachelors</td>\n      <td>married</td>\n      <td>professional</td>\n      <td>mid</td>\n    </tr>\n    <tr>\n      <th>9</th>\n      <td>10</td>\n      <td>33</td>\n      <td>high school</td>\n      <td>married</td>\n      <td>transport</td>\n      <td>mid</td>\n    </tr>\n    <tr>\n      <th>14</th>\n      <td>15</td>\n      <td>35</td>\n      <td>bachelors</td>\n      <td>married</td>\n      <td>agriculture</td>\n      <td>mid</td>\n    </tr>\n    <tr>\n      <th>10</th>\n      <td>11</td>\n      <td>36</td>\n      <td>high school</td>\n      <td>never married</td>\n      <td>transport</td>\n      <td>mid</td>\n    </tr>\n    <tr>\n      <th>4</th>\n      <td>5</td>\n      <td>37</td>\n      <td>high school</td>\n      <td>married</td>\n      <td>agriculture</td>\n      <td>mid</td>\n    </tr>\n    <tr>\n      <th>17</th>\n      <td>18</td>\n      <td>37</td>\n      <td>bachelors</td>\n      <td>married</td>\n      <td>professional</td>\n      <td>mid</td>\n    </tr>\n    <tr>\n      <th>18</th>\n      <td>19</td>\n      <td>39</td>\n      <td>high school</td>\n      <td>divorced</td>\n      <td>professional</td>\n      <td>high</td>\n    </tr>\n    <tr>\n      <th>0</th>\n      <td>1</td>\n      <td>39</td>\n      <td>bachelors</td>\n      <td>never married</td>\n      <td>professional</td>\n      <td>high</td>\n    </tr>\n    <tr>\n      <th>7</th>\n      <td>8</td>\n      <td>40</td>\n      <td>doctorate</td>\n      <td>married</td>\n      <td>professional</td>\n      <td>high</td>\n    </tr>\n  </tbody>\n</table>\n</div>",
            "text/plain": "    ID  Age    Education Marital_Status    Occupation Annual_Income\n2    3   18  high school  never married   agriculture           low\n5    6   23  high school  never married   agriculture           low\n12  13   23    bachelors  never married   agriculture           low\n19  20   25    bachelors        married     transport          high\n13  14   25  high school        married  professional          high\n15  16   29    bachelors  never married   agriculture           mid\n3    4   30    bachelors        married  professional           mid\n9   10   33  high school        married     transport           mid\n14  15   35    bachelors        married   agriculture           mid\n10  11   36  high school  never married     transport           mid\n4    5   37  high school        married   agriculture           mid\n17  18   37    bachelors        married  professional           mid\n18  19   39  high school       divorced  professional          high\n0    1   39    bachelors  never married  professional          high\n7    8   40    doctorate        married  professional          high"
          },
          "metadata": {}
        }
      ]
    },
    {
      "metadata": {
        "trusted": true
      },
      "cell_type": "code",
      "source": "PartGL42 = 1 - ((3/15)**2 + (5/15)**2 + (7/15)**2)\nPartGL42",
      "execution_count": 33,
      "outputs": [
        {
          "output_type": "execute_result",
          "execution_count": 33,
          "data": {
            "text/plain": "0.6311111111111111"
          },
          "metadata": {}
        }
      ]
    },
    {
      "metadata": {
        "trusted": true
      },
      "cell_type": "code",
      "source": "PartGL42 = 0.631 # as it is requested, it is rounded for 3 decimals.",
      "execution_count": 34,
      "outputs": []
    },
    {
      "metadata": {},
      "cell_type": "markdown",
      "source": "#### For Age >= 42:"
    },
    {
      "metadata": {
        "trusted": true
      },
      "cell_type": "code",
      "source": "datasort[datasort['Age'] >= 42]",
      "execution_count": 35,
      "outputs": [
        {
          "output_type": "execute_result",
          "execution_count": 35,
          "data": {
            "text/html": "<div>\n<style scoped>\n    .dataframe tbody tr th:only-of-type {\n        vertical-align: middle;\n    }\n\n    .dataframe tbody tr th {\n        vertical-align: top;\n    }\n\n    .dataframe thead th {\n        text-align: right;\n    }\n</style>\n<table border=\"1\" class=\"dataframe\">\n  <thead>\n    <tr style=\"text-align: right;\">\n      <th></th>\n      <th>ID</th>\n      <th>Age</th>\n      <th>Education</th>\n      <th>Marital_Status</th>\n      <th>Occupation</th>\n      <th>Annual_Income</th>\n    </tr>\n  </thead>\n  <tbody>\n    <tr>\n      <th>16</th>\n      <td>17</td>\n      <td>44</td>\n      <td>doctorate</td>\n      <td>divorced</td>\n      <td>transport</td>\n      <td>mid</td>\n    </tr>\n    <tr>\n      <th>11</th>\n      <td>12</td>\n      <td>45</td>\n      <td>doctorate</td>\n      <td>married</td>\n      <td>professional</td>\n      <td>mid</td>\n    </tr>\n    <tr>\n      <th>8</th>\n      <td>9</td>\n      <td>46</td>\n      <td>bachelors</td>\n      <td>divorced</td>\n      <td>transport</td>\n      <td>mid</td>\n    </tr>\n    <tr>\n      <th>1</th>\n      <td>2</td>\n      <td>50</td>\n      <td>doctorate</td>\n      <td>married</td>\n      <td>professional</td>\n      <td>mid</td>\n    </tr>\n    <tr>\n      <th>6</th>\n      <td>7</td>\n      <td>52</td>\n      <td>high school</td>\n      <td>divorced</td>\n      <td>transport</td>\n      <td>mid</td>\n    </tr>\n  </tbody>\n</table>\n</div>",
            "text/plain": "    ID  Age    Education Marital_Status    Occupation Annual_Income\n16  17   44    doctorate       divorced     transport           mid\n11  12   45    doctorate        married  professional           mid\n8    9   46    bachelors       divorced     transport           mid\n1    2   50    doctorate        married  professional           mid\n6    7   52  high school       divorced     transport           mid"
          },
          "metadata": {}
        }
      ]
    },
    {
      "metadata": {
        "trusted": true
      },
      "cell_type": "code",
      "source": "PartGG42 = 1 - ((5/5)**2)\nPartGG42",
      "execution_count": 36,
      "outputs": [
        {
          "output_type": "execute_result",
          "execution_count": 36,
          "data": {
            "text/plain": "0.0"
          },
          "metadata": {}
        }
      ]
    },
    {
      "metadata": {},
      "cell_type": "markdown",
      "source": "Remainders for each threshold equal to the Weight of the partitions which is the number of instances in the each partitions / Total number of instances, computed for each partition. \n\n$$ Remainder =\\sum_l^{} Weight of each Partition * Partition Gini Index$$\n"
    },
    {
      "metadata": {},
      "cell_type": "markdown",
      "source": "#### For Age = 24;"
    },
    {
      "metadata": {
        "trusted": true
      },
      "cell_type": "code",
      "source": "Rem24 = ((3/20)*PartGL24) + ((17/20)*PartGG24)\nRem24",
      "execution_count": 37,
      "outputs": [
        {
          "output_type": "execute_result",
          "execution_count": 37,
          "data": {
            "text/plain": "0.35274999999999995"
          },
          "metadata": {}
        }
      ]
    },
    {
      "metadata": {
        "trusted": true
      },
      "cell_type": "code",
      "source": "Rem24 = 0.353 # as it is requested, it is rounded for 3 decimals.",
      "execution_count": 38,
      "outputs": []
    },
    {
      "metadata": {},
      "cell_type": "markdown",
      "source": "#### For Age = 27;"
    },
    {
      "metadata": {
        "trusted": true
      },
      "cell_type": "code",
      "source": "Rem27 = ((5/20)*PartGL27) + ((15/20)*PartGG27)\nRem27",
      "execution_count": 39,
      "outputs": [
        {
          "output_type": "execute_result",
          "execution_count": 39,
          "data": {
            "text/plain": "0.3555"
          },
          "metadata": {}
        }
      ]
    },
    {
      "metadata": {
        "trusted": true
      },
      "cell_type": "code",
      "source": "Rem27 = 0.36 # as it is requested, it is rounded for 3 decimals.",
      "execution_count": 40,
      "outputs": []
    },
    {
      "metadata": {},
      "cell_type": "markdown",
      "source": "#### For Age = 38;"
    },
    {
      "metadata": {
        "trusted": true
      },
      "cell_type": "code",
      "source": "Rem38 = ((12/20)*PartGL38) + ((8/20)*PartGG38)\nRem38",
      "execution_count": 41,
      "outputs": [
        {
          "output_type": "execute_result",
          "execution_count": 41,
          "data": {
            "text/plain": "0.5286"
          },
          "metadata": {}
        }
      ]
    },
    {
      "metadata": {
        "trusted": true
      },
      "cell_type": "code",
      "source": "Rem38 = 0.53 # as it is requested, it is rounded for 3 decimals.",
      "execution_count": 42,
      "outputs": []
    },
    {
      "metadata": {},
      "cell_type": "markdown",
      "source": "#### For Age = 42;"
    },
    {
      "metadata": {
        "trusted": true
      },
      "cell_type": "code",
      "source": "Rem42 = ((15/20)*PartGL42) + ((5/20)*PartGG42)\nRem42",
      "execution_count": 43,
      "outputs": [
        {
          "output_type": "execute_result",
          "execution_count": 43,
          "data": {
            "text/plain": "0.47325"
          },
          "metadata": {}
        }
      ]
    },
    {
      "metadata": {
        "trusted": true
      },
      "cell_type": "code",
      "source": "Rem42 = 0.473",
      "execution_count": 44,
      "outputs": []
    },
    {
      "metadata": {},
      "cell_type": "markdown",
      "source": "$$ Information Gain = Gini Index - Remainder $$"
    },
    {
      "metadata": {},
      "cell_type": "markdown",
      "source": "#### For Age = 24;"
    },
    {
      "metadata": {
        "trusted": true
      },
      "cell_type": "code",
      "source": "InfGain24 = 0.555 - Rem24\nInfGain24",
      "execution_count": 45,
      "outputs": [
        {
          "output_type": "execute_result",
          "execution_count": 45,
          "data": {
            "text/plain": "0.20200000000000007"
          },
          "metadata": {}
        }
      ]
    },
    {
      "metadata": {
        "trusted": true
      },
      "cell_type": "code",
      "source": "InfGain24 = 0.202 # as it is requested, it is rounded for 3 decimals.",
      "execution_count": 46,
      "outputs": []
    },
    {
      "metadata": {},
      "cell_type": "markdown",
      "source": "#### For Age = 27 ;"
    },
    {
      "metadata": {
        "trusted": true,
        "scrolled": true
      },
      "cell_type": "code",
      "source": "InfGain27 = 0.555 - Rem27\nInfGain27",
      "execution_count": 47,
      "outputs": [
        {
          "output_type": "execute_result",
          "execution_count": 47,
          "data": {
            "text/plain": "0.19500000000000006"
          },
          "metadata": {}
        }
      ]
    },
    {
      "metadata": {
        "trusted": true
      },
      "cell_type": "code",
      "source": "InfGain27 = 0.195 # as it is requested, it is rounded for 3 decimals.",
      "execution_count": 48,
      "outputs": []
    },
    {
      "metadata": {},
      "cell_type": "markdown",
      "source": "#### For Age = 38 ;"
    },
    {
      "metadata": {
        "trusted": true,
        "scrolled": true
      },
      "cell_type": "code",
      "source": "InfGain38 = 0.555 - Rem38\nInfGain38",
      "execution_count": 49,
      "outputs": [
        {
          "output_type": "execute_result",
          "execution_count": 49,
          "data": {
            "text/plain": "0.025000000000000022"
          },
          "metadata": {}
        }
      ]
    },
    {
      "metadata": {
        "trusted": true
      },
      "cell_type": "code",
      "source": "InfGain38 = 0.026 # as it is requested, it is rounded for 3 decimals.",
      "execution_count": 50,
      "outputs": []
    },
    {
      "metadata": {},
      "cell_type": "markdown",
      "source": "#### For Age = 42 ;"
    },
    {
      "metadata": {
        "slideshow": {
          "slide_type": "slide"
        },
        "trusted": true,
        "scrolled": true
      },
      "cell_type": "code",
      "source": "InfGain42 = 0.555 - Rem42\nInfGain42",
      "execution_count": 51,
      "outputs": [
        {
          "output_type": "execute_result",
          "execution_count": 51,
          "data": {
            "text/plain": "0.08200000000000007"
          },
          "metadata": {}
        }
      ]
    },
    {
      "metadata": {
        "trusted": true
      },
      "cell_type": "code",
      "source": "InfGain42 = 0.082 ",
      "execution_count": 52,
      "outputs": []
    },
    {
      "metadata": {},
      "cell_type": "markdown",
      "source": "Partition sets, Remainder (Rem.), and Information Gain (Info. Gain) for the candidate Age thresholds: 24, 27,38,42;"
    },
    {
      "metadata": {
        "trusted": true,
        "scrolled": false
      },
      "cell_type": "code",
      "source": "Age1 = pd.DataFrame(columns=['Feature', 'Threshold','Partition Gini', 'Remainder', 'Information Gain'])\nAge1.loc[len(Age1)] = ['Age', '<24', PartGL24, Rem24, InfGain24]\nAge1.loc[len(Age1)] = ['Age', '>=24', PartGG24,'' ,'' ]\nAge1.loc[len(Age1)] = ['Age', '<27', PartGL27, Rem27, InfGain27]\nAge1.loc[len(Age1)] = ['Age', '>=27', PartGG27,'' ,''  ] \nAge1.loc[len(Age1)] = ['Age', '<38', PartGL38, Rem38, InfGain38]\nAge1.loc[len(Age1)] = ['Age', '>=38', PartGG38,'' ,''  ]\nAge1.loc[len(Age1)] = ['Age', '<42', PartGL42, Rem42, InfGain42]\nAge1.loc[len(Age1)] = ['Age', '>=42', PartGG42,'' ,''  ]\n\nAge1",
      "execution_count": 53,
      "outputs": [
        {
          "output_type": "execute_result",
          "execution_count": 53,
          "data": {
            "text/html": "<div>\n<style scoped>\n    .dataframe tbody tr th:only-of-type {\n        vertical-align: middle;\n    }\n\n    .dataframe tbody tr th {\n        vertical-align: top;\n    }\n\n    .dataframe thead th {\n        text-align: right;\n    }\n</style>\n<table border=\"1\" class=\"dataframe\">\n  <thead>\n    <tr style=\"text-align: right;\">\n      <th></th>\n      <th>Feature</th>\n      <th>Threshold</th>\n      <th>Partition Gini</th>\n      <th>Remainder</th>\n      <th>Information Gain</th>\n    </tr>\n  </thead>\n  <tbody>\n    <tr>\n      <th>0</th>\n      <td>Age</td>\n      <td>&lt;24</td>\n      <td>0.000</td>\n      <td>0.353</td>\n      <td>0.202</td>\n    </tr>\n    <tr>\n      <th>1</th>\n      <td>Age</td>\n      <td>&gt;=24</td>\n      <td>0.415</td>\n      <td></td>\n      <td></td>\n    </tr>\n    <tr>\n      <th>2</th>\n      <td>Age</td>\n      <td>&lt;27</td>\n      <td>0.480</td>\n      <td>0.36</td>\n      <td>0.195</td>\n    </tr>\n    <tr>\n      <th>3</th>\n      <td>Age</td>\n      <td>&gt;=27</td>\n      <td>0.314</td>\n      <td></td>\n      <td></td>\n    </tr>\n    <tr>\n      <th>4</th>\n      <td>Age</td>\n      <td>&lt;38</td>\n      <td>0.569</td>\n      <td>0.53</td>\n      <td>0.026</td>\n    </tr>\n    <tr>\n      <th>5</th>\n      <td>Age</td>\n      <td>&gt;=38</td>\n      <td>0.468</td>\n      <td></td>\n      <td></td>\n    </tr>\n    <tr>\n      <th>6</th>\n      <td>Age</td>\n      <td>&lt;42</td>\n      <td>0.631</td>\n      <td>0.473</td>\n      <td>0.082</td>\n    </tr>\n    <tr>\n      <th>7</th>\n      <td>Age</td>\n      <td>&gt;=42</td>\n      <td>0.000</td>\n      <td></td>\n      <td></td>\n    </tr>\n  </tbody>\n</table>\n</div>",
            "text/plain": "  Feature Threshold  Partition Gini Remainder Information Gain\n0     Age       <24           0.000     0.353            0.202\n1     Age      >=24           0.415                           \n2     Age       <27           0.480      0.36            0.195\n3     Age      >=27           0.314                           \n4     Age       <38           0.569      0.53            0.026\n5     Age      >=38           0.468                           \n6     Age       <42           0.631     0.473            0.082\n7     Age      >=42           0.000                           "
          },
          "metadata": {}
        }
      ]
    },
    {
      "metadata": {},
      "cell_type": "markdown",
      "source": "The `df_splits` table shows all the candidate features' thresholds, Information Gains, Remainders and optimal split flags."
    },
    {
      "metadata": {
        "trusted": true,
        "scrolled": true
      },
      "cell_type": "code",
      "source": "df_splits = pd.DataFrame(columns=['Split by Feature','Information Gain', 'Remainder', 'Is Optimal'])\ndf_splits.loc[len(df_splits)] = ['Age>=24', InfGain24, Rem24, 'TRUE']\ndf_splits.loc[len(df_splits)] = ['Age>=27', InfGain27,Rem27 ,'FALSE' ]\ndf_splits.loc[len(df_splits)] = ['Age>=38', InfGain38, Rem38, 'FALSE']\ndf_splits.loc[len(df_splits)] = ['Age>=42', InfGain42,Rem42 ,'FALSE'  ] \ndf_splits.loc[len(df_splits)] = ['Education', InfGainEducation, RemEducation, 'FALSE']\ndf_splits.loc[len(df_splits)] = ['Marital Status', InfGainMarital_S,RemMarital_S ,'FALSE'  ]\ndf_splits.loc[len(df_splits)] = ['Occupation', InfGainOccupation,RemOccupation ,'FALSE'  ]\n\ndf_splits.round(3)",
      "execution_count": 56,
      "outputs": [
        {
          "output_type": "execute_result",
          "execution_count": 56,
          "data": {
            "text/html": "<div>\n<style scoped>\n    .dataframe tbody tr th:only-of-type {\n        vertical-align: middle;\n    }\n\n    .dataframe tbody tr th {\n        vertical-align: top;\n    }\n\n    .dataframe thead th {\n        text-align: right;\n    }\n</style>\n<table border=\"1\" class=\"dataframe\">\n  <thead>\n    <tr style=\"text-align: right;\">\n      <th></th>\n      <th>Split by Feature</th>\n      <th>Information Gain</th>\n      <th>Remainder</th>\n      <th>Is Optimal</th>\n    </tr>\n  </thead>\n  <tbody>\n    <tr>\n      <th>0</th>\n      <td>Age&gt;=24</td>\n      <td>0.202</td>\n      <td>0.353</td>\n      <td>TRUE</td>\n    </tr>\n    <tr>\n      <th>1</th>\n      <td>Age&gt;=27</td>\n      <td>0.195</td>\n      <td>0.360</td>\n      <td>FALSE</td>\n    </tr>\n    <tr>\n      <th>2</th>\n      <td>Age&gt;=38</td>\n      <td>0.026</td>\n      <td>0.530</td>\n      <td>FALSE</td>\n    </tr>\n    <tr>\n      <th>3</th>\n      <td>Age&gt;=42</td>\n      <td>0.082</td>\n      <td>0.473</td>\n      <td>FALSE</td>\n    </tr>\n    <tr>\n      <th>4</th>\n      <td>Education</td>\n      <td>0.017</td>\n      <td>0.537</td>\n      <td>FALSE</td>\n    </tr>\n    <tr>\n      <th>5</th>\n      <td>Marital Status</td>\n      <td>0.087</td>\n      <td>0.468</td>\n      <td>FALSE</td>\n    </tr>\n    <tr>\n      <th>6</th>\n      <td>Occupation</td>\n      <td>0.122</td>\n      <td>0.433</td>\n      <td>FALSE</td>\n    </tr>\n  </tbody>\n</table>\n</div>",
            "text/plain": "  Split by Feature  Information Gain  Remainder Is Optimal\n0          Age>=24             0.202      0.353       TRUE\n1          Age>=27             0.195      0.360      FALSE\n2          Age>=38             0.026      0.530      FALSE\n3          Age>=42             0.082      0.473      FALSE\n4        Education             0.017      0.537      FALSE\n5   Marital Status             0.087      0.468      FALSE\n6       Occupation             0.122      0.433      FALSE"
          },
          "metadata": {}
        }
      ]
    },
    {
      "metadata": {},
      "cell_type": "markdown",
      "source": "From the table, `Age feature's Level== '>=24'` threshold is the optimal split with highest Infomation Gain (0.202)"
    },
    {
      "metadata": {},
      "cell_type": "markdown",
      "source": "## Part C"
    },
    {
      "metadata": {},
      "cell_type": "markdown",
      "source": "In this Part, we assume 'Education' to be the root node and make the predictions for annual income accordingly. \nWe begin by calculating the probabilities of low,mid and high annual income for every level of Education."
    },
    {
      "metadata": {
        "trusted": true
      },
      "cell_type": "code",
      "source": "datasort[datasort['Education'] == 'high school']",
      "execution_count": 57,
      "outputs": [
        {
          "output_type": "execute_result",
          "execution_count": 57,
          "data": {
            "text/html": "<div>\n<style scoped>\n    .dataframe tbody tr th:only-of-type {\n        vertical-align: middle;\n    }\n\n    .dataframe tbody tr th {\n        vertical-align: top;\n    }\n\n    .dataframe thead th {\n        text-align: right;\n    }\n</style>\n<table border=\"1\" class=\"dataframe\">\n  <thead>\n    <tr style=\"text-align: right;\">\n      <th></th>\n      <th>ID</th>\n      <th>Age</th>\n      <th>Education</th>\n      <th>Marital_Status</th>\n      <th>Occupation</th>\n      <th>Annual_Income</th>\n    </tr>\n  </thead>\n  <tbody>\n    <tr>\n      <th>2</th>\n      <td>3</td>\n      <td>18</td>\n      <td>high school</td>\n      <td>never married</td>\n      <td>agriculture</td>\n      <td>low</td>\n    </tr>\n    <tr>\n      <th>5</th>\n      <td>6</td>\n      <td>23</td>\n      <td>high school</td>\n      <td>never married</td>\n      <td>agriculture</td>\n      <td>low</td>\n    </tr>\n    <tr>\n      <th>13</th>\n      <td>14</td>\n      <td>25</td>\n      <td>high school</td>\n      <td>married</td>\n      <td>professional</td>\n      <td>high</td>\n    </tr>\n    <tr>\n      <th>9</th>\n      <td>10</td>\n      <td>33</td>\n      <td>high school</td>\n      <td>married</td>\n      <td>transport</td>\n      <td>mid</td>\n    </tr>\n    <tr>\n      <th>10</th>\n      <td>11</td>\n      <td>36</td>\n      <td>high school</td>\n      <td>never married</td>\n      <td>transport</td>\n      <td>mid</td>\n    </tr>\n    <tr>\n      <th>4</th>\n      <td>5</td>\n      <td>37</td>\n      <td>high school</td>\n      <td>married</td>\n      <td>agriculture</td>\n      <td>mid</td>\n    </tr>\n    <tr>\n      <th>18</th>\n      <td>19</td>\n      <td>39</td>\n      <td>high school</td>\n      <td>divorced</td>\n      <td>professional</td>\n      <td>high</td>\n    </tr>\n    <tr>\n      <th>6</th>\n      <td>7</td>\n      <td>52</td>\n      <td>high school</td>\n      <td>divorced</td>\n      <td>transport</td>\n      <td>mid</td>\n    </tr>\n  </tbody>\n</table>\n</div>",
            "text/plain": "    ID  Age    Education Marital_Status    Occupation Annual_Income\n2    3   18  high school  never married   agriculture           low\n5    6   23  high school  never married   agriculture           low\n13  14   25  high school        married  professional          high\n9   10   33  high school        married     transport           mid\n10  11   36  high school  never married     transport           mid\n4    5   37  high school        married   agriculture           mid\n18  19   39  high school       divorced  professional          high\n6    7   52  high school       divorced     transport           mid"
          },
          "metadata": {}
        }
      ]
    },
    {
      "metadata": {
        "trusted": true
      },
      "cell_type": "code",
      "source": "HighSchoolLow = 2/8\nHighSchoolLow",
      "execution_count": 58,
      "outputs": [
        {
          "output_type": "execute_result",
          "execution_count": 58,
          "data": {
            "text/plain": "0.25"
          },
          "metadata": {}
        }
      ]
    },
    {
      "metadata": {
        "trusted": true
      },
      "cell_type": "code",
      "source": "HighSchoolMid = 4/8\nHighSchoolMid",
      "execution_count": 59,
      "outputs": [
        {
          "output_type": "execute_result",
          "execution_count": 59,
          "data": {
            "text/plain": "0.5"
          },
          "metadata": {}
        }
      ]
    },
    {
      "metadata": {
        "trusted": true,
        "scrolled": true
      },
      "cell_type": "code",
      "source": "HighSchoolHigh = 2/8\nHighSchoolHigh",
      "execution_count": 60,
      "outputs": [
        {
          "output_type": "execute_result",
          "execution_count": 60,
          "data": {
            "text/plain": "0.25"
          },
          "metadata": {}
        }
      ]
    },
    {
      "metadata": {
        "trusted": true
      },
      "cell_type": "code",
      "source": "q1[q1['Education'] == 'bachelors']",
      "execution_count": 61,
      "outputs": [
        {
          "output_type": "execute_result",
          "execution_count": 61,
          "data": {
            "text/html": "<div>\n<style scoped>\n    .dataframe tbody tr th:only-of-type {\n        vertical-align: middle;\n    }\n\n    .dataframe tbody tr th {\n        vertical-align: top;\n    }\n\n    .dataframe thead th {\n        text-align: right;\n    }\n</style>\n<table border=\"1\" class=\"dataframe\">\n  <thead>\n    <tr style=\"text-align: right;\">\n      <th></th>\n      <th>ID</th>\n      <th>Age</th>\n      <th>Education</th>\n      <th>Marital_Status</th>\n      <th>Occupation</th>\n      <th>Annual_Income</th>\n    </tr>\n  </thead>\n  <tbody>\n    <tr>\n      <th>0</th>\n      <td>1</td>\n      <td>39</td>\n      <td>bachelors</td>\n      <td>never married</td>\n      <td>professional</td>\n      <td>high</td>\n    </tr>\n    <tr>\n      <th>3</th>\n      <td>4</td>\n      <td>30</td>\n      <td>bachelors</td>\n      <td>married</td>\n      <td>professional</td>\n      <td>mid</td>\n    </tr>\n    <tr>\n      <th>8</th>\n      <td>9</td>\n      <td>46</td>\n      <td>bachelors</td>\n      <td>divorced</td>\n      <td>transport</td>\n      <td>mid</td>\n    </tr>\n    <tr>\n      <th>12</th>\n      <td>13</td>\n      <td>23</td>\n      <td>bachelors</td>\n      <td>never married</td>\n      <td>agriculture</td>\n      <td>low</td>\n    </tr>\n    <tr>\n      <th>14</th>\n      <td>15</td>\n      <td>35</td>\n      <td>bachelors</td>\n      <td>married</td>\n      <td>agriculture</td>\n      <td>mid</td>\n    </tr>\n    <tr>\n      <th>15</th>\n      <td>16</td>\n      <td>29</td>\n      <td>bachelors</td>\n      <td>never married</td>\n      <td>agriculture</td>\n      <td>mid</td>\n    </tr>\n    <tr>\n      <th>17</th>\n      <td>18</td>\n      <td>37</td>\n      <td>bachelors</td>\n      <td>married</td>\n      <td>professional</td>\n      <td>mid</td>\n    </tr>\n    <tr>\n      <th>19</th>\n      <td>20</td>\n      <td>25</td>\n      <td>bachelors</td>\n      <td>married</td>\n      <td>transport</td>\n      <td>high</td>\n    </tr>\n  </tbody>\n</table>\n</div>",
            "text/plain": "    ID  Age  Education Marital_Status    Occupation Annual_Income\n0    1   39  bachelors  never married  professional          high\n3    4   30  bachelors        married  professional           mid\n8    9   46  bachelors       divorced     transport           mid\n12  13   23  bachelors  never married   agriculture           low\n14  15   35  bachelors        married   agriculture           mid\n15  16   29  bachelors  never married   agriculture           mid\n17  18   37  bachelors        married  professional           mid\n19  20   25  bachelors        married     transport          high"
          },
          "metadata": {}
        }
      ]
    },
    {
      "metadata": {
        "trusted": true
      },
      "cell_type": "code",
      "source": "BachelorsLow = 1/8\nBachelorsLow",
      "execution_count": 62,
      "outputs": [
        {
          "output_type": "execute_result",
          "execution_count": 62,
          "data": {
            "text/plain": "0.125"
          },
          "metadata": {}
        }
      ]
    },
    {
      "metadata": {
        "trusted": true
      },
      "cell_type": "code",
      "source": "BachelorsMid = 5/8\nBachelorsMid",
      "execution_count": 63,
      "outputs": [
        {
          "output_type": "execute_result",
          "execution_count": 63,
          "data": {
            "text/plain": "0.625"
          },
          "metadata": {}
        }
      ]
    },
    {
      "metadata": {
        "trusted": true
      },
      "cell_type": "code",
      "source": "BachelorsHigh = 2/8\nBachelorsHigh",
      "execution_count": 64,
      "outputs": [
        {
          "output_type": "execute_result",
          "execution_count": 64,
          "data": {
            "text/plain": "0.25"
          },
          "metadata": {}
        }
      ]
    },
    {
      "metadata": {
        "trusted": true
      },
      "cell_type": "code",
      "source": "q1[q1['Education'] == 'doctorate']",
      "execution_count": 65,
      "outputs": [
        {
          "output_type": "execute_result",
          "execution_count": 65,
          "data": {
            "text/html": "<div>\n<style scoped>\n    .dataframe tbody tr th:only-of-type {\n        vertical-align: middle;\n    }\n\n    .dataframe tbody tr th {\n        vertical-align: top;\n    }\n\n    .dataframe thead th {\n        text-align: right;\n    }\n</style>\n<table border=\"1\" class=\"dataframe\">\n  <thead>\n    <tr style=\"text-align: right;\">\n      <th></th>\n      <th>ID</th>\n      <th>Age</th>\n      <th>Education</th>\n      <th>Marital_Status</th>\n      <th>Occupation</th>\n      <th>Annual_Income</th>\n    </tr>\n  </thead>\n  <tbody>\n    <tr>\n      <th>1</th>\n      <td>2</td>\n      <td>50</td>\n      <td>doctorate</td>\n      <td>married</td>\n      <td>professional</td>\n      <td>mid</td>\n    </tr>\n    <tr>\n      <th>7</th>\n      <td>8</td>\n      <td>40</td>\n      <td>doctorate</td>\n      <td>married</td>\n      <td>professional</td>\n      <td>high</td>\n    </tr>\n    <tr>\n      <th>11</th>\n      <td>12</td>\n      <td>45</td>\n      <td>doctorate</td>\n      <td>married</td>\n      <td>professional</td>\n      <td>mid</td>\n    </tr>\n    <tr>\n      <th>16</th>\n      <td>17</td>\n      <td>44</td>\n      <td>doctorate</td>\n      <td>divorced</td>\n      <td>transport</td>\n      <td>mid</td>\n    </tr>\n  </tbody>\n</table>\n</div>",
            "text/plain": "    ID  Age  Education Marital_Status    Occupation Annual_Income\n1    2   50  doctorate        married  professional           mid\n7    8   40  doctorate        married  professional          high\n11  12   45  doctorate        married  professional           mid\n16  17   44  doctorate       divorced     transport           mid"
          },
          "metadata": {}
        }
      ]
    },
    {
      "metadata": {
        "trusted": true
      },
      "cell_type": "code",
      "source": "DoctorateLow = 0",
      "execution_count": 66,
      "outputs": []
    },
    {
      "metadata": {
        "trusted": true
      },
      "cell_type": "code",
      "source": "DoctorateMid = 3/4\nDoctorateMid",
      "execution_count": 67,
      "outputs": [
        {
          "output_type": "execute_result",
          "execution_count": 67,
          "data": {
            "text/plain": "0.75"
          },
          "metadata": {}
        }
      ]
    },
    {
      "metadata": {
        "trusted": true
      },
      "cell_type": "code",
      "source": "DoctorateHigh = 1/4\nDoctorateHigh",
      "execution_count": 68,
      "outputs": [
        {
          "output_type": "execute_result",
          "execution_count": 68,
          "data": {
            "text/plain": "0.25"
          },
          "metadata": {}
        }
      ]
    },
    {
      "metadata": {},
      "cell_type": "markdown",
      "source": "Combining all the probabilities into one table and defining the predictions based on which probability is higher for what level of income; "
    },
    {
      "metadata": {
        "trusted": true,
        "scrolled": true
      },
      "cell_type": "code",
      "source": "pred = pd.DataFrame(columns=['Leaf Condition', 'Low Income Probability','Mid Income Probability', 'High Income Probability', 'Leaf Prediction'])\npred.loc[len(pred)] = ['Education Level == high school', HighSchoolLow, HighSchoolMid, HighSchoolHigh, 'Mid']\npred.loc[len(pred)] = ['Education Level == bachelors', BachelorsLow,BachelorsMid ,BachelorsHigh, 'Mid']\npred.loc[len(pred)] = ['Education Level == doctorate', DoctorateLow, DoctorateMid, DoctorateHigh, 'Mid']\n\npred",
      "execution_count": 69,
      "outputs": [
        {
          "output_type": "execute_result",
          "execution_count": 69,
          "data": {
            "text/html": "<div>\n<style scoped>\n    .dataframe tbody tr th:only-of-type {\n        vertical-align: middle;\n    }\n\n    .dataframe tbody tr th {\n        vertical-align: top;\n    }\n\n    .dataframe thead th {\n        text-align: right;\n    }\n</style>\n<table border=\"1\" class=\"dataframe\">\n  <thead>\n    <tr style=\"text-align: right;\">\n      <th></th>\n      <th>Leaf Condition</th>\n      <th>Low Income Probability</th>\n      <th>Mid Income Probability</th>\n      <th>High Income Probability</th>\n      <th>Leaf Prediction</th>\n    </tr>\n  </thead>\n  <tbody>\n    <tr>\n      <th>0</th>\n      <td>Education Level == high school</td>\n      <td>0.250</td>\n      <td>0.500</td>\n      <td>0.25</td>\n      <td>Mid</td>\n    </tr>\n    <tr>\n      <th>1</th>\n      <td>Education Level == bachelors</td>\n      <td>0.125</td>\n      <td>0.625</td>\n      <td>0.25</td>\n      <td>Mid</td>\n    </tr>\n    <tr>\n      <th>2</th>\n      <td>Education Level == doctorate</td>\n      <td>0.000</td>\n      <td>0.750</td>\n      <td>0.25</td>\n      <td>Mid</td>\n    </tr>\n  </tbody>\n</table>\n</div>",
            "text/plain": "                   Leaf Condition  Low Income Probability  \\\n0  Education Level == high school                   0.250   \n1    Education Level == bachelors                   0.125   \n2    Education Level == doctorate                   0.000   \n\n   Mid Income Probability  High Income Probability Leaf Prediction  \n0                   0.500                     0.25             Mid  \n1                   0.625                     0.25             Mid  \n2                   0.750                     0.25             Mid  "
          },
          "metadata": {}
        }
      ]
    },
    {
      "metadata": {
        "trusted": true,
        "scrolled": false
      },
      "cell_type": "code",
      "source": "df_splits",
      "execution_count": 70,
      "outputs": [
        {
          "output_type": "execute_result",
          "execution_count": 70,
          "data": {
            "text/html": "<div>\n<style scoped>\n    .dataframe tbody tr th:only-of-type {\n        vertical-align: middle;\n    }\n\n    .dataframe tbody tr th {\n        vertical-align: top;\n    }\n\n    .dataframe thead th {\n        text-align: right;\n    }\n</style>\n<table border=\"1\" class=\"dataframe\">\n  <thead>\n    <tr style=\"text-align: right;\">\n      <th></th>\n      <th>Split by Feature</th>\n      <th>Information Gain</th>\n      <th>Remainder</th>\n      <th>Is Optimal</th>\n    </tr>\n  </thead>\n  <tbody>\n    <tr>\n      <th>0</th>\n      <td>Age&gt;=24</td>\n      <td>0.202</td>\n      <td>0.353</td>\n      <td>TRUE</td>\n    </tr>\n    <tr>\n      <th>1</th>\n      <td>Age&gt;=27</td>\n      <td>0.195</td>\n      <td>0.360</td>\n      <td>FALSE</td>\n    </tr>\n    <tr>\n      <th>2</th>\n      <td>Age&gt;=38</td>\n      <td>0.026</td>\n      <td>0.530</td>\n      <td>FALSE</td>\n    </tr>\n    <tr>\n      <th>3</th>\n      <td>Age&gt;=42</td>\n      <td>0.082</td>\n      <td>0.473</td>\n      <td>FALSE</td>\n    </tr>\n    <tr>\n      <th>4</th>\n      <td>Education</td>\n      <td>0.017</td>\n      <td>0.537</td>\n      <td>FALSE</td>\n    </tr>\n    <tr>\n      <th>5</th>\n      <td>Marital Status</td>\n      <td>0.087</td>\n      <td>0.468</td>\n      <td>FALSE</td>\n    </tr>\n    <tr>\n      <th>6</th>\n      <td>Occupation</td>\n      <td>0.122</td>\n      <td>0.433</td>\n      <td>FALSE</td>\n    </tr>\n  </tbody>\n</table>\n</div>",
            "text/plain": "  Split by Feature  Information Gain  Remainder Is Optimal\n0          Age>=24             0.202      0.353       TRUE\n1          Age>=27             0.195      0.360      FALSE\n2          Age>=38             0.026      0.530      FALSE\n3          Age>=42             0.082      0.473      FALSE\n4        Education             0.017      0.537      FALSE\n5   Marital Status             0.087      0.468      FALSE\n6       Occupation             0.122      0.433      FALSE"
          },
          "metadata": {}
        }
      ]
    },
    {
      "metadata": {
        "trusted": true,
        "scrolled": true
      },
      "cell_type": "code",
      "source": "pred",
      "execution_count": 71,
      "outputs": [
        {
          "output_type": "execute_result",
          "execution_count": 71,
          "data": {
            "text/html": "<div>\n<style scoped>\n    .dataframe tbody tr th:only-of-type {\n        vertical-align: middle;\n    }\n\n    .dataframe tbody tr th {\n        vertical-align: top;\n    }\n\n    .dataframe thead th {\n        text-align: right;\n    }\n</style>\n<table border=\"1\" class=\"dataframe\">\n  <thead>\n    <tr style=\"text-align: right;\">\n      <th></th>\n      <th>Leaf Condition</th>\n      <th>Low Income Probability</th>\n      <th>Mid Income Probability</th>\n      <th>High Income Probability</th>\n      <th>Leaf Prediction</th>\n    </tr>\n  </thead>\n  <tbody>\n    <tr>\n      <th>0</th>\n      <td>Education Level == high school</td>\n      <td>0.250</td>\n      <td>0.500</td>\n      <td>0.25</td>\n      <td>Mid</td>\n    </tr>\n    <tr>\n      <th>1</th>\n      <td>Education Level == bachelors</td>\n      <td>0.125</td>\n      <td>0.625</td>\n      <td>0.25</td>\n      <td>Mid</td>\n    </tr>\n    <tr>\n      <th>2</th>\n      <td>Education Level == doctorate</td>\n      <td>0.000</td>\n      <td>0.750</td>\n      <td>0.25</td>\n      <td>Mid</td>\n    </tr>\n  </tbody>\n</table>\n</div>",
            "text/plain": "                   Leaf Condition  Low Income Probability  \\\n0  Education Level == high school                   0.250   \n1    Education Level == bachelors                   0.125   \n2    Education Level == doctorate                   0.000   \n\n   Mid Income Probability  High Income Probability Leaf Prediction  \n0                   0.500                     0.25             Mid  \n1                   0.625                     0.25             Mid  \n2                   0.750                     0.25             Mid  "
          },
          "metadata": {}
        }
      ]
    }
  ],
  "metadata": {
    "kernelspec": {
      "name": "python36",
      "display_name": "Python 3.6",
      "language": "python"
    },
    "language_info": {
      "mimetype": "text/x-python",
      "nbconvert_exporter": "python",
      "name": "python",
      "pygments_lexer": "ipython3",
      "version": "3.6.6",
      "file_extension": ".py",
      "codemirror_mode": {
        "version": 3,
        "name": "ipython"
      }
    }
  },
  "nbformat": 4,
  "nbformat_minor": 2
}