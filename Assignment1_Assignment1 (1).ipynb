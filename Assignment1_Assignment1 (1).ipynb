{
 "cells": [
  {
   "cell_type": "markdown",
   "metadata": {},
   "source": [
    "# MATH2319 Machine Learning\n",
    "Semester 1, 2020\n",
    "\n",
    "Assignment 1\n",
    "\n",
    "*Servet KOCAK* - 3773044"
   ]
  },
  {
   "cell_type": "markdown",
   "metadata": {},
   "source": [
    "## Question 1"
   ]
  },
  {
   "cell_type": "markdown",
   "metadata": {},
   "source": [
    "It's known that data preprocessing is a critical component in machine learning and its importance cannot be overstated. During the first question;\n",
    "* Checking for the missing values\n",
    "* Imputations with Modes and Medians\n",
    "* Discretizing Numeric Feature\n",
    "* Integer Encoding \n",
    "* One-Hot Encoding\n",
    "* Scaling\n",
    "\n",
    "will be captured.\n"
   ]
  },
  {
   "cell_type": "markdown",
   "metadata": {},
   "source": [
    "## Data Description"
   ]
  },
  {
   "cell_type": "markdown",
   "metadata": {},
   "source": [
    "This dataset concerns credit card applications. All attribute names and values have been changed to meaningless symbols to protect confidentiality of the data.\n",
    "\n",
    "External link to dataset website [here](https://archive.ics.uci.edu/ml/datasets/Credit+Approval)\n"
   ]
  },
  {
   "cell_type": "markdown",
   "metadata": {},
   "source": [
    "The descriptive features below are produced from the `crx.names` file: \n",
    "\n",
    "    A1:\tb, a.\n",
    "    A2:\tcontinuous.\n",
    "    A3:\tcontinuous.\n",
    "    A4:\tu, y, l, t.\n",
    "    A5:\tg, p, gg.\n",
    "    A6:\tc, d, cc, i, j, k, m, r, q, w, x, e, aa, ff.\n",
    "    A7:\tv, h, bb, j, n, z, dd, ff, o.\n",
    "    A8:\tcontinuous.\n",
    "    A9:\tt, f.\n",
    "    A10:\tt, f.\n",
    "    A11:\tcontinuous.\n",
    "    A12:\tt, f.\n",
    "    A13:\tg, p, s.\n",
    "    A14:\tcontinuous.\n",
    "    A15:\tcontinuous.\n",
    "    A16: +,-         (class attribute)"
   ]
  },
  {
   "cell_type": "markdown",
   "metadata": {},
   "source": [
    "The first step is importing the important libraries; **pandas** and **numpy**."
   ]
  },
  {
   "cell_type": "code",
   "execution_count": 3,
   "metadata": {},
   "outputs": [],
   "source": [
    "import pandas as pd\n",
    "import numpy as np"
   ]
  },
  {
   "cell_type": "markdown",
   "metadata": {},
   "source": [
    "After importing the libraries, reading the data file follows."
   ]
  },
  {
   "cell_type": "code",
   "execution_count": 4,
   "metadata": {},
   "outputs": [],
   "source": [
    "CreditData = pd.read_csv('C:/Users/arnav/OneDrive/Desktop/Machine Learning/Assignment1/Assignment1_Q1_crx.data', sep=\",\", header=None)\n",
    "# Definin the column names:\n",
    "CreditData.columns = [\"A1\", \"A2\", \"A3\", \"A4\",\"A5\", \"A6\", \"A7\", \"A8\",\"A9\", \"A10\", \"A11\", \"A12\",\"A13\", \"A14\", \"A15\", \"A16\"]"
   ]
  },
  {
   "cell_type": "code",
   "execution_count": null,
   "metadata": {},
   "outputs": [],
   "source": []
  },
  {
   "cell_type": "markdown",
   "metadata": {},
   "source": [
    "To check if data has been imported correctly, head() function helps. "
   ]
  },
  {
   "cell_type": "code",
   "execution_count": 5,
   "metadata": {},
   "outputs": [
    {
     "data": {
      "text/html": [
       "<div>\n",
       "<style scoped>\n",
       "    .dataframe tbody tr th:only-of-type {\n",
       "        vertical-align: middle;\n",
       "    }\n",
       "\n",
       "    .dataframe tbody tr th {\n",
       "        vertical-align: top;\n",
       "    }\n",
       "\n",
       "    .dataframe thead th {\n",
       "        text-align: right;\n",
       "    }\n",
       "</style>\n",
       "<table border=\"1\" class=\"dataframe\">\n",
       "  <thead>\n",
       "    <tr style=\"text-align: right;\">\n",
       "      <th></th>\n",
       "      <th>A1</th>\n",
       "      <th>A2</th>\n",
       "      <th>A3</th>\n",
       "      <th>A4</th>\n",
       "      <th>A5</th>\n",
       "      <th>A6</th>\n",
       "      <th>A7</th>\n",
       "      <th>A8</th>\n",
       "      <th>A9</th>\n",
       "      <th>A10</th>\n",
       "      <th>A11</th>\n",
       "      <th>A12</th>\n",
       "      <th>A13</th>\n",
       "      <th>A14</th>\n",
       "      <th>A15</th>\n",
       "      <th>A16</th>\n",
       "    </tr>\n",
       "  </thead>\n",
       "  <tbody>\n",
       "    <tr>\n",
       "      <td>0</td>\n",
       "      <td>b</td>\n",
       "      <td>30.83</td>\n",
       "      <td>0.000</td>\n",
       "      <td>u</td>\n",
       "      <td>g</td>\n",
       "      <td>w</td>\n",
       "      <td>v</td>\n",
       "      <td>1.25</td>\n",
       "      <td>t</td>\n",
       "      <td>t</td>\n",
       "      <td>1</td>\n",
       "      <td>f</td>\n",
       "      <td>g</td>\n",
       "      <td>00202</td>\n",
       "      <td>0</td>\n",
       "      <td>+</td>\n",
       "    </tr>\n",
       "    <tr>\n",
       "      <td>1</td>\n",
       "      <td>a</td>\n",
       "      <td>58.67</td>\n",
       "      <td>4.460</td>\n",
       "      <td>u</td>\n",
       "      <td>g</td>\n",
       "      <td>q</td>\n",
       "      <td>h</td>\n",
       "      <td>3.04</td>\n",
       "      <td>t</td>\n",
       "      <td>t</td>\n",
       "      <td>6</td>\n",
       "      <td>f</td>\n",
       "      <td>g</td>\n",
       "      <td>00043</td>\n",
       "      <td>560</td>\n",
       "      <td>+</td>\n",
       "    </tr>\n",
       "    <tr>\n",
       "      <td>2</td>\n",
       "      <td>a</td>\n",
       "      <td>24.50</td>\n",
       "      <td>0.500</td>\n",
       "      <td>u</td>\n",
       "      <td>g</td>\n",
       "      <td>q</td>\n",
       "      <td>h</td>\n",
       "      <td>1.50</td>\n",
       "      <td>t</td>\n",
       "      <td>f</td>\n",
       "      <td>0</td>\n",
       "      <td>f</td>\n",
       "      <td>g</td>\n",
       "      <td>00280</td>\n",
       "      <td>824</td>\n",
       "      <td>+</td>\n",
       "    </tr>\n",
       "    <tr>\n",
       "      <td>3</td>\n",
       "      <td>b</td>\n",
       "      <td>27.83</td>\n",
       "      <td>1.540</td>\n",
       "      <td>u</td>\n",
       "      <td>g</td>\n",
       "      <td>w</td>\n",
       "      <td>v</td>\n",
       "      <td>3.75</td>\n",
       "      <td>t</td>\n",
       "      <td>t</td>\n",
       "      <td>5</td>\n",
       "      <td>t</td>\n",
       "      <td>g</td>\n",
       "      <td>00100</td>\n",
       "      <td>3</td>\n",
       "      <td>+</td>\n",
       "    </tr>\n",
       "    <tr>\n",
       "      <td>4</td>\n",
       "      <td>b</td>\n",
       "      <td>20.17</td>\n",
       "      <td>5.625</td>\n",
       "      <td>u</td>\n",
       "      <td>g</td>\n",
       "      <td>w</td>\n",
       "      <td>v</td>\n",
       "      <td>1.71</td>\n",
       "      <td>t</td>\n",
       "      <td>f</td>\n",
       "      <td>0</td>\n",
       "      <td>f</td>\n",
       "      <td>s</td>\n",
       "      <td>00120</td>\n",
       "      <td>0</td>\n",
       "      <td>+</td>\n",
       "    </tr>\n",
       "  </tbody>\n",
       "</table>\n",
       "</div>"
      ],
      "text/plain": [
       "  A1     A2     A3 A4 A5 A6 A7    A8 A9 A10  A11 A12 A13    A14  A15 A16\n",
       "0  b  30.83  0.000  u  g  w  v  1.25  t   t    1   f   g  00202    0   +\n",
       "1  a  58.67  4.460  u  g  q  h  3.04  t   t    6   f   g  00043  560   +\n",
       "2  a  24.50  0.500  u  g  q  h  1.50  t   f    0   f   g  00280  824   +\n",
       "3  b  27.83  1.540  u  g  w  v  3.75  t   t    5   t   g  00100    3   +\n",
       "4  b  20.17  5.625  u  g  w  v  1.71  t   f    0   f   s  00120    0   +"
      ]
     },
     "execution_count": 5,
     "metadata": {},
     "output_type": "execute_result"
    }
   ],
   "source": [
    "CreditData.head()"
   ]
  },
  {
   "cell_type": "markdown",
   "metadata": {},
   "source": [
    "Also, having a look at 10 randomly selected rows in this raw dataset helps to check the dataset as well."
   ]
  },
  {
   "cell_type": "code",
   "execution_count": 6,
   "metadata": {
    "scrolled": false
   },
   "outputs": [
    {
     "data": {
      "text/html": [
       "<div>\n",
       "<style scoped>\n",
       "    .dataframe tbody tr th:only-of-type {\n",
       "        vertical-align: middle;\n",
       "    }\n",
       "\n",
       "    .dataframe tbody tr th {\n",
       "        vertical-align: top;\n",
       "    }\n",
       "\n",
       "    .dataframe thead th {\n",
       "        text-align: right;\n",
       "    }\n",
       "</style>\n",
       "<table border=\"1\" class=\"dataframe\">\n",
       "  <thead>\n",
       "    <tr style=\"text-align: right;\">\n",
       "      <th></th>\n",
       "      <th>A1</th>\n",
       "      <th>A2</th>\n",
       "      <th>A3</th>\n",
       "      <th>A4</th>\n",
       "      <th>A5</th>\n",
       "      <th>A6</th>\n",
       "      <th>A7</th>\n",
       "      <th>A8</th>\n",
       "      <th>A9</th>\n",
       "      <th>A10</th>\n",
       "      <th>A11</th>\n",
       "      <th>A12</th>\n",
       "      <th>A13</th>\n",
       "      <th>A14</th>\n",
       "      <th>A15</th>\n",
       "      <th>A16</th>\n",
       "    </tr>\n",
       "  </thead>\n",
       "  <tbody>\n",
       "    <tr>\n",
       "      <td>547</td>\n",
       "      <td>b</td>\n",
       "      <td>23.92</td>\n",
       "      <td>1.500</td>\n",
       "      <td>u</td>\n",
       "      <td>g</td>\n",
       "      <td>d</td>\n",
       "      <td>h</td>\n",
       "      <td>1.875</td>\n",
       "      <td>t</td>\n",
       "      <td>t</td>\n",
       "      <td>6</td>\n",
       "      <td>f</td>\n",
       "      <td>g</td>\n",
       "      <td>00200</td>\n",
       "      <td>327</td>\n",
       "      <td>+</td>\n",
       "    </tr>\n",
       "    <tr>\n",
       "      <td>350</td>\n",
       "      <td>a</td>\n",
       "      <td>26.17</td>\n",
       "      <td>2.000</td>\n",
       "      <td>u</td>\n",
       "      <td>g</td>\n",
       "      <td>j</td>\n",
       "      <td>j</td>\n",
       "      <td>0.000</td>\n",
       "      <td>f</td>\n",
       "      <td>f</td>\n",
       "      <td>0</td>\n",
       "      <td>t</td>\n",
       "      <td>g</td>\n",
       "      <td>00276</td>\n",
       "      <td>1</td>\n",
       "      <td>-</td>\n",
       "    </tr>\n",
       "    <tr>\n",
       "      <td>18</td>\n",
       "      <td>b</td>\n",
       "      <td>21.83</td>\n",
       "      <td>0.250</td>\n",
       "      <td>u</td>\n",
       "      <td>g</td>\n",
       "      <td>d</td>\n",
       "      <td>h</td>\n",
       "      <td>0.665</td>\n",
       "      <td>t</td>\n",
       "      <td>f</td>\n",
       "      <td>0</td>\n",
       "      <td>t</td>\n",
       "      <td>g</td>\n",
       "      <td>00000</td>\n",
       "      <td>0</td>\n",
       "      <td>+</td>\n",
       "    </tr>\n",
       "    <tr>\n",
       "      <td>683</td>\n",
       "      <td>b</td>\n",
       "      <td>36.42</td>\n",
       "      <td>0.750</td>\n",
       "      <td>y</td>\n",
       "      <td>p</td>\n",
       "      <td>d</td>\n",
       "      <td>v</td>\n",
       "      <td>0.585</td>\n",
       "      <td>f</td>\n",
       "      <td>f</td>\n",
       "      <td>0</td>\n",
       "      <td>f</td>\n",
       "      <td>g</td>\n",
       "      <td>00240</td>\n",
       "      <td>3</td>\n",
       "      <td>-</td>\n",
       "    </tr>\n",
       "    <tr>\n",
       "      <td>436</td>\n",
       "      <td>b</td>\n",
       "      <td>19.58</td>\n",
       "      <td>0.585</td>\n",
       "      <td>u</td>\n",
       "      <td>g</td>\n",
       "      <td>ff</td>\n",
       "      <td>ff</td>\n",
       "      <td>0.000</td>\n",
       "      <td>f</td>\n",
       "      <td>t</td>\n",
       "      <td>3</td>\n",
       "      <td>f</td>\n",
       "      <td>g</td>\n",
       "      <td>00350</td>\n",
       "      <td>769</td>\n",
       "      <td>-</td>\n",
       "    </tr>\n",
       "    <tr>\n",
       "      <td>589</td>\n",
       "      <td>b</td>\n",
       "      <td>25.33</td>\n",
       "      <td>0.580</td>\n",
       "      <td>u</td>\n",
       "      <td>g</td>\n",
       "      <td>c</td>\n",
       "      <td>v</td>\n",
       "      <td>0.290</td>\n",
       "      <td>t</td>\n",
       "      <td>t</td>\n",
       "      <td>7</td>\n",
       "      <td>t</td>\n",
       "      <td>g</td>\n",
       "      <td>00096</td>\n",
       "      <td>5124</td>\n",
       "      <td>+</td>\n",
       "    </tr>\n",
       "    <tr>\n",
       "      <td>188</td>\n",
       "      <td>a</td>\n",
       "      <td>28.67</td>\n",
       "      <td>1.040</td>\n",
       "      <td>u</td>\n",
       "      <td>g</td>\n",
       "      <td>c</td>\n",
       "      <td>v</td>\n",
       "      <td>2.500</td>\n",
       "      <td>t</td>\n",
       "      <td>t</td>\n",
       "      <td>5</td>\n",
       "      <td>t</td>\n",
       "      <td>g</td>\n",
       "      <td>00300</td>\n",
       "      <td>1430</td>\n",
       "      <td>+</td>\n",
       "    </tr>\n",
       "    <tr>\n",
       "      <td>51</td>\n",
       "      <td>b</td>\n",
       "      <td>26.00</td>\n",
       "      <td>1.000</td>\n",
       "      <td>u</td>\n",
       "      <td>g</td>\n",
       "      <td>q</td>\n",
       "      <td>v</td>\n",
       "      <td>1.750</td>\n",
       "      <td>t</td>\n",
       "      <td>f</td>\n",
       "      <td>0</td>\n",
       "      <td>t</td>\n",
       "      <td>g</td>\n",
       "      <td>00280</td>\n",
       "      <td>0</td>\n",
       "      <td>+</td>\n",
       "    </tr>\n",
       "    <tr>\n",
       "      <td>557</td>\n",
       "      <td>a</td>\n",
       "      <td>32.17</td>\n",
       "      <td>1.460</td>\n",
       "      <td>u</td>\n",
       "      <td>g</td>\n",
       "      <td>w</td>\n",
       "      <td>v</td>\n",
       "      <td>1.085</td>\n",
       "      <td>t</td>\n",
       "      <td>t</td>\n",
       "      <td>16</td>\n",
       "      <td>f</td>\n",
       "      <td>g</td>\n",
       "      <td>00120</td>\n",
       "      <td>2079</td>\n",
       "      <td>+</td>\n",
       "    </tr>\n",
       "    <tr>\n",
       "      <td>484</td>\n",
       "      <td>b</td>\n",
       "      <td>34.67</td>\n",
       "      <td>1.080</td>\n",
       "      <td>u</td>\n",
       "      <td>g</td>\n",
       "      <td>m</td>\n",
       "      <td>v</td>\n",
       "      <td>1.165</td>\n",
       "      <td>f</td>\n",
       "      <td>f</td>\n",
       "      <td>0</td>\n",
       "      <td>f</td>\n",
       "      <td>s</td>\n",
       "      <td>00028</td>\n",
       "      <td>0</td>\n",
       "      <td>-</td>\n",
       "    </tr>\n",
       "  </tbody>\n",
       "</table>\n",
       "</div>"
      ],
      "text/plain": [
       "    A1     A2     A3 A4 A5  A6  A7     A8 A9 A10  A11 A12 A13    A14   A15 A16\n",
       "547  b  23.92  1.500  u  g   d   h  1.875  t   t    6   f   g  00200   327   +\n",
       "350  a  26.17  2.000  u  g   j   j  0.000  f   f    0   t   g  00276     1   -\n",
       "18   b  21.83  0.250  u  g   d   h  0.665  t   f    0   t   g  00000     0   +\n",
       "683  b  36.42  0.750  y  p   d   v  0.585  f   f    0   f   g  00240     3   -\n",
       "436  b  19.58  0.585  u  g  ff  ff  0.000  f   t    3   f   g  00350   769   -\n",
       "589  b  25.33  0.580  u  g   c   v  0.290  t   t    7   t   g  00096  5124   +\n",
       "188  a  28.67  1.040  u  g   c   v  2.500  t   t    5   t   g  00300  1430   +\n",
       "51   b  26.00  1.000  u  g   q   v  1.750  t   f    0   t   g  00280     0   +\n",
       "557  a  32.17  1.460  u  g   w   v  1.085  t   t   16   f   g  00120  2079   +\n",
       "484  b  34.67  1.080  u  g   m   v  1.165  f   f    0   f   s  00028     0   -"
      ]
     },
     "execution_count": 6,
     "metadata": {},
     "output_type": "execute_result"
    }
   ],
   "source": [
    "CreditData.sample(n=10, random_state=8)"
   ]
  },
  {
   "cell_type": "markdown",
   "metadata": {},
   "source": [
    "To have better understanding of data, the shape of the data can be checked as follows:"
   ]
  },
  {
   "cell_type": "code",
   "execution_count": 7,
   "metadata": {},
   "outputs": [
    {
     "data": {
      "text/plain": [
       "(690, 16)"
      ]
     },
     "execution_count": 7,
     "metadata": {},
     "output_type": "execute_result"
    }
   ],
   "source": [
    "CreditData.shape"
   ]
  },
  {
   "cell_type": "markdown",
   "metadata": {},
   "source": [
    "As it's seen from the `crx.names` file, **Number of Instances: 690** and **Number of Attributes: 15 + class attribute**. So that's means the dataset imported correctly."
   ]
  },
  {
   "cell_type": "markdown",
   "metadata": {},
   "source": [
    "To make sure the *feature types* match the descriptions outlined in the Data Description section, **dtypes** function can be applied."
   ]
  },
  {
   "cell_type": "code",
   "execution_count": 8,
   "metadata": {},
   "outputs": [
    {
     "data": {
      "text/plain": [
       "A1      object\n",
       "A2      object\n",
       "A3     float64\n",
       "A4      object\n",
       "A5      object\n",
       "A6      object\n",
       "A7      object\n",
       "A8     float64\n",
       "A9      object\n",
       "A10     object\n",
       "A11      int64\n",
       "A12     object\n",
       "A13     object\n",
       "A14     object\n",
       "A15      int64\n",
       "A16     object\n",
       "dtype: object"
      ]
     },
     "execution_count": 8,
     "metadata": {},
     "output_type": "execute_result"
    }
   ],
   "source": [
    "CreditData.dtypes"
   ]
  },
  {
   "cell_type": "markdown",
   "metadata": {},
   "source": [
    "## Checking for Missing Values"
   ]
  },
  {
   "cell_type": "markdown",
   "metadata": {},
   "source": [
    "To check for Missing Values, counting the data is one of the essential steps. "
   ]
  },
  {
   "cell_type": "code",
   "execution_count": 9,
   "metadata": {},
   "outputs": [
    {
     "data": {
      "text/plain": [
       "A1     690\n",
       "A2     690\n",
       "A3     690\n",
       "A4     690\n",
       "A5     690\n",
       "A6     690\n",
       "A7     690\n",
       "A8     690\n",
       "A9     690\n",
       "A10    690\n",
       "A11    690\n",
       "A12    690\n",
       "A13    690\n",
       "A14    690\n",
       "A15    690\n",
       "A16    690\n",
       "dtype: int64"
      ]
     },
     "execution_count": 9,
     "metadata": {},
     "output_type": "execute_result"
    }
   ],
   "source": [
    "CreditData.count()"
   ]
  },
  {
   "cell_type": "markdown",
   "metadata": {
    "slideshow": {
     "slide_type": "slide"
    }
   },
   "source": [
    "At it seen there is no Null values in the dataset. Also we can check for the Missing Values with following code. "
   ]
  },
  {
   "cell_type": "code",
   "execution_count": 10,
   "metadata": {},
   "outputs": [
    {
     "data": {
      "text/plain": [
       "A1     0\n",
       "A2     0\n",
       "A3     0\n",
       "A4     0\n",
       "A5     0\n",
       "A6     0\n",
       "A7     0\n",
       "A8     0\n",
       "A9     0\n",
       "A10    0\n",
       "A11    0\n",
       "A12    0\n",
       "A13    0\n",
       "A14    0\n",
       "A15    0\n",
       "A16    0\n",
       "dtype: int64"
      ]
     },
     "execution_count": 10,
     "metadata": {},
     "output_type": "execute_result"
    }
   ],
   "source": [
    "CreditData.isna().sum()"
   ]
  },
  {
   "cell_type": "markdown",
   "metadata": {},
   "source": [
    "Also with counting the Null values is one of the other option but from this output it can be understand that Null values is encoded as other kind of value."
   ]
  },
  {
   "cell_type": "markdown",
   "metadata": {},
   "source": [
    "In the next step, the frequency distribution of unique values of A1 and A2 (one categorical, one numerical) columns might help to understand categories."
   ]
  },
  {
   "cell_type": "code",
   "execution_count": 11,
   "metadata": {
    "scrolled": true
   },
   "outputs": [
    {
     "data": {
      "text/plain": [
       "b    468\n",
       "a    210\n",
       "?     12\n",
       "Name: A1, dtype: int64"
      ]
     },
     "execution_count": 11,
     "metadata": {},
     "output_type": "execute_result"
    }
   ],
   "source": [
    "CreditData['A1'].value_counts()"
   ]
  },
  {
   "cell_type": "code",
   "execution_count": 12,
   "metadata": {
    "scrolled": true
   },
   "outputs": [
    {
     "data": {
      "text/plain": [
       "?        12\n",
       "22.67     9\n",
       "20.42     7\n",
       "19.17     6\n",
       "25.00     6\n",
       "Name: A2, dtype: int64"
      ]
     },
     "execution_count": 12,
     "metadata": {},
     "output_type": "execute_result"
    }
   ],
   "source": [
    "CreditData['A2'].value_counts().head()"
   ]
  },
  {
   "cell_type": "markdown",
   "metadata": {},
   "source": [
    "As it seen above there are 12 values are seen as '?' in the in both of the columns. All unusual values must be assigned as NaN's. To do so;"
   ]
  },
  {
   "cell_type": "code",
   "execution_count": 13,
   "metadata": {},
   "outputs": [],
   "source": [
    "CreditData1 = CreditData.replace('?', np.nan)"
   ]
  },
  {
   "cell_type": "markdown",
   "metadata": {},
   "source": [
    "With converting \"?\" to NaN, we can easialy see the Null values in the dataset"
   ]
  },
  {
   "cell_type": "code",
   "execution_count": 14,
   "metadata": {
    "scrolled": true
   },
   "outputs": [
    {
     "data": {
      "text/plain": [
       "A1     12\n",
       "A2     12\n",
       "A3      0\n",
       "A4      6\n",
       "A5      6\n",
       "A6      9\n",
       "A7      9\n",
       "A8      0\n",
       "A9      0\n",
       "A10     0\n",
       "A11     0\n",
       "A12     0\n",
       "A13     0\n",
       "A14    13\n",
       "A15     0\n",
       "A16     0\n",
       "dtype: int64"
      ]
     },
     "execution_count": 14,
     "metadata": {},
     "output_type": "execute_result"
    }
   ],
   "source": [
    "CreditData1.isna().sum()"
   ]
  },
  {
   "cell_type": "markdown",
   "metadata": {},
   "source": [
    "As it understood from the output, in total there are 67 missing values."
   ]
  },
  {
   "cell_type": "markdown",
   "metadata": {},
   "source": [
    "The Missing Attribute Values below are produced from the `crx.names` file: \n",
    "\n",
    "    37 cases (5%) have one or more missing values.  The missing values from particular attributes are:\n",
    "\n",
    "    A1:  12\n",
    "    A2:  12\n",
    "    A4:   6\n",
    "    A5:   6\n",
    "    A6:   9\n",
    "    A7:   9\n",
    "    A14: 13"
   ]
  },
  {
   "cell_type": "markdown",
   "metadata": {},
   "source": [
    "With the code above, the Missing Attribute Values is confirmed with the output."
   ]
  },
  {
   "cell_type": "markdown",
   "metadata": {},
   "source": [
    "## Imputing the Missing Values"
   ]
  },
  {
   "cell_type": "markdown",
   "metadata": {},
   "source": [
    "After setting all outliers/ unusual values to missing values, In this step, any missing values  will be imputed with\n",
    "* the **mode** for categorical features \n",
    "* the **median** for numerical features."
   ]
  },
  {
   "cell_type": "markdown",
   "metadata": {},
   "source": [
    "### Numerical Features"
   ]
  },
  {
   "cell_type": "markdown",
   "metadata": {},
   "source": [
    "Since, `A2` and `A14` are numerical attributes which have Null values, the missing values need to be imputed with the mean for each column. Firstly, all the columns median values can be checked as below;"
   ]
  },
  {
   "cell_type": "code",
   "execution_count": 15,
   "metadata": {
    "scrolled": true
   },
   "outputs": [
    {
     "data": {
      "text/plain": [
       "A2      28.46\n",
       "A14    160.00\n",
       "dtype: float64"
      ]
     },
     "execution_count": 15,
     "metadata": {},
     "output_type": "execute_result"
    }
   ],
   "source": [
    "CreditData1[['A2','A14']].median().round(2)"
   ]
  },
  {
   "cell_type": "markdown",
   "metadata": {},
   "source": [
    "These values will be used to impute the missing values."
   ]
  },
  {
   "cell_type": "code",
   "execution_count": 16,
   "metadata": {},
   "outputs": [],
   "source": [
    "CreditData1['A2'] = CreditData1['A2'].apply(pd.to_numeric)"
   ]
  },
  {
   "cell_type": "code",
   "execution_count": 17,
   "metadata": {},
   "outputs": [
    {
     "data": {
      "text/plain": [
       "28.46"
      ]
     },
     "execution_count": 17,
     "metadata": {},
     "output_type": "execute_result"
    }
   ],
   "source": [
    "CreditData1['A2'].median() # This value will be used to impute the missing values in A2 column."
   ]
  },
  {
   "cell_type": "code",
   "execution_count": 18,
   "metadata": {},
   "outputs": [],
   "source": [
    "CreditData1['A2'] = CreditData1['A2'].fillna(CreditData1['A2'].median())"
   ]
  },
  {
   "cell_type": "code",
   "execution_count": 19,
   "metadata": {},
   "outputs": [
    {
     "data": {
      "text/plain": [
       "0"
      ]
     },
     "execution_count": 19,
     "metadata": {},
     "output_type": "execute_result"
    }
   ],
   "source": [
    "CreditData1['A2'].isna().sum()"
   ]
  },
  {
   "cell_type": "markdown",
   "metadata": {},
   "source": [
    "As it seen from above, there is no missing data left in the A2 column after imputation. "
   ]
  },
  {
   "cell_type": "code",
   "execution_count": 20,
   "metadata": {},
   "outputs": [
    {
     "name": "stdout",
     "output_type": "stream",
     "text": [
      "This value \"160.0\" will be used to impute the missing values for A14 column.\n",
      "After imputation, there is 0 missing values left.\n"
     ]
    }
   ],
   "source": [
    "CreditData1['A14'] = CreditData1['A14'].apply(pd.to_numeric)\n",
    "print('This value ' + '\"'+ str(CreditData1['A14'].median())+'\"'+ ' will be used to impute the missing values for A14 column.')\n",
    "CreditData1['A14'] = CreditData1['A14'].fillna(CreditData1['A14'].median())\n",
    "print('After imputation, there is ' + str(CreditData1['A14'].isna().sum())+ ' missing values left.')"
   ]
  },
  {
   "cell_type": "markdown",
   "metadata": {},
   "source": [
    "### Categorical Features"
   ]
  },
  {
   "cell_type": "markdown",
   "metadata": {},
   "source": [
    "Since, `A1`,`A4`,`A5`,`A6` and`A7` are categorical attributes which have Null values, the missing values need to be imputed with the mode for each column. Firstly, all the columns median values can be checked as below;"
   ]
  },
  {
   "cell_type": "code",
   "execution_count": 21,
   "metadata": {
    "scrolled": true
   },
   "outputs": [
    {
     "data": {
      "text/html": [
       "<div>\n",
       "<style scoped>\n",
       "    .dataframe tbody tr th:only-of-type {\n",
       "        vertical-align: middle;\n",
       "    }\n",
       "\n",
       "    .dataframe tbody tr th {\n",
       "        vertical-align: top;\n",
       "    }\n",
       "\n",
       "    .dataframe thead th {\n",
       "        text-align: right;\n",
       "    }\n",
       "</style>\n",
       "<table border=\"1\" class=\"dataframe\">\n",
       "  <thead>\n",
       "    <tr style=\"text-align: right;\">\n",
       "      <th></th>\n",
       "      <th>A1</th>\n",
       "      <th>A4</th>\n",
       "      <th>A5</th>\n",
       "      <th>A6</th>\n",
       "      <th>A7</th>\n",
       "    </tr>\n",
       "  </thead>\n",
       "  <tbody>\n",
       "    <tr>\n",
       "      <td>0</td>\n",
       "      <td>b</td>\n",
       "      <td>u</td>\n",
       "      <td>g</td>\n",
       "      <td>c</td>\n",
       "      <td>v</td>\n",
       "    </tr>\n",
       "  </tbody>\n",
       "</table>\n",
       "</div>"
      ],
      "text/plain": [
       "  A1 A4 A5 A6 A7\n",
       "0  b  u  g  c  v"
      ]
     },
     "execution_count": 21,
     "metadata": {},
     "output_type": "execute_result"
    }
   ],
   "source": [
    "CreditData1[['A1','A4','A5','A6','A7']].mode()"
   ]
  },
  {
   "cell_type": "code",
   "execution_count": 22,
   "metadata": {},
   "outputs": [
    {
     "name": "stdout",
     "output_type": "stream",
     "text": [
      "0\n"
     ]
    }
   ],
   "source": [
    "CreditData1['A1'] = CreditData1['A1'].fillna('b') # imputing the missing values with 'b'\n",
    "print(CreditData1['A1'].isna().sum())"
   ]
  },
  {
   "cell_type": "markdown",
   "metadata": {},
   "source": [
    "As it seen above there is no missing values left after imputation."
   ]
  },
  {
   "cell_type": "code",
   "execution_count": 23,
   "metadata": {},
   "outputs": [
    {
     "name": "stdout",
     "output_type": "stream",
     "text": [
      "0\n"
     ]
    }
   ],
   "source": [
    "CreditData1['A4'] = CreditData1['A4'].fillna('u')\n",
    "print(CreditData1['A4'].isna().sum())"
   ]
  },
  {
   "cell_type": "code",
   "execution_count": 24,
   "metadata": {},
   "outputs": [
    {
     "name": "stdout",
     "output_type": "stream",
     "text": [
      "0\n"
     ]
    }
   ],
   "source": [
    "CreditData1['A5'] = CreditData1['A5'].fillna('g')\n",
    "print(CreditData1['A5'].isna().sum())"
   ]
  },
  {
   "cell_type": "code",
   "execution_count": 25,
   "metadata": {},
   "outputs": [
    {
     "name": "stdout",
     "output_type": "stream",
     "text": [
      "0\n"
     ]
    }
   ],
   "source": [
    "CreditData1['A6'] = CreditData1['A6'].fillna('c')\n",
    "print(CreditData1['A6'].isna().sum())"
   ]
  },
  {
   "cell_type": "code",
   "execution_count": 26,
   "metadata": {},
   "outputs": [
    {
     "name": "stdout",
     "output_type": "stream",
     "text": [
      "0\n"
     ]
    }
   ],
   "source": [
    "CreditData1['A7'] = CreditData1['A7'].fillna('v')\n",
    "print(CreditData1['A7'].isna().sum())"
   ]
  },
  {
   "cell_type": "markdown",
   "metadata": {},
   "source": [
    "To confirm one more time to see there is no missing values left;"
   ]
  },
  {
   "cell_type": "code",
   "execution_count": 27,
   "metadata": {},
   "outputs": [
    {
     "data": {
      "text/plain": [
       "A1     0\n",
       "A2     0\n",
       "A3     0\n",
       "A4     0\n",
       "A5     0\n",
       "A6     0\n",
       "A7     0\n",
       "A8     0\n",
       "A9     0\n",
       "A10    0\n",
       "A11    0\n",
       "A12    0\n",
       "A13    0\n",
       "A14    0\n",
       "A15    0\n",
       "A16    0\n",
       "dtype: int64"
      ]
     },
     "execution_count": 27,
     "metadata": {},
     "output_type": "execute_result"
    }
   ],
   "source": [
    "CreditData1.isna().sum()"
   ]
  },
  {
   "cell_type": "markdown",
   "metadata": {},
   "source": [
    "## Discretizing Numeric Features "
   ]
  },
  {
   "cell_type": "markdown",
   "metadata": {},
   "source": [
    "For the `A2` numerical descriptive feature, it will be discretized via equal-frequency binning with 3 bins named *\"low\"*, *\"medium\",* and *\"high\"*, and then integer encoding will be used."
   ]
  },
  {
   "cell_type": "markdown",
   "metadata": {},
   "source": [
    "> The **qcut method** is used in the Pandas module, which performs quantile-based discretization."
   ]
  },
  {
   "cell_type": "code",
   "execution_count": 28,
   "metadata": {},
   "outputs": [],
   "source": [
    "df_cat = CreditData1.copy()\n",
    "df_cat['A2'] = df_cat['A2']\n",
    "\n",
    "df_cat['A2'] = pd.qcut(df_cat['A2'], q=3, \n",
    "                                     labels=['low', 'medium', 'high'])\n"
   ]
  },
  {
   "cell_type": "markdown",
   "metadata": {},
   "source": [
    "To make sure the dicretization is performed correctly using the value_counts method in Pandas."
   ]
  },
  {
   "cell_type": "code",
   "execution_count": 29,
   "metadata": {},
   "outputs": [
    {
     "data": {
      "text/plain": [
       "medium    231\n",
       "low       230\n",
       "high      229\n",
       "Name: A2, dtype: int64"
      ]
     },
     "execution_count": 29,
     "metadata": {},
     "output_type": "execute_result"
    }
   ],
   "source": [
    "df_cat['A2'].value_counts()"
   ]
  },
  {
   "cell_type": "markdown",
   "metadata": {},
   "source": [
    "### Integer-Encoding"
   ]
  },
  {
   "cell_type": "markdown",
   "metadata": {},
   "source": [
    "A nominal descriptive feature always needs be encoded using one-hot-encoding. However, an ordinal descriptive feature can be encoded via either one-hot-encoding or integer-encoding. For the latter, we can use the replace() function in Pandas. Let's do a simple example. The \"mean_area\" feature we defined above can in fact be considered to be \"ordinal\" as there is a natural ordering between the levels of small, average, and large. Let's encode this feature using integer-encoding where each level corresponds to the integers 0, 1, and 2 respectively. "
   ]
  },
  {
   "cell_type": "code",
   "execution_count": 30,
   "metadata": {
    "scrolled": true
   },
   "outputs": [
    {
     "data": {
      "text/html": [
       "<div>\n",
       "<style scoped>\n",
       "    .dataframe tbody tr th:only-of-type {\n",
       "        vertical-align: middle;\n",
       "    }\n",
       "\n",
       "    .dataframe tbody tr th {\n",
       "        vertical-align: top;\n",
       "    }\n",
       "\n",
       "    .dataframe thead th {\n",
       "        text-align: right;\n",
       "    }\n",
       "</style>\n",
       "<table border=\"1\" class=\"dataframe\">\n",
       "  <thead>\n",
       "    <tr style=\"text-align: right;\">\n",
       "      <th></th>\n",
       "      <th>A1</th>\n",
       "      <th>A2</th>\n",
       "      <th>A3</th>\n",
       "      <th>A4</th>\n",
       "      <th>A5</th>\n",
       "      <th>A6</th>\n",
       "      <th>A7</th>\n",
       "      <th>A8</th>\n",
       "      <th>A9</th>\n",
       "      <th>A10</th>\n",
       "      <th>A11</th>\n",
       "      <th>A12</th>\n",
       "      <th>A13</th>\n",
       "      <th>A14</th>\n",
       "      <th>A15</th>\n",
       "      <th>A16</th>\n",
       "    </tr>\n",
       "  </thead>\n",
       "  <tbody>\n",
       "    <tr>\n",
       "      <td>0</td>\n",
       "      <td>b</td>\n",
       "      <td>1</td>\n",
       "      <td>0.000</td>\n",
       "      <td>u</td>\n",
       "      <td>g</td>\n",
       "      <td>w</td>\n",
       "      <td>v</td>\n",
       "      <td>1.25</td>\n",
       "      <td>t</td>\n",
       "      <td>t</td>\n",
       "      <td>1</td>\n",
       "      <td>f</td>\n",
       "      <td>g</td>\n",
       "      <td>202.0</td>\n",
       "      <td>0</td>\n",
       "      <td>+</td>\n",
       "    </tr>\n",
       "    <tr>\n",
       "      <td>1</td>\n",
       "      <td>a</td>\n",
       "      <td>2</td>\n",
       "      <td>4.460</td>\n",
       "      <td>u</td>\n",
       "      <td>g</td>\n",
       "      <td>q</td>\n",
       "      <td>h</td>\n",
       "      <td>3.04</td>\n",
       "      <td>t</td>\n",
       "      <td>t</td>\n",
       "      <td>6</td>\n",
       "      <td>f</td>\n",
       "      <td>g</td>\n",
       "      <td>43.0</td>\n",
       "      <td>560</td>\n",
       "      <td>+</td>\n",
       "    </tr>\n",
       "    <tr>\n",
       "      <td>2</td>\n",
       "      <td>a</td>\n",
       "      <td>1</td>\n",
       "      <td>0.500</td>\n",
       "      <td>u</td>\n",
       "      <td>g</td>\n",
       "      <td>q</td>\n",
       "      <td>h</td>\n",
       "      <td>1.50</td>\n",
       "      <td>t</td>\n",
       "      <td>f</td>\n",
       "      <td>0</td>\n",
       "      <td>f</td>\n",
       "      <td>g</td>\n",
       "      <td>280.0</td>\n",
       "      <td>824</td>\n",
       "      <td>+</td>\n",
       "    </tr>\n",
       "    <tr>\n",
       "      <td>3</td>\n",
       "      <td>b</td>\n",
       "      <td>1</td>\n",
       "      <td>1.540</td>\n",
       "      <td>u</td>\n",
       "      <td>g</td>\n",
       "      <td>w</td>\n",
       "      <td>v</td>\n",
       "      <td>3.75</td>\n",
       "      <td>t</td>\n",
       "      <td>t</td>\n",
       "      <td>5</td>\n",
       "      <td>t</td>\n",
       "      <td>g</td>\n",
       "      <td>100.0</td>\n",
       "      <td>3</td>\n",
       "      <td>+</td>\n",
       "    </tr>\n",
       "    <tr>\n",
       "      <td>4</td>\n",
       "      <td>b</td>\n",
       "      <td>0</td>\n",
       "      <td>5.625</td>\n",
       "      <td>u</td>\n",
       "      <td>g</td>\n",
       "      <td>w</td>\n",
       "      <td>v</td>\n",
       "      <td>1.71</td>\n",
       "      <td>t</td>\n",
       "      <td>f</td>\n",
       "      <td>0</td>\n",
       "      <td>f</td>\n",
       "      <td>s</td>\n",
       "      <td>120.0</td>\n",
       "      <td>0</td>\n",
       "      <td>+</td>\n",
       "    </tr>\n",
       "  </tbody>\n",
       "</table>\n",
       "</div>"
      ],
      "text/plain": [
       "  A1  A2     A3 A4 A5 A6 A7    A8 A9 A10  A11 A12 A13    A14  A15 A16\n",
       "0  b   1  0.000  u  g  w  v  1.25  t   t    1   f   g  202.0    0   +\n",
       "1  a   2  4.460  u  g  q  h  3.04  t   t    6   f   g   43.0  560   +\n",
       "2  a   1  0.500  u  g  q  h  1.50  t   f    0   f   g  280.0  824   +\n",
       "3  b   1  1.540  u  g  w  v  3.75  t   t    5   t   g  100.0    3   +\n",
       "4  b   0  5.625  u  g  w  v  1.71  t   f    0   f   s  120.0    0   +"
      ]
     },
     "execution_count": 30,
     "metadata": {},
     "output_type": "execute_result"
    }
   ],
   "source": [
    "# Before using the replace() function, the mapping between the levels and the integers needs to be defined.\n",
    "level_mapping = {'low': 0, 'medium': 1, 'high': 2} \n",
    "df_cat_integer = df_cat.copy()\n",
    "df_cat_integer['A2'] = df_cat_integer['A2'].replace(level_mapping)\n",
    "df_cat_integer.head(5)"
   ]
  },
  {
   "cell_type": "markdown",
   "metadata": {},
   "source": [
    "## One-Hot-Encoding"
   ]
  },
  {
   "cell_type": "markdown",
   "metadata": {},
   "source": [
    "\n",
    "Nominal descriptive features must always be encoded using one-hot-encoding. We can use the get_dummies() method in the Pandas module for one-hot-encoding. This is a very simple and effective method as you can do one-hot-encoding for multiple features at once and you can even supply a custom prefix for each categorical feature. If you omit the columns parameter, the **get_dummies()** method will intelligently do one-hot-encoding for all features that are not numeric. Thus, get_dummies() can be used in \"automatic\" mode."
   ]
  },
  {
   "cell_type": "markdown",
   "metadata": {},
   "source": [
    "Get a list of all descriptive categorical features. Display value counts for each one of these features. Comment on which feature(s) appear to be ordinal."
   ]
  },
  {
   "cell_type": "code",
   "execution_count": 31,
   "metadata": {},
   "outputs": [
    {
     "data": {
      "text/plain": [
       "['A1', 'A4', 'A5', 'A6', 'A7', 'A9', 'A10', 'A12', 'A13']"
      ]
     },
     "execution_count": 31,
     "metadata": {},
     "output_type": "execute_result"
    }
   ],
   "source": [
    "# Since it's known that A16 is target, this column will be droped here and encoded in the next sections.\n",
    "Data_Cat = df_cat_integer.drop(columns = 'A16') \n",
    "# Rest of the Data, will be encoded in this section.\n",
    "categorical_cols = Data_Cat.columns[Data_Cat.dtypes == np.object].tolist()\n",
    "categorical_cols"
   ]
  },
  {
   "cell_type": "markdown",
   "metadata": {},
   "source": [
    "So all the categorical features appear to be nominal. The one-hot encoding for all the descriptive categorical features will be performed and  this encoded data frame will be called as *Data_encoded*. \n",
    "\n",
    "If a categorical descriptive feature has **only 2 levels**, it will be encoded with only **one binary variable**. \n",
    "\n",
    "For other categorical features (*with more than 2 levels*), **regular one-hot-encoding** will be used (where number of binary variables are equal to the number of distinct levels).\n"
   ]
  },
  {
   "cell_type": "code",
   "execution_count": 34,
   "metadata": {},
   "outputs": [],
   "source": [
    "Data_encoded = Data_Cat.copy()  # retain original Data without encoding for further analysis\n",
    "\n",
    "# if a categorical descriptive feature has only 2 levels,\n",
    "# define only one binary variable\n",
    "for col in categorical_cols:\n",
    "    q = len(Data_encoded[col].unique())\n",
    "    if (q == 2):\n",
    "        Data_encoded[col] = pd.get_dummies(Data_encoded[col], drop_first=True)\n",
    "\n",
    "# for other categorical features (with > 2 levels), \n",
    "# perform regular one-hot-encoding using pd.get_dummies()\n",
    "# if a feature is numeric, it will be untouched\n",
    "Data_encoded = pd.get_dummies(Data_encoded)"
   ]
  },
  {
   "cell_type": "code",
   "execution_count": 35,
   "metadata": {},
   "outputs": [
    {
     "name": "stdout",
     "output_type": "stream",
     "text": [
      "The Shape of Data_encoded is (690, 42)\n",
      "\n"
     ]
    },
    {
     "data": {
      "text/html": [
       "<div>\n",
       "<style scoped>\n",
       "    .dataframe tbody tr th:only-of-type {\n",
       "        vertical-align: middle;\n",
       "    }\n",
       "\n",
       "    .dataframe tbody tr th {\n",
       "        vertical-align: top;\n",
       "    }\n",
       "\n",
       "    .dataframe thead th {\n",
       "        text-align: right;\n",
       "    }\n",
       "</style>\n",
       "<table border=\"1\" class=\"dataframe\">\n",
       "  <thead>\n",
       "    <tr style=\"text-align: right;\">\n",
       "      <th></th>\n",
       "      <th>A1</th>\n",
       "      <th>A2</th>\n",
       "      <th>A3</th>\n",
       "      <th>A8</th>\n",
       "      <th>A9</th>\n",
       "      <th>A10</th>\n",
       "      <th>A11</th>\n",
       "      <th>A12</th>\n",
       "      <th>A14</th>\n",
       "      <th>A15</th>\n",
       "      <th>...</th>\n",
       "      <th>A7_ff</th>\n",
       "      <th>A7_h</th>\n",
       "      <th>A7_j</th>\n",
       "      <th>A7_n</th>\n",
       "      <th>A7_o</th>\n",
       "      <th>A7_v</th>\n",
       "      <th>A7_z</th>\n",
       "      <th>A13_g</th>\n",
       "      <th>A13_p</th>\n",
       "      <th>A13_s</th>\n",
       "    </tr>\n",
       "  </thead>\n",
       "  <tbody>\n",
       "    <tr>\n",
       "      <td>214</td>\n",
       "      <td>1</td>\n",
       "      <td>1</td>\n",
       "      <td>2.710</td>\n",
       "      <td>5.25</td>\n",
       "      <td>1</td>\n",
       "      <td>1</td>\n",
       "      <td>1</td>\n",
       "      <td>0</td>\n",
       "      <td>211.0</td>\n",
       "      <td>0</td>\n",
       "      <td>...</td>\n",
       "      <td>0</td>\n",
       "      <td>0</td>\n",
       "      <td>0</td>\n",
       "      <td>0</td>\n",
       "      <td>0</td>\n",
       "      <td>1</td>\n",
       "      <td>0</td>\n",
       "      <td>1</td>\n",
       "      <td>0</td>\n",
       "      <td>0</td>\n",
       "    </tr>\n",
       "    <tr>\n",
       "      <td>545</td>\n",
       "      <td>1</td>\n",
       "      <td>2</td>\n",
       "      <td>11.000</td>\n",
       "      <td>1.50</td>\n",
       "      <td>1</td>\n",
       "      <td>0</td>\n",
       "      <td>0</td>\n",
       "      <td>0</td>\n",
       "      <td>0.0</td>\n",
       "      <td>0</td>\n",
       "      <td>...</td>\n",
       "      <td>0</td>\n",
       "      <td>0</td>\n",
       "      <td>0</td>\n",
       "      <td>0</td>\n",
       "      <td>0</td>\n",
       "      <td>1</td>\n",
       "      <td>0</td>\n",
       "      <td>0</td>\n",
       "      <td>0</td>\n",
       "      <td>1</td>\n",
       "    </tr>\n",
       "    <tr>\n",
       "      <td>436</td>\n",
       "      <td>1</td>\n",
       "      <td>0</td>\n",
       "      <td>0.585</td>\n",
       "      <td>0.00</td>\n",
       "      <td>0</td>\n",
       "      <td>1</td>\n",
       "      <td>3</td>\n",
       "      <td>0</td>\n",
       "      <td>350.0</td>\n",
       "      <td>769</td>\n",
       "      <td>...</td>\n",
       "      <td>1</td>\n",
       "      <td>0</td>\n",
       "      <td>0</td>\n",
       "      <td>0</td>\n",
       "      <td>0</td>\n",
       "      <td>0</td>\n",
       "      <td>0</td>\n",
       "      <td>1</td>\n",
       "      <td>0</td>\n",
       "      <td>0</td>\n",
       "    </tr>\n",
       "    <tr>\n",
       "      <td>201</td>\n",
       "      <td>0</td>\n",
       "      <td>2</td>\n",
       "      <td>1.000</td>\n",
       "      <td>2.25</td>\n",
       "      <td>1</td>\n",
       "      <td>0</td>\n",
       "      <td>0</td>\n",
       "      <td>1</td>\n",
       "      <td>0.0</td>\n",
       "      <td>300</td>\n",
       "      <td>...</td>\n",
       "      <td>0</td>\n",
       "      <td>0</td>\n",
       "      <td>0</td>\n",
       "      <td>0</td>\n",
       "      <td>0</td>\n",
       "      <td>0</td>\n",
       "      <td>0</td>\n",
       "      <td>1</td>\n",
       "      <td>0</td>\n",
       "      <td>0</td>\n",
       "    </tr>\n",
       "  </tbody>\n",
       "</table>\n",
       "<p>4 rows × 42 columns</p>\n",
       "</div>"
      ],
      "text/plain": [
       "     A1  A2      A3    A8  A9  A10  A11  A12    A14  A15  ...  A7_ff  A7_h  \\\n",
       "214   1   1   2.710  5.25   1    1    1    0  211.0    0  ...      0     0   \n",
       "545   1   2  11.000  1.50   1    0    0    0    0.0    0  ...      0     0   \n",
       "436   1   0   0.585  0.00   0    1    3    0  350.0  769  ...      1     0   \n",
       "201   0   2   1.000  2.25   1    0    0    1    0.0  300  ...      0     0   \n",
       "\n",
       "     A7_j  A7_n  A7_o  A7_v  A7_z  A13_g  A13_p  A13_s  \n",
       "214     0     0     0     1     0      1      0      0  \n",
       "545     0     0     0     1     0      0      0      1  \n",
       "436     0     0     0     0     0      1      0      0  \n",
       "201     0     0     0     0     0      1      0      0  \n",
       "\n",
       "[4 rows x 42 columns]"
      ]
     },
     "execution_count": 35,
     "metadata": {},
     "output_type": "execute_result"
    }
   ],
   "source": [
    "print(f'The Shape of Data_encoded is {Data_encoded.shape}\\n')  \n",
    "\n",
    "Data_encoded.sample(n=4, random_state=11)"
   ]
  },
  {
   "cell_type": "markdown",
   "metadata": {},
   "source": [
    "After encoding all the categorical features, we end up with a data frame that is all numerical. Get a description of Data_encoded with `include='all'` option."
   ]
  },
  {
   "cell_type": "code",
   "execution_count": 108,
   "metadata": {},
   "outputs": [
    {
     "data": {
      "text/html": [
       "<div>\n",
       "<style scoped>\n",
       "    .dataframe tbody tr th:only-of-type {\n",
       "        vertical-align: middle;\n",
       "    }\n",
       "\n",
       "    .dataframe tbody tr th {\n",
       "        vertical-align: top;\n",
       "    }\n",
       "\n",
       "    .dataframe thead th {\n",
       "        text-align: right;\n",
       "    }\n",
       "</style>\n",
       "<table border=\"1\" class=\"dataframe\">\n",
       "  <thead>\n",
       "    <tr style=\"text-align: right;\">\n",
       "      <th></th>\n",
       "      <th>A1</th>\n",
       "      <th>A2</th>\n",
       "      <th>A3</th>\n",
       "      <th>A8</th>\n",
       "      <th>A9</th>\n",
       "      <th>A10</th>\n",
       "      <th>A11</th>\n",
       "      <th>A12</th>\n",
       "      <th>A14</th>\n",
       "      <th>A15</th>\n",
       "      <th>...</th>\n",
       "      <th>A7_ff</th>\n",
       "      <th>A7_h</th>\n",
       "      <th>A7_j</th>\n",
       "      <th>A7_n</th>\n",
       "      <th>A7_o</th>\n",
       "      <th>A7_v</th>\n",
       "      <th>A7_z</th>\n",
       "      <th>A13_g</th>\n",
       "      <th>A13_p</th>\n",
       "      <th>A13_s</th>\n",
       "    </tr>\n",
       "  </thead>\n",
       "  <tbody>\n",
       "    <tr>\n",
       "      <th>count</th>\n",
       "      <td>690.000</td>\n",
       "      <td>690.000</td>\n",
       "      <td>690.000</td>\n",
       "      <td>690.000</td>\n",
       "      <td>690.000</td>\n",
       "      <td>690.000</td>\n",
       "      <td>690.000</td>\n",
       "      <td>690.000</td>\n",
       "      <td>690.000</td>\n",
       "      <td>690.000</td>\n",
       "      <td>...</td>\n",
       "      <td>690.000</td>\n",
       "      <td>690.0</td>\n",
       "      <td>690.000</td>\n",
       "      <td>690.000</td>\n",
       "      <td>690.000</td>\n",
       "      <td>690.000</td>\n",
       "      <td>690.000</td>\n",
       "      <td>690.000</td>\n",
       "      <td>690.000</td>\n",
       "      <td>690.000</td>\n",
       "    </tr>\n",
       "    <tr>\n",
       "      <th>mean</th>\n",
       "      <td>0.696</td>\n",
       "      <td>0.999</td>\n",
       "      <td>4.759</td>\n",
       "      <td>2.223</td>\n",
       "      <td>0.523</td>\n",
       "      <td>0.428</td>\n",
       "      <td>2.400</td>\n",
       "      <td>0.458</td>\n",
       "      <td>183.562</td>\n",
       "      <td>1017.386</td>\n",
       "      <td>...</td>\n",
       "      <td>0.083</td>\n",
       "      <td>0.2</td>\n",
       "      <td>0.012</td>\n",
       "      <td>0.006</td>\n",
       "      <td>0.003</td>\n",
       "      <td>0.591</td>\n",
       "      <td>0.012</td>\n",
       "      <td>0.906</td>\n",
       "      <td>0.012</td>\n",
       "      <td>0.083</td>\n",
       "    </tr>\n",
       "    <tr>\n",
       "      <th>std</th>\n",
       "      <td>0.460</td>\n",
       "      <td>0.816</td>\n",
       "      <td>4.978</td>\n",
       "      <td>3.347</td>\n",
       "      <td>0.500</td>\n",
       "      <td>0.495</td>\n",
       "      <td>4.863</td>\n",
       "      <td>0.499</td>\n",
       "      <td>172.190</td>\n",
       "      <td>5210.103</td>\n",
       "      <td>...</td>\n",
       "      <td>0.275</td>\n",
       "      <td>0.4</td>\n",
       "      <td>0.107</td>\n",
       "      <td>0.076</td>\n",
       "      <td>0.054</td>\n",
       "      <td>0.492</td>\n",
       "      <td>0.107</td>\n",
       "      <td>0.292</td>\n",
       "      <td>0.107</td>\n",
       "      <td>0.275</td>\n",
       "    </tr>\n",
       "    <tr>\n",
       "      <th>min</th>\n",
       "      <td>0.000</td>\n",
       "      <td>0.000</td>\n",
       "      <td>0.000</td>\n",
       "      <td>0.000</td>\n",
       "      <td>0.000</td>\n",
       "      <td>0.000</td>\n",
       "      <td>0.000</td>\n",
       "      <td>0.000</td>\n",
       "      <td>0.000</td>\n",
       "      <td>0.000</td>\n",
       "      <td>...</td>\n",
       "      <td>0.000</td>\n",
       "      <td>0.0</td>\n",
       "      <td>0.000</td>\n",
       "      <td>0.000</td>\n",
       "      <td>0.000</td>\n",
       "      <td>0.000</td>\n",
       "      <td>0.000</td>\n",
       "      <td>0.000</td>\n",
       "      <td>0.000</td>\n",
       "      <td>0.000</td>\n",
       "    </tr>\n",
       "    <tr>\n",
       "      <th>25%</th>\n",
       "      <td>0.000</td>\n",
       "      <td>0.000</td>\n",
       "      <td>1.000</td>\n",
       "      <td>0.165</td>\n",
       "      <td>0.000</td>\n",
       "      <td>0.000</td>\n",
       "      <td>0.000</td>\n",
       "      <td>0.000</td>\n",
       "      <td>80.000</td>\n",
       "      <td>0.000</td>\n",
       "      <td>...</td>\n",
       "      <td>0.000</td>\n",
       "      <td>0.0</td>\n",
       "      <td>0.000</td>\n",
       "      <td>0.000</td>\n",
       "      <td>0.000</td>\n",
       "      <td>0.000</td>\n",
       "      <td>0.000</td>\n",
       "      <td>1.000</td>\n",
       "      <td>0.000</td>\n",
       "      <td>0.000</td>\n",
       "    </tr>\n",
       "    <tr>\n",
       "      <th>50%</th>\n",
       "      <td>1.000</td>\n",
       "      <td>1.000</td>\n",
       "      <td>2.750</td>\n",
       "      <td>1.000</td>\n",
       "      <td>1.000</td>\n",
       "      <td>0.000</td>\n",
       "      <td>0.000</td>\n",
       "      <td>0.000</td>\n",
       "      <td>160.000</td>\n",
       "      <td>5.000</td>\n",
       "      <td>...</td>\n",
       "      <td>0.000</td>\n",
       "      <td>0.0</td>\n",
       "      <td>0.000</td>\n",
       "      <td>0.000</td>\n",
       "      <td>0.000</td>\n",
       "      <td>1.000</td>\n",
       "      <td>0.000</td>\n",
       "      <td>1.000</td>\n",
       "      <td>0.000</td>\n",
       "      <td>0.000</td>\n",
       "    </tr>\n",
       "    <tr>\n",
       "      <th>75%</th>\n",
       "      <td>1.000</td>\n",
       "      <td>2.000</td>\n",
       "      <td>7.208</td>\n",
       "      <td>2.625</td>\n",
       "      <td>1.000</td>\n",
       "      <td>1.000</td>\n",
       "      <td>3.000</td>\n",
       "      <td>1.000</td>\n",
       "      <td>272.000</td>\n",
       "      <td>395.500</td>\n",
       "      <td>...</td>\n",
       "      <td>0.000</td>\n",
       "      <td>0.0</td>\n",
       "      <td>0.000</td>\n",
       "      <td>0.000</td>\n",
       "      <td>0.000</td>\n",
       "      <td>1.000</td>\n",
       "      <td>0.000</td>\n",
       "      <td>1.000</td>\n",
       "      <td>0.000</td>\n",
       "      <td>0.000</td>\n",
       "    </tr>\n",
       "    <tr>\n",
       "      <th>max</th>\n",
       "      <td>1.000</td>\n",
       "      <td>2.000</td>\n",
       "      <td>28.000</td>\n",
       "      <td>28.500</td>\n",
       "      <td>1.000</td>\n",
       "      <td>1.000</td>\n",
       "      <td>67.000</td>\n",
       "      <td>1.000</td>\n",
       "      <td>2000.000</td>\n",
       "      <td>100000.000</td>\n",
       "      <td>...</td>\n",
       "      <td>1.000</td>\n",
       "      <td>1.0</td>\n",
       "      <td>1.000</td>\n",
       "      <td>1.000</td>\n",
       "      <td>1.000</td>\n",
       "      <td>1.000</td>\n",
       "      <td>1.000</td>\n",
       "      <td>1.000</td>\n",
       "      <td>1.000</td>\n",
       "      <td>1.000</td>\n",
       "    </tr>\n",
       "  </tbody>\n",
       "</table>\n",
       "<p>8 rows × 42 columns</p>\n",
       "</div>"
      ],
      "text/plain": [
       "            A1       A2       A3       A8       A9      A10      A11      A12  \\\n",
       "count  690.000  690.000  690.000  690.000  690.000  690.000  690.000  690.000   \n",
       "mean     0.696    0.999    4.759    2.223    0.523    0.428    2.400    0.458   \n",
       "std      0.460    0.816    4.978    3.347    0.500    0.495    4.863    0.499   \n",
       "min      0.000    0.000    0.000    0.000    0.000    0.000    0.000    0.000   \n",
       "25%      0.000    0.000    1.000    0.165    0.000    0.000    0.000    0.000   \n",
       "50%      1.000    1.000    2.750    1.000    1.000    0.000    0.000    0.000   \n",
       "75%      1.000    2.000    7.208    2.625    1.000    1.000    3.000    1.000   \n",
       "max      1.000    2.000   28.000   28.500    1.000    1.000   67.000    1.000   \n",
       "\n",
       "            A14         A15   ...       A7_ff   A7_h     A7_j     A7_n  \\\n",
       "count   690.000     690.000   ...     690.000  690.0  690.000  690.000   \n",
       "mean    183.562    1017.386   ...       0.083    0.2    0.012    0.006   \n",
       "std     172.190    5210.103   ...       0.275    0.4    0.107    0.076   \n",
       "min       0.000       0.000   ...       0.000    0.0    0.000    0.000   \n",
       "25%      80.000       0.000   ...       0.000    0.0    0.000    0.000   \n",
       "50%     160.000       5.000   ...       0.000    0.0    0.000    0.000   \n",
       "75%     272.000     395.500   ...       0.000    0.0    0.000    0.000   \n",
       "max    2000.000  100000.000   ...       1.000    1.0    1.000    1.000   \n",
       "\n",
       "          A7_o     A7_v     A7_z    A13_g    A13_p    A13_s  \n",
       "count  690.000  690.000  690.000  690.000  690.000  690.000  \n",
       "mean     0.003    0.591    0.012    0.906    0.012    0.083  \n",
       "std      0.054    0.492    0.107    0.292    0.107    0.275  \n",
       "min      0.000    0.000    0.000    0.000    0.000    0.000  \n",
       "25%      0.000    0.000    0.000    1.000    0.000    0.000  \n",
       "50%      0.000    1.000    0.000    1.000    0.000    0.000  \n",
       "75%      0.000    1.000    0.000    1.000    0.000    0.000  \n",
       "max      1.000    1.000    1.000    1.000    1.000    1.000  \n",
       "\n",
       "[8 rows x 42 columns]"
      ]
     },
     "execution_count": 108,
     "metadata": {},
     "output_type": "execute_result"
    }
   ],
   "source": [
    "Data_encoded.describe(include='all').round(3)"
   ]
  },
  {
   "cell_type": "markdown",
   "metadata": {},
   "source": [
    "### Encoding The Target Feature "
   ]
  },
  {
   "cell_type": "markdown",
   "metadata": {},
   "source": [
    "As it in the One-Hot Encoding section, A16 was excluded from the whole dataset. In this section A16 column will be encoding using `.replace` command. "
   ]
  },
  {
   "cell_type": "code",
   "execution_count": 33,
   "metadata": {},
   "outputs": [
    {
     "data": {
      "text/plain": [
       "(array(['+', '-'], dtype=object), array([307, 383]))"
      ]
     },
     "execution_count": 33,
     "metadata": {},
     "output_type": "execute_result"
    }
   ],
   "source": [
    "A16 = df_cat_integer['A16']\n",
    "np.unique(A16, return_counts=True)"
   ]
  },
  {
   "cell_type": "markdown",
   "metadata": {},
   "source": [
    "The target feature will be label-encoded since its known that target column is binary, the positive class is encoded as 1."
   ]
  },
  {
   "cell_type": "code",
   "execution_count": 120,
   "metadata": {},
   "outputs": [
    {
     "ename": "TypeError",
     "evalue": "Cannot compare types 'ndarray(dtype=int64)' and 'str'",
     "output_type": "error",
     "traceback": [
      "\u001b[0;31m---------------------------------------------------------------------------\u001b[0m",
      "\u001b[0;31mTypeError\u001b[0m                                 Traceback (most recent call last)",
      "\u001b[0;32m<ipython-input-120-d6f1de07d111>\u001b[0m in \u001b[0;36m<module>\u001b[0;34m\u001b[0m\n\u001b[0;32m----> 1\u001b[0;31m \u001b[0mA16\u001b[0m \u001b[0;34m=\u001b[0m \u001b[0mA16\u001b[0m\u001b[0;34m.\u001b[0m\u001b[0mreplace\u001b[0m\u001b[0;34m(\u001b[0m\u001b[0;34m{\u001b[0m\u001b[0;34m'+'\u001b[0m\u001b[0;34m:\u001b[0m \u001b[0;36m1\u001b[0m \u001b[0;34m,\u001b[0m \u001b[0;34m'-'\u001b[0m\u001b[0;34m:\u001b[0m\u001b[0;36m0\u001b[0m\u001b[0;34m}\u001b[0m\u001b[0;34m)\u001b[0m\u001b[0;34m\u001b[0m\u001b[0m\n\u001b[0m\u001b[1;32m      2\u001b[0m \u001b[0mA16\u001b[0m\u001b[0;34m.\u001b[0m\u001b[0mvalue_counts\u001b[0m\u001b[0;34m(\u001b[0m\u001b[0;34m)\u001b[0m\u001b[0;34m\u001b[0m\u001b[0m\n",
      "\u001b[0;32m~/anaconda3_501/lib/python3.6/site-packages/pandas/core/series.py\u001b[0m in \u001b[0;36mreplace\u001b[0;34m(self, to_replace, value, inplace, limit, regex, method)\u001b[0m\n\u001b[1;32m   3430\u001b[0m         return super(Series, self).replace(to_replace=to_replace, value=value,\n\u001b[1;32m   3431\u001b[0m                                            \u001b[0minplace\u001b[0m\u001b[0;34m=\u001b[0m\u001b[0minplace\u001b[0m\u001b[0;34m,\u001b[0m \u001b[0mlimit\u001b[0m\u001b[0;34m=\u001b[0m\u001b[0mlimit\u001b[0m\u001b[0;34m,\u001b[0m\u001b[0;34m\u001b[0m\u001b[0m\n\u001b[0;32m-> 3432\u001b[0;31m                                            regex=regex, method=method)\n\u001b[0m\u001b[1;32m   3433\u001b[0m \u001b[0;34m\u001b[0m\u001b[0m\n\u001b[1;32m   3434\u001b[0m     \u001b[0;34m@\u001b[0m\u001b[0mAppender\u001b[0m\u001b[0;34m(\u001b[0m\u001b[0mgeneric\u001b[0m\u001b[0;34m.\u001b[0m\u001b[0m_shared_docs\u001b[0m\u001b[0;34m[\u001b[0m\u001b[0;34m'shift'\u001b[0m\u001b[0;34m]\u001b[0m \u001b[0;34m%\u001b[0m \u001b[0m_shared_doc_kwargs\u001b[0m\u001b[0;34m)\u001b[0m\u001b[0;34m\u001b[0m\u001b[0m\n",
      "\u001b[0;32m~/anaconda3_501/lib/python3.6/site-packages/pandas/core/generic.py\u001b[0m in \u001b[0;36mreplace\u001b[0;34m(self, to_replace, value, inplace, limit, regex, method)\u001b[0m\n\u001b[1;32m   5800\u001b[0m \u001b[0;34m\u001b[0m\u001b[0m\n\u001b[1;32m   5801\u001b[0m             return self.replace(to_replace, value, inplace=inplace,\n\u001b[0;32m-> 5802\u001b[0;31m                                 limit=limit, regex=regex)\n\u001b[0m\u001b[1;32m   5803\u001b[0m         \u001b[0;32melse\u001b[0m\u001b[0;34m:\u001b[0m\u001b[0;34m\u001b[0m\u001b[0m\n\u001b[1;32m   5804\u001b[0m \u001b[0;34m\u001b[0m\u001b[0m\n",
      "\u001b[0;32m~/anaconda3_501/lib/python3.6/site-packages/pandas/core/series.py\u001b[0m in \u001b[0;36mreplace\u001b[0;34m(self, to_replace, value, inplace, limit, regex, method)\u001b[0m\n\u001b[1;32m   3430\u001b[0m         return super(Series, self).replace(to_replace=to_replace, value=value,\n\u001b[1;32m   3431\u001b[0m                                            \u001b[0minplace\u001b[0m\u001b[0;34m=\u001b[0m\u001b[0minplace\u001b[0m\u001b[0;34m,\u001b[0m \u001b[0mlimit\u001b[0m\u001b[0;34m=\u001b[0m\u001b[0mlimit\u001b[0m\u001b[0;34m,\u001b[0m\u001b[0;34m\u001b[0m\u001b[0m\n\u001b[0;32m-> 3432\u001b[0;31m                                            regex=regex, method=method)\n\u001b[0m\u001b[1;32m   3433\u001b[0m \u001b[0;34m\u001b[0m\u001b[0m\n\u001b[1;32m   3434\u001b[0m     \u001b[0;34m@\u001b[0m\u001b[0mAppender\u001b[0m\u001b[0;34m(\u001b[0m\u001b[0mgeneric\u001b[0m\u001b[0;34m.\u001b[0m\u001b[0m_shared_docs\u001b[0m\u001b[0;34m[\u001b[0m\u001b[0;34m'shift'\u001b[0m\u001b[0;34m]\u001b[0m \u001b[0;34m%\u001b[0m \u001b[0m_shared_doc_kwargs\u001b[0m\u001b[0;34m)\u001b[0m\u001b[0;34m\u001b[0m\u001b[0m\n",
      "\u001b[0;32m~/anaconda3_501/lib/python3.6/site-packages/pandas/core/generic.py\u001b[0m in \u001b[0;36mreplace\u001b[0;34m(self, to_replace, value, inplace, limit, regex, method)\u001b[0m\n\u001b[1;32m   5849\u001b[0m                                                        \u001b[0mdest_list\u001b[0m\u001b[0;34m=\u001b[0m\u001b[0mvalue\u001b[0m\u001b[0;34m,\u001b[0m\u001b[0;34m\u001b[0m\u001b[0m\n\u001b[1;32m   5850\u001b[0m                                                        \u001b[0minplace\u001b[0m\u001b[0;34m=\u001b[0m\u001b[0minplace\u001b[0m\u001b[0;34m,\u001b[0m\u001b[0;34m\u001b[0m\u001b[0m\n\u001b[0;32m-> 5851\u001b[0;31m                                                        regex=regex)\n\u001b[0m\u001b[1;32m   5852\u001b[0m \u001b[0;34m\u001b[0m\u001b[0m\n\u001b[1;32m   5853\u001b[0m                 \u001b[0;32melse\u001b[0m\u001b[0;34m:\u001b[0m  \u001b[0;31m# [NA, ''] -> 0\u001b[0m\u001b[0;34m\u001b[0m\u001b[0m\n",
      "\u001b[0;32m~/anaconda3_501/lib/python3.6/site-packages/pandas/core/internals.py\u001b[0m in \u001b[0;36mreplace_list\u001b[0;34m(self, src_list, dest_list, inplace, regex, mgr)\u001b[0m\n\u001b[1;32m   3737\u001b[0m             \u001b[0;32mreturn\u001b[0m \u001b[0m_maybe_compare\u001b[0m\u001b[0;34m(\u001b[0m\u001b[0mvalues\u001b[0m\u001b[0;34m,\u001b[0m \u001b[0mgetattr\u001b[0m\u001b[0;34m(\u001b[0m\u001b[0ms\u001b[0m\u001b[0;34m,\u001b[0m \u001b[0;34m'asm8'\u001b[0m\u001b[0;34m,\u001b[0m \u001b[0ms\u001b[0m\u001b[0;34m)\u001b[0m\u001b[0;34m,\u001b[0m \u001b[0moperator\u001b[0m\u001b[0;34m.\u001b[0m\u001b[0meq\u001b[0m\u001b[0;34m)\u001b[0m\u001b[0;34m\u001b[0m\u001b[0m\n\u001b[1;32m   3738\u001b[0m \u001b[0;34m\u001b[0m\u001b[0m\n\u001b[0;32m-> 3739\u001b[0;31m         \u001b[0mmasks\u001b[0m \u001b[0;34m=\u001b[0m \u001b[0;34m[\u001b[0m\u001b[0mcomp\u001b[0m\u001b[0;34m(\u001b[0m\u001b[0ms\u001b[0m\u001b[0;34m)\u001b[0m \u001b[0;32mfor\u001b[0m \u001b[0mi\u001b[0m\u001b[0;34m,\u001b[0m \u001b[0ms\u001b[0m \u001b[0;32min\u001b[0m \u001b[0menumerate\u001b[0m\u001b[0;34m(\u001b[0m\u001b[0msrc_list\u001b[0m\u001b[0;34m)\u001b[0m\u001b[0;34m]\u001b[0m\u001b[0;34m\u001b[0m\u001b[0m\n\u001b[0m\u001b[1;32m   3740\u001b[0m \u001b[0;34m\u001b[0m\u001b[0m\n\u001b[1;32m   3741\u001b[0m         \u001b[0mresult_blocks\u001b[0m \u001b[0;34m=\u001b[0m \u001b[0;34m[\u001b[0m\u001b[0;34m]\u001b[0m\u001b[0;34m\u001b[0m\u001b[0m\n",
      "\u001b[0;32m~/anaconda3_501/lib/python3.6/site-packages/pandas/core/internals.py\u001b[0m in \u001b[0;36m<listcomp>\u001b[0;34m(.0)\u001b[0m\n\u001b[1;32m   3737\u001b[0m             \u001b[0;32mreturn\u001b[0m \u001b[0m_maybe_compare\u001b[0m\u001b[0;34m(\u001b[0m\u001b[0mvalues\u001b[0m\u001b[0;34m,\u001b[0m \u001b[0mgetattr\u001b[0m\u001b[0;34m(\u001b[0m\u001b[0ms\u001b[0m\u001b[0;34m,\u001b[0m \u001b[0;34m'asm8'\u001b[0m\u001b[0;34m,\u001b[0m \u001b[0ms\u001b[0m\u001b[0;34m)\u001b[0m\u001b[0;34m,\u001b[0m \u001b[0moperator\u001b[0m\u001b[0;34m.\u001b[0m\u001b[0meq\u001b[0m\u001b[0;34m)\u001b[0m\u001b[0;34m\u001b[0m\u001b[0m\n\u001b[1;32m   3738\u001b[0m \u001b[0;34m\u001b[0m\u001b[0m\n\u001b[0;32m-> 3739\u001b[0;31m         \u001b[0mmasks\u001b[0m \u001b[0;34m=\u001b[0m \u001b[0;34m[\u001b[0m\u001b[0mcomp\u001b[0m\u001b[0;34m(\u001b[0m\u001b[0ms\u001b[0m\u001b[0;34m)\u001b[0m \u001b[0;32mfor\u001b[0m \u001b[0mi\u001b[0m\u001b[0;34m,\u001b[0m \u001b[0ms\u001b[0m \u001b[0;32min\u001b[0m \u001b[0menumerate\u001b[0m\u001b[0;34m(\u001b[0m\u001b[0msrc_list\u001b[0m\u001b[0;34m)\u001b[0m\u001b[0;34m]\u001b[0m\u001b[0;34m\u001b[0m\u001b[0m\n\u001b[0m\u001b[1;32m   3740\u001b[0m \u001b[0;34m\u001b[0m\u001b[0m\n\u001b[1;32m   3741\u001b[0m         \u001b[0mresult_blocks\u001b[0m \u001b[0;34m=\u001b[0m \u001b[0;34m[\u001b[0m\u001b[0;34m]\u001b[0m\u001b[0;34m\u001b[0m\u001b[0m\n",
      "\u001b[0;32m~/anaconda3_501/lib/python3.6/site-packages/pandas/core/internals.py\u001b[0m in \u001b[0;36mcomp\u001b[0;34m(s)\u001b[0m\n\u001b[1;32m   3735\u001b[0m             \u001b[0;32mif\u001b[0m \u001b[0misna\u001b[0m\u001b[0;34m(\u001b[0m\u001b[0ms\u001b[0m\u001b[0;34m)\u001b[0m\u001b[0;34m:\u001b[0m\u001b[0;34m\u001b[0m\u001b[0m\n\u001b[1;32m   3736\u001b[0m                 \u001b[0;32mreturn\u001b[0m \u001b[0misna\u001b[0m\u001b[0;34m(\u001b[0m\u001b[0mvalues\u001b[0m\u001b[0;34m)\u001b[0m\u001b[0;34m\u001b[0m\u001b[0m\n\u001b[0;32m-> 3737\u001b[0;31m             \u001b[0;32mreturn\u001b[0m \u001b[0m_maybe_compare\u001b[0m\u001b[0;34m(\u001b[0m\u001b[0mvalues\u001b[0m\u001b[0;34m,\u001b[0m \u001b[0mgetattr\u001b[0m\u001b[0;34m(\u001b[0m\u001b[0ms\u001b[0m\u001b[0;34m,\u001b[0m \u001b[0;34m'asm8'\u001b[0m\u001b[0;34m,\u001b[0m \u001b[0ms\u001b[0m\u001b[0;34m)\u001b[0m\u001b[0;34m,\u001b[0m \u001b[0moperator\u001b[0m\u001b[0;34m.\u001b[0m\u001b[0meq\u001b[0m\u001b[0;34m)\u001b[0m\u001b[0;34m\u001b[0m\u001b[0m\n\u001b[0m\u001b[1;32m   3738\u001b[0m \u001b[0;34m\u001b[0m\u001b[0m\n\u001b[1;32m   3739\u001b[0m         \u001b[0mmasks\u001b[0m \u001b[0;34m=\u001b[0m \u001b[0;34m[\u001b[0m\u001b[0mcomp\u001b[0m\u001b[0;34m(\u001b[0m\u001b[0ms\u001b[0m\u001b[0;34m)\u001b[0m \u001b[0;32mfor\u001b[0m \u001b[0mi\u001b[0m\u001b[0;34m,\u001b[0m \u001b[0ms\u001b[0m \u001b[0;32min\u001b[0m \u001b[0menumerate\u001b[0m\u001b[0;34m(\u001b[0m\u001b[0msrc_list\u001b[0m\u001b[0;34m)\u001b[0m\u001b[0;34m]\u001b[0m\u001b[0;34m\u001b[0m\u001b[0m\n",
      "\u001b[0;32m~/anaconda3_501/lib/python3.6/site-packages/pandas/core/internals.py\u001b[0m in \u001b[0;36m_maybe_compare\u001b[0;34m(a, b, op)\u001b[0m\n\u001b[1;32m   5163\u001b[0m         raise TypeError(\n\u001b[1;32m   5164\u001b[0m             \"Cannot compare types {a!r} and {b!r}\".format(a=type_names[0],\n\u001b[0;32m-> 5165\u001b[0;31m                                                           b=type_names[1]))\n\u001b[0m\u001b[1;32m   5166\u001b[0m     \u001b[0;32mreturn\u001b[0m \u001b[0mresult\u001b[0m\u001b[0;34m\u001b[0m\u001b[0m\n\u001b[1;32m   5167\u001b[0m \u001b[0;34m\u001b[0m\u001b[0m\n",
      "\u001b[0;31mTypeError\u001b[0m: Cannot compare types 'ndarray(dtype=int64)' and 'str'"
     ]
    }
   ],
   "source": [
    "A16 = A16.replace({'+': 1 , '-':0})\n",
    "A16.value_counts()"
   ]
  },
  {
   "cell_type": "markdown",
   "metadata": {},
   "source": [
    "## Scaling Descriptive Features"
   ]
  },
  {
   "cell_type": "markdown",
   "metadata": {},
   "source": [
    "Once all categorical descriptive features are encoded, all features in this transformed dataset will be numerical. It is always a good idea to scale these numerical descriptive features before fitting any models, as scaling is mandatory for some important class of models such as nearest neighbors, SVMs, and deep learning."
   ]
  },
  {
   "cell_type": "markdown",
   "metadata": {},
   "source": [
    "Scaling of each descriptive feature is done via standardization. That is, each value of the descriptive feature is scaled by removing the mean and dividing by the standard deviation of that feature. `This ensures that, after scaling, each descriptive feature has a 0 mean and 1 standard deviation. ` \n",
    "\n",
    "$$ Standart Scaling =\\frac{value - mean}{standart deviation}$$\n",
    "\n"
   ]
  },
  {
   "cell_type": "markdown",
   "metadata": {},
   "source": [
    "Before fitting any Scikit-Learn models, any Pandas series or data frame is converted to a NumPy array using the `.values` method in Pandas."
   ]
  },
  {
   "cell_type": "code",
   "execution_count": 127,
   "metadata": {
    "scrolled": true
   },
   "outputs": [
    {
     "data": {
      "text/html": [
       "<div>\n",
       "<style scoped>\n",
       "    .dataframe tbody tr th:only-of-type {\n",
       "        vertical-align: middle;\n",
       "    }\n",
       "\n",
       "    .dataframe tbody tr th {\n",
       "        vertical-align: top;\n",
       "    }\n",
       "\n",
       "    .dataframe thead th {\n",
       "        text-align: right;\n",
       "    }\n",
       "</style>\n",
       "<table border=\"1\" class=\"dataframe\">\n",
       "  <thead>\n",
       "    <tr style=\"text-align: right;\">\n",
       "      <th></th>\n",
       "      <th>A1</th>\n",
       "      <th>A2</th>\n",
       "      <th>A3</th>\n",
       "      <th>A8</th>\n",
       "      <th>A9</th>\n",
       "      <th>A10</th>\n",
       "      <th>A11</th>\n",
       "      <th>A12</th>\n",
       "      <th>A14</th>\n",
       "      <th>A15</th>\n",
       "      <th>...</th>\n",
       "      <th>A7_ff</th>\n",
       "      <th>A7_h</th>\n",
       "      <th>A7_j</th>\n",
       "      <th>A7_n</th>\n",
       "      <th>A7_o</th>\n",
       "      <th>A7_v</th>\n",
       "      <th>A7_z</th>\n",
       "      <th>A13_g</th>\n",
       "      <th>A13_p</th>\n",
       "      <th>A13_s</th>\n",
       "    </tr>\n",
       "  </thead>\n",
       "  <tbody>\n",
       "    <tr>\n",
       "      <th>0</th>\n",
       "      <td>0.661438</td>\n",
       "      <td>0.001777</td>\n",
       "      <td>-0.956613</td>\n",
       "      <td>-0.291083</td>\n",
       "      <td>0.95465</td>\n",
       "      <td>1.157144</td>\n",
       "      <td>-0.288101</td>\n",
       "      <td>-0.919195</td>\n",
       "      <td>0.107155</td>\n",
       "      <td>-0.195413</td>\n",
       "      <td>...</td>\n",
       "      <td>-0.300079</td>\n",
       "      <td>-0.5</td>\n",
       "      <td>-0.108306</td>\n",
       "      <td>-0.07636</td>\n",
       "      <td>-0.053916</td>\n",
       "      <td>0.831370</td>\n",
       "      <td>-0.108306</td>\n",
       "      <td>0.322490</td>\n",
       "      <td>-0.108306</td>\n",
       "      <td>-0.300079</td>\n",
       "    </tr>\n",
       "    <tr>\n",
       "      <th>1</th>\n",
       "      <td>-1.511858</td>\n",
       "      <td>1.227857</td>\n",
       "      <td>-0.060051</td>\n",
       "      <td>0.244190</td>\n",
       "      <td>0.95465</td>\n",
       "      <td>1.157144</td>\n",
       "      <td>0.740830</td>\n",
       "      <td>-0.919195</td>\n",
       "      <td>-0.816912</td>\n",
       "      <td>-0.087852</td>\n",
       "      <td>...</td>\n",
       "      <td>-0.300079</td>\n",
       "      <td>2.0</td>\n",
       "      <td>-0.108306</td>\n",
       "      <td>-0.07636</td>\n",
       "      <td>-0.053916</td>\n",
       "      <td>-1.202834</td>\n",
       "      <td>-0.108306</td>\n",
       "      <td>0.322490</td>\n",
       "      <td>-0.108306</td>\n",
       "      <td>-0.300079</td>\n",
       "    </tr>\n",
       "    <tr>\n",
       "      <th>2</th>\n",
       "      <td>-1.511858</td>\n",
       "      <td>0.001777</td>\n",
       "      <td>-0.856102</td>\n",
       "      <td>-0.216324</td>\n",
       "      <td>0.95465</td>\n",
       "      <td>-0.864196</td>\n",
       "      <td>-0.493887</td>\n",
       "      <td>-0.919195</td>\n",
       "      <td>0.560471</td>\n",
       "      <td>-0.037144</td>\n",
       "      <td>...</td>\n",
       "      <td>-0.300079</td>\n",
       "      <td>2.0</td>\n",
       "      <td>-0.108306</td>\n",
       "      <td>-0.07636</td>\n",
       "      <td>-0.053916</td>\n",
       "      <td>-1.202834</td>\n",
       "      <td>-0.108306</td>\n",
       "      <td>0.322490</td>\n",
       "      <td>-0.108306</td>\n",
       "      <td>-0.300079</td>\n",
       "    </tr>\n",
       "    <tr>\n",
       "      <th>3</th>\n",
       "      <td>0.661438</td>\n",
       "      <td>0.001777</td>\n",
       "      <td>-0.647038</td>\n",
       "      <td>0.456505</td>\n",
       "      <td>0.95465</td>\n",
       "      <td>1.157144</td>\n",
       "      <td>0.535044</td>\n",
       "      <td>1.087908</td>\n",
       "      <td>-0.485643</td>\n",
       "      <td>-0.194837</td>\n",
       "      <td>...</td>\n",
       "      <td>-0.300079</td>\n",
       "      <td>-0.5</td>\n",
       "      <td>-0.108306</td>\n",
       "      <td>-0.07636</td>\n",
       "      <td>-0.053916</td>\n",
       "      <td>0.831370</td>\n",
       "      <td>-0.108306</td>\n",
       "      <td>0.322490</td>\n",
       "      <td>-0.108306</td>\n",
       "      <td>-0.300079</td>\n",
       "    </tr>\n",
       "    <tr>\n",
       "      <th>4</th>\n",
       "      <td>0.661438</td>\n",
       "      <td>-1.224303</td>\n",
       "      <td>0.174141</td>\n",
       "      <td>-0.153526</td>\n",
       "      <td>0.95465</td>\n",
       "      <td>-0.864196</td>\n",
       "      <td>-0.493887</td>\n",
       "      <td>-0.919195</td>\n",
       "      <td>-0.369408</td>\n",
       "      <td>-0.195413</td>\n",
       "      <td>...</td>\n",
       "      <td>-0.300079</td>\n",
       "      <td>-0.5</td>\n",
       "      <td>-0.108306</td>\n",
       "      <td>-0.07636</td>\n",
       "      <td>-0.053916</td>\n",
       "      <td>0.831370</td>\n",
       "      <td>-0.108306</td>\n",
       "      <td>-3.100868</td>\n",
       "      <td>-0.108306</td>\n",
       "      <td>3.332456</td>\n",
       "    </tr>\n",
       "  </tbody>\n",
       "</table>\n",
       "<p>5 rows × 42 columns</p>\n",
       "</div>"
      ],
      "text/plain": [
       "         A1        A2        A3        A8       A9       A10       A11  \\\n",
       "0  0.661438  0.001777 -0.956613 -0.291083  0.95465  1.157144 -0.288101   \n",
       "1 -1.511858  1.227857 -0.060051  0.244190  0.95465  1.157144  0.740830   \n",
       "2 -1.511858  0.001777 -0.856102 -0.216324  0.95465 -0.864196 -0.493887   \n",
       "3  0.661438  0.001777 -0.647038  0.456505  0.95465  1.157144  0.535044   \n",
       "4  0.661438 -1.224303  0.174141 -0.153526  0.95465 -0.864196 -0.493887   \n",
       "\n",
       "        A12       A14       A15    ...        A7_ff  A7_h      A7_j     A7_n  \\\n",
       "0 -0.919195  0.107155 -0.195413    ...    -0.300079  -0.5 -0.108306 -0.07636   \n",
       "1 -0.919195 -0.816912 -0.087852    ...    -0.300079   2.0 -0.108306 -0.07636   \n",
       "2 -0.919195  0.560471 -0.037144    ...    -0.300079   2.0 -0.108306 -0.07636   \n",
       "3  1.087908 -0.485643 -0.194837    ...    -0.300079  -0.5 -0.108306 -0.07636   \n",
       "4 -0.919195 -0.369408 -0.195413    ...    -0.300079  -0.5 -0.108306 -0.07636   \n",
       "\n",
       "       A7_o      A7_v      A7_z     A13_g     A13_p     A13_s  \n",
       "0 -0.053916  0.831370 -0.108306  0.322490 -0.108306 -0.300079  \n",
       "1 -0.053916 -1.202834 -0.108306  0.322490 -0.108306 -0.300079  \n",
       "2 -0.053916 -1.202834 -0.108306  0.322490 -0.108306 -0.300079  \n",
       "3 -0.053916  0.831370 -0.108306  0.322490 -0.108306 -0.300079  \n",
       "4 -0.053916  0.831370 -0.108306 -3.100868 -0.108306  3.332456  \n",
       "\n",
       "[5 rows x 42 columns]"
      ]
     },
     "execution_count": 127,
     "metadata": {},
     "output_type": "execute_result"
    }
   ],
   "source": [
    "from sklearn import preprocessing\n",
    "\n",
    "Standard= pd.DataFrame(preprocessing.StandardScaler().fit_transform(Data_encoded.values), columns=Data_encoded.columns)\n",
    "\n",
    "Standard.head()"
   ]
  },
  {
   "cell_type": "markdown",
   "metadata": {},
   "source": [
    "Before calling the last version of the dataset as a clean dataset, the target column needs to be combined with the last dataset. Since A16 is known as a target variable, it needs to be the last column in the clean data and its name needs to be target."
   ]
  },
  {
   "cell_type": "code",
   "execution_count": 128,
   "metadata": {
    "scrolled": true
   },
   "outputs": [
    {
     "data": {
      "text/html": [
       "<div>\n",
       "<style scoped>\n",
       "    .dataframe tbody tr th:only-of-type {\n",
       "        vertical-align: middle;\n",
       "    }\n",
       "\n",
       "    .dataframe tbody tr th {\n",
       "        vertical-align: top;\n",
       "    }\n",
       "\n",
       "    .dataframe thead th {\n",
       "        text-align: right;\n",
       "    }\n",
       "</style>\n",
       "<table border=\"1\" class=\"dataframe\">\n",
       "  <thead>\n",
       "    <tr style=\"text-align: right;\">\n",
       "      <th></th>\n",
       "      <th>A1</th>\n",
       "      <th>A2</th>\n",
       "      <th>A3</th>\n",
       "      <th>A8</th>\n",
       "      <th>A9</th>\n",
       "      <th>A10</th>\n",
       "      <th>A11</th>\n",
       "      <th>A12</th>\n",
       "      <th>A14</th>\n",
       "      <th>A15</th>\n",
       "      <th>...</th>\n",
       "      <th>A7_h</th>\n",
       "      <th>A7_j</th>\n",
       "      <th>A7_n</th>\n",
       "      <th>A7_o</th>\n",
       "      <th>A7_v</th>\n",
       "      <th>A7_z</th>\n",
       "      <th>A13_g</th>\n",
       "      <th>A13_p</th>\n",
       "      <th>A13_s</th>\n",
       "      <th>Target</th>\n",
       "    </tr>\n",
       "  </thead>\n",
       "  <tbody>\n",
       "    <tr>\n",
       "      <th>0</th>\n",
       "      <td>0.661438</td>\n",
       "      <td>0.001777</td>\n",
       "      <td>-0.956613</td>\n",
       "      <td>-0.291083</td>\n",
       "      <td>0.95465</td>\n",
       "      <td>1.157144</td>\n",
       "      <td>-0.288101</td>\n",
       "      <td>-0.919195</td>\n",
       "      <td>0.107155</td>\n",
       "      <td>-0.195413</td>\n",
       "      <td>...</td>\n",
       "      <td>-0.5</td>\n",
       "      <td>-0.108306</td>\n",
       "      <td>-0.07636</td>\n",
       "      <td>-0.053916</td>\n",
       "      <td>0.831370</td>\n",
       "      <td>-0.108306</td>\n",
       "      <td>0.322490</td>\n",
       "      <td>-0.108306</td>\n",
       "      <td>-0.300079</td>\n",
       "      <td>1</td>\n",
       "    </tr>\n",
       "    <tr>\n",
       "      <th>1</th>\n",
       "      <td>-1.511858</td>\n",
       "      <td>1.227857</td>\n",
       "      <td>-0.060051</td>\n",
       "      <td>0.244190</td>\n",
       "      <td>0.95465</td>\n",
       "      <td>1.157144</td>\n",
       "      <td>0.740830</td>\n",
       "      <td>-0.919195</td>\n",
       "      <td>-0.816912</td>\n",
       "      <td>-0.087852</td>\n",
       "      <td>...</td>\n",
       "      <td>2.0</td>\n",
       "      <td>-0.108306</td>\n",
       "      <td>-0.07636</td>\n",
       "      <td>-0.053916</td>\n",
       "      <td>-1.202834</td>\n",
       "      <td>-0.108306</td>\n",
       "      <td>0.322490</td>\n",
       "      <td>-0.108306</td>\n",
       "      <td>-0.300079</td>\n",
       "      <td>1</td>\n",
       "    </tr>\n",
       "    <tr>\n",
       "      <th>2</th>\n",
       "      <td>-1.511858</td>\n",
       "      <td>0.001777</td>\n",
       "      <td>-0.856102</td>\n",
       "      <td>-0.216324</td>\n",
       "      <td>0.95465</td>\n",
       "      <td>-0.864196</td>\n",
       "      <td>-0.493887</td>\n",
       "      <td>-0.919195</td>\n",
       "      <td>0.560471</td>\n",
       "      <td>-0.037144</td>\n",
       "      <td>...</td>\n",
       "      <td>2.0</td>\n",
       "      <td>-0.108306</td>\n",
       "      <td>-0.07636</td>\n",
       "      <td>-0.053916</td>\n",
       "      <td>-1.202834</td>\n",
       "      <td>-0.108306</td>\n",
       "      <td>0.322490</td>\n",
       "      <td>-0.108306</td>\n",
       "      <td>-0.300079</td>\n",
       "      <td>1</td>\n",
       "    </tr>\n",
       "    <tr>\n",
       "      <th>3</th>\n",
       "      <td>0.661438</td>\n",
       "      <td>0.001777</td>\n",
       "      <td>-0.647038</td>\n",
       "      <td>0.456505</td>\n",
       "      <td>0.95465</td>\n",
       "      <td>1.157144</td>\n",
       "      <td>0.535044</td>\n",
       "      <td>1.087908</td>\n",
       "      <td>-0.485643</td>\n",
       "      <td>-0.194837</td>\n",
       "      <td>...</td>\n",
       "      <td>-0.5</td>\n",
       "      <td>-0.108306</td>\n",
       "      <td>-0.07636</td>\n",
       "      <td>-0.053916</td>\n",
       "      <td>0.831370</td>\n",
       "      <td>-0.108306</td>\n",
       "      <td>0.322490</td>\n",
       "      <td>-0.108306</td>\n",
       "      <td>-0.300079</td>\n",
       "      <td>1</td>\n",
       "    </tr>\n",
       "    <tr>\n",
       "      <th>4</th>\n",
       "      <td>0.661438</td>\n",
       "      <td>-1.224303</td>\n",
       "      <td>0.174141</td>\n",
       "      <td>-0.153526</td>\n",
       "      <td>0.95465</td>\n",
       "      <td>-0.864196</td>\n",
       "      <td>-0.493887</td>\n",
       "      <td>-0.919195</td>\n",
       "      <td>-0.369408</td>\n",
       "      <td>-0.195413</td>\n",
       "      <td>...</td>\n",
       "      <td>-0.5</td>\n",
       "      <td>-0.108306</td>\n",
       "      <td>-0.07636</td>\n",
       "      <td>-0.053916</td>\n",
       "      <td>0.831370</td>\n",
       "      <td>-0.108306</td>\n",
       "      <td>-3.100868</td>\n",
       "      <td>-0.108306</td>\n",
       "      <td>3.332456</td>\n",
       "      <td>1</td>\n",
       "    </tr>\n",
       "  </tbody>\n",
       "</table>\n",
       "<p>5 rows × 43 columns</p>\n",
       "</div>"
      ],
      "text/plain": [
       "         A1        A2        A3        A8       A9       A10       A11  \\\n",
       "0  0.661438  0.001777 -0.956613 -0.291083  0.95465  1.157144 -0.288101   \n",
       "1 -1.511858  1.227857 -0.060051  0.244190  0.95465  1.157144  0.740830   \n",
       "2 -1.511858  0.001777 -0.856102 -0.216324  0.95465 -0.864196 -0.493887   \n",
       "3  0.661438  0.001777 -0.647038  0.456505  0.95465  1.157144  0.535044   \n",
       "4  0.661438 -1.224303  0.174141 -0.153526  0.95465 -0.864196 -0.493887   \n",
       "\n",
       "        A12       A14       A15   ...    A7_h      A7_j     A7_n      A7_o  \\\n",
       "0 -0.919195  0.107155 -0.195413   ...    -0.5 -0.108306 -0.07636 -0.053916   \n",
       "1 -0.919195 -0.816912 -0.087852   ...     2.0 -0.108306 -0.07636 -0.053916   \n",
       "2 -0.919195  0.560471 -0.037144   ...     2.0 -0.108306 -0.07636 -0.053916   \n",
       "3  1.087908 -0.485643 -0.194837   ...    -0.5 -0.108306 -0.07636 -0.053916   \n",
       "4 -0.919195 -0.369408 -0.195413   ...    -0.5 -0.108306 -0.07636 -0.053916   \n",
       "\n",
       "       A7_v      A7_z     A13_g     A13_p     A13_s  Target  \n",
       "0  0.831370 -0.108306  0.322490 -0.108306 -0.300079       1  \n",
       "1 -1.202834 -0.108306  0.322490 -0.108306 -0.300079       1  \n",
       "2 -1.202834 -0.108306  0.322490 -0.108306 -0.300079       1  \n",
       "3  0.831370 -0.108306  0.322490 -0.108306 -0.300079       1  \n",
       "4  0.831370 -0.108306 -3.100868 -0.108306  3.332456       1  \n",
       "\n",
       "[5 rows x 43 columns]"
      ]
     },
     "execution_count": 128,
     "metadata": {},
     "output_type": "execute_result"
    }
   ],
   "source": [
    "With_Target= pd.concat([Standard,A16], axis=1) # Combining part\n",
    "df_target =With_Target.rename(columns= {'A16':'Target'} )\n",
    "df_target.head()"
   ]
  },
  {
   "cell_type": "markdown",
   "metadata": {},
   "source": [
    "Once the data is clean, the final dataset can be called as df_clean."
   ]
  },
  {
   "cell_type": "code",
   "execution_count": 129,
   "metadata": {},
   "outputs": [
    {
     "data": {
      "text/plain": [
       "(690, 43)"
      ]
     },
     "execution_count": 129,
     "metadata": {},
     "output_type": "execute_result"
    }
   ],
   "source": [
    "df_clean = df_target\n",
    "df_clean.shape"
   ]
  },
  {
   "cell_type": "markdown",
   "metadata": {},
   "source": [
    "As it seen above, the clean dataset has 690 rows ans 43 columns."
   ]
  },
  {
   "cell_type": "markdown",
   "metadata": {},
   "source": [
    "To check the all the variable's descriptive statistics;"
   ]
  },
  {
   "cell_type": "code",
   "execution_count": 130,
   "metadata": {},
   "outputs": [
    {
     "data": {
      "text/html": [
       "<div>\n",
       "<style scoped>\n",
       "    .dataframe tbody tr th:only-of-type {\n",
       "        vertical-align: middle;\n",
       "    }\n",
       "\n",
       "    .dataframe tbody tr th {\n",
       "        vertical-align: top;\n",
       "    }\n",
       "\n",
       "    .dataframe thead th {\n",
       "        text-align: right;\n",
       "    }\n",
       "</style>\n",
       "<table border=\"1\" class=\"dataframe\">\n",
       "  <thead>\n",
       "    <tr style=\"text-align: right;\">\n",
       "      <th></th>\n",
       "      <th>A1</th>\n",
       "      <th>A2</th>\n",
       "      <th>A3</th>\n",
       "      <th>A8</th>\n",
       "      <th>A9</th>\n",
       "      <th>A10</th>\n",
       "      <th>A11</th>\n",
       "      <th>A12</th>\n",
       "      <th>A14</th>\n",
       "      <th>A15</th>\n",
       "      <th>...</th>\n",
       "      <th>A7_h</th>\n",
       "      <th>A7_j</th>\n",
       "      <th>A7_n</th>\n",
       "      <th>A7_o</th>\n",
       "      <th>A7_v</th>\n",
       "      <th>A7_z</th>\n",
       "      <th>A13_g</th>\n",
       "      <th>A13_p</th>\n",
       "      <th>A13_s</th>\n",
       "      <th>Target</th>\n",
       "    </tr>\n",
       "  </thead>\n",
       "  <tbody>\n",
       "    <tr>\n",
       "      <th>count</th>\n",
       "      <td>690.000</td>\n",
       "      <td>690.000</td>\n",
       "      <td>690.000</td>\n",
       "      <td>690.000</td>\n",
       "      <td>690.000</td>\n",
       "      <td>690.000</td>\n",
       "      <td>690.000</td>\n",
       "      <td>690.000</td>\n",
       "      <td>690.000</td>\n",
       "      <td>690.000</td>\n",
       "      <td>...</td>\n",
       "      <td>690.000</td>\n",
       "      <td>690.000</td>\n",
       "      <td>690.000</td>\n",
       "      <td>690.000</td>\n",
       "      <td>690.000</td>\n",
       "      <td>690.000</td>\n",
       "      <td>690.000</td>\n",
       "      <td>690.000</td>\n",
       "      <td>690.000</td>\n",
       "      <td>690.000</td>\n",
       "    </tr>\n",
       "    <tr>\n",
       "      <th>mean</th>\n",
       "      <td>0.000</td>\n",
       "      <td>-0.000</td>\n",
       "      <td>0.000</td>\n",
       "      <td>0.000</td>\n",
       "      <td>0.000</td>\n",
       "      <td>-0.000</td>\n",
       "      <td>0.000</td>\n",
       "      <td>-0.000</td>\n",
       "      <td>0.000</td>\n",
       "      <td>-0.000</td>\n",
       "      <td>...</td>\n",
       "      <td>0.000</td>\n",
       "      <td>0.000</td>\n",
       "      <td>-0.000</td>\n",
       "      <td>-0.000</td>\n",
       "      <td>-0.000</td>\n",
       "      <td>-0.000</td>\n",
       "      <td>0.000</td>\n",
       "      <td>-0.000</td>\n",
       "      <td>-0.000</td>\n",
       "      <td>0.445</td>\n",
       "    </tr>\n",
       "    <tr>\n",
       "      <th>std</th>\n",
       "      <td>1.001</td>\n",
       "      <td>1.001</td>\n",
       "      <td>1.001</td>\n",
       "      <td>1.001</td>\n",
       "      <td>1.001</td>\n",
       "      <td>1.001</td>\n",
       "      <td>1.001</td>\n",
       "      <td>1.001</td>\n",
       "      <td>1.001</td>\n",
       "      <td>1.001</td>\n",
       "      <td>...</td>\n",
       "      <td>1.001</td>\n",
       "      <td>1.001</td>\n",
       "      <td>1.001</td>\n",
       "      <td>1.001</td>\n",
       "      <td>1.001</td>\n",
       "      <td>1.001</td>\n",
       "      <td>1.001</td>\n",
       "      <td>1.001</td>\n",
       "      <td>1.001</td>\n",
       "      <td>0.497</td>\n",
       "    </tr>\n",
       "    <tr>\n",
       "      <th>min</th>\n",
       "      <td>-1.512</td>\n",
       "      <td>-1.224</td>\n",
       "      <td>-0.957</td>\n",
       "      <td>-0.665</td>\n",
       "      <td>-1.048</td>\n",
       "      <td>-0.864</td>\n",
       "      <td>-0.494</td>\n",
       "      <td>-0.919</td>\n",
       "      <td>-1.067</td>\n",
       "      <td>-0.195</td>\n",
       "      <td>...</td>\n",
       "      <td>-0.500</td>\n",
       "      <td>-0.108</td>\n",
       "      <td>-0.076</td>\n",
       "      <td>-0.054</td>\n",
       "      <td>-1.203</td>\n",
       "      <td>-0.108</td>\n",
       "      <td>-3.101</td>\n",
       "      <td>-0.108</td>\n",
       "      <td>-0.300</td>\n",
       "      <td>0.000</td>\n",
       "    </tr>\n",
       "    <tr>\n",
       "      <th>25%</th>\n",
       "      <td>-1.512</td>\n",
       "      <td>-1.224</td>\n",
       "      <td>-0.756</td>\n",
       "      <td>-0.616</td>\n",
       "      <td>-1.048</td>\n",
       "      <td>-0.864</td>\n",
       "      <td>-0.494</td>\n",
       "      <td>-0.919</td>\n",
       "      <td>-0.602</td>\n",
       "      <td>-0.195</td>\n",
       "      <td>...</td>\n",
       "      <td>-0.500</td>\n",
       "      <td>-0.108</td>\n",
       "      <td>-0.076</td>\n",
       "      <td>-0.054</td>\n",
       "      <td>-1.203</td>\n",
       "      <td>-0.108</td>\n",
       "      <td>0.322</td>\n",
       "      <td>-0.108</td>\n",
       "      <td>-0.300</td>\n",
       "      <td>0.000</td>\n",
       "    </tr>\n",
       "    <tr>\n",
       "      <th>50%</th>\n",
       "      <td>0.661</td>\n",
       "      <td>0.002</td>\n",
       "      <td>-0.404</td>\n",
       "      <td>-0.366</td>\n",
       "      <td>0.955</td>\n",
       "      <td>-0.864</td>\n",
       "      <td>-0.494</td>\n",
       "      <td>-0.919</td>\n",
       "      <td>-0.137</td>\n",
       "      <td>-0.194</td>\n",
       "      <td>...</td>\n",
       "      <td>-0.500</td>\n",
       "      <td>-0.108</td>\n",
       "      <td>-0.076</td>\n",
       "      <td>-0.054</td>\n",
       "      <td>0.831</td>\n",
       "      <td>-0.108</td>\n",
       "      <td>0.322</td>\n",
       "      <td>-0.108</td>\n",
       "      <td>-0.300</td>\n",
       "      <td>0.000</td>\n",
       "    </tr>\n",
       "    <tr>\n",
       "      <th>75%</th>\n",
       "      <td>0.661</td>\n",
       "      <td>1.228</td>\n",
       "      <td>0.492</td>\n",
       "      <td>0.120</td>\n",
       "      <td>0.955</td>\n",
       "      <td>1.157</td>\n",
       "      <td>0.123</td>\n",
       "      <td>1.088</td>\n",
       "      <td>0.514</td>\n",
       "      <td>-0.119</td>\n",
       "      <td>...</td>\n",
       "      <td>-0.500</td>\n",
       "      <td>-0.108</td>\n",
       "      <td>-0.076</td>\n",
       "      <td>-0.054</td>\n",
       "      <td>0.831</td>\n",
       "      <td>-0.108</td>\n",
       "      <td>0.322</td>\n",
       "      <td>-0.108</td>\n",
       "      <td>-0.300</td>\n",
       "      <td>1.000</td>\n",
       "    </tr>\n",
       "    <tr>\n",
       "      <th>max</th>\n",
       "      <td>0.661</td>\n",
       "      <td>1.228</td>\n",
       "      <td>4.672</td>\n",
       "      <td>7.858</td>\n",
       "      <td>0.955</td>\n",
       "      <td>1.157</td>\n",
       "      <td>13.294</td>\n",
       "      <td>1.088</td>\n",
       "      <td>10.557</td>\n",
       "      <td>19.012</td>\n",
       "      <td>...</td>\n",
       "      <td>2.000</td>\n",
       "      <td>9.233</td>\n",
       "      <td>13.096</td>\n",
       "      <td>18.547</td>\n",
       "      <td>0.831</td>\n",
       "      <td>9.233</td>\n",
       "      <td>0.322</td>\n",
       "      <td>9.233</td>\n",
       "      <td>3.332</td>\n",
       "      <td>1.000</td>\n",
       "    </tr>\n",
       "  </tbody>\n",
       "</table>\n",
       "<p>8 rows × 43 columns</p>\n",
       "</div>"
      ],
      "text/plain": [
       "            A1       A2       A3       A8       A9      A10      A11      A12  \\\n",
       "count  690.000  690.000  690.000  690.000  690.000  690.000  690.000  690.000   \n",
       "mean     0.000   -0.000    0.000    0.000    0.000   -0.000    0.000   -0.000   \n",
       "std      1.001    1.001    1.001    1.001    1.001    1.001    1.001    1.001   \n",
       "min     -1.512   -1.224   -0.957   -0.665   -1.048   -0.864   -0.494   -0.919   \n",
       "25%     -1.512   -1.224   -0.756   -0.616   -1.048   -0.864   -0.494   -0.919   \n",
       "50%      0.661    0.002   -0.404   -0.366    0.955   -0.864   -0.494   -0.919   \n",
       "75%      0.661    1.228    0.492    0.120    0.955    1.157    0.123    1.088   \n",
       "max      0.661    1.228    4.672    7.858    0.955    1.157   13.294    1.088   \n",
       "\n",
       "           A14      A15   ...        A7_h     A7_j     A7_n     A7_o     A7_v  \\\n",
       "count  690.000  690.000   ...     690.000  690.000  690.000  690.000  690.000   \n",
       "mean     0.000   -0.000   ...       0.000    0.000   -0.000   -0.000   -0.000   \n",
       "std      1.001    1.001   ...       1.001    1.001    1.001    1.001    1.001   \n",
       "min     -1.067   -0.195   ...      -0.500   -0.108   -0.076   -0.054   -1.203   \n",
       "25%     -0.602   -0.195   ...      -0.500   -0.108   -0.076   -0.054   -1.203   \n",
       "50%     -0.137   -0.194   ...      -0.500   -0.108   -0.076   -0.054    0.831   \n",
       "75%      0.514   -0.119   ...      -0.500   -0.108   -0.076   -0.054    0.831   \n",
       "max     10.557   19.012   ...       2.000    9.233   13.096   18.547    0.831   \n",
       "\n",
       "          A7_z    A13_g    A13_p    A13_s   Target  \n",
       "count  690.000  690.000  690.000  690.000  690.000  \n",
       "mean    -0.000    0.000   -0.000   -0.000    0.445  \n",
       "std      1.001    1.001    1.001    1.001    0.497  \n",
       "min     -0.108   -3.101   -0.108   -0.300    0.000  \n",
       "25%     -0.108    0.322   -0.108   -0.300    0.000  \n",
       "50%     -0.108    0.322   -0.108   -0.300    0.000  \n",
       "75%     -0.108    0.322   -0.108   -0.300    1.000  \n",
       "max      9.233    0.322    9.233    3.332    1.000  \n",
       "\n",
       "[8 rows x 43 columns]"
      ]
     },
     "execution_count": 130,
     "metadata": {},
     "output_type": "execute_result"
    }
   ],
   "source": [
    "df_clean.describe(include='all').round(3)"
   ]
  },
  {
   "cell_type": "markdown",
   "metadata": {},
   "source": [
    "To check the first 5 rows in the clean dataset;"
   ]
  },
  {
   "cell_type": "code",
   "execution_count": 131,
   "metadata": {
    "scrolled": false
   },
   "outputs": [
    {
     "data": {
      "text/html": [
       "<div>\n",
       "<style scoped>\n",
       "    .dataframe tbody tr th:only-of-type {\n",
       "        vertical-align: middle;\n",
       "    }\n",
       "\n",
       "    .dataframe tbody tr th {\n",
       "        vertical-align: top;\n",
       "    }\n",
       "\n",
       "    .dataframe thead th {\n",
       "        text-align: right;\n",
       "    }\n",
       "</style>\n",
       "<table border=\"1\" class=\"dataframe\">\n",
       "  <thead>\n",
       "    <tr style=\"text-align: right;\">\n",
       "      <th></th>\n",
       "      <th>A1</th>\n",
       "      <th>A2</th>\n",
       "      <th>A3</th>\n",
       "      <th>A8</th>\n",
       "      <th>A9</th>\n",
       "      <th>A10</th>\n",
       "      <th>A11</th>\n",
       "      <th>A12</th>\n",
       "      <th>A14</th>\n",
       "      <th>A15</th>\n",
       "      <th>...</th>\n",
       "      <th>A7_h</th>\n",
       "      <th>A7_j</th>\n",
       "      <th>A7_n</th>\n",
       "      <th>A7_o</th>\n",
       "      <th>A7_v</th>\n",
       "      <th>A7_z</th>\n",
       "      <th>A13_g</th>\n",
       "      <th>A13_p</th>\n",
       "      <th>A13_s</th>\n",
       "      <th>Target</th>\n",
       "    </tr>\n",
       "  </thead>\n",
       "  <tbody>\n",
       "    <tr>\n",
       "      <th>0</th>\n",
       "      <td>0.661438</td>\n",
       "      <td>0.001777</td>\n",
       "      <td>-0.956613</td>\n",
       "      <td>-0.291083</td>\n",
       "      <td>0.95465</td>\n",
       "      <td>1.157144</td>\n",
       "      <td>-0.288101</td>\n",
       "      <td>-0.919195</td>\n",
       "      <td>0.107155</td>\n",
       "      <td>-0.195413</td>\n",
       "      <td>...</td>\n",
       "      <td>-0.5</td>\n",
       "      <td>-0.108306</td>\n",
       "      <td>-0.07636</td>\n",
       "      <td>-0.053916</td>\n",
       "      <td>0.831370</td>\n",
       "      <td>-0.108306</td>\n",
       "      <td>0.322490</td>\n",
       "      <td>-0.108306</td>\n",
       "      <td>-0.300079</td>\n",
       "      <td>1</td>\n",
       "    </tr>\n",
       "    <tr>\n",
       "      <th>1</th>\n",
       "      <td>-1.511858</td>\n",
       "      <td>1.227857</td>\n",
       "      <td>-0.060051</td>\n",
       "      <td>0.244190</td>\n",
       "      <td>0.95465</td>\n",
       "      <td>1.157144</td>\n",
       "      <td>0.740830</td>\n",
       "      <td>-0.919195</td>\n",
       "      <td>-0.816912</td>\n",
       "      <td>-0.087852</td>\n",
       "      <td>...</td>\n",
       "      <td>2.0</td>\n",
       "      <td>-0.108306</td>\n",
       "      <td>-0.07636</td>\n",
       "      <td>-0.053916</td>\n",
       "      <td>-1.202834</td>\n",
       "      <td>-0.108306</td>\n",
       "      <td>0.322490</td>\n",
       "      <td>-0.108306</td>\n",
       "      <td>-0.300079</td>\n",
       "      <td>1</td>\n",
       "    </tr>\n",
       "    <tr>\n",
       "      <th>2</th>\n",
       "      <td>-1.511858</td>\n",
       "      <td>0.001777</td>\n",
       "      <td>-0.856102</td>\n",
       "      <td>-0.216324</td>\n",
       "      <td>0.95465</td>\n",
       "      <td>-0.864196</td>\n",
       "      <td>-0.493887</td>\n",
       "      <td>-0.919195</td>\n",
       "      <td>0.560471</td>\n",
       "      <td>-0.037144</td>\n",
       "      <td>...</td>\n",
       "      <td>2.0</td>\n",
       "      <td>-0.108306</td>\n",
       "      <td>-0.07636</td>\n",
       "      <td>-0.053916</td>\n",
       "      <td>-1.202834</td>\n",
       "      <td>-0.108306</td>\n",
       "      <td>0.322490</td>\n",
       "      <td>-0.108306</td>\n",
       "      <td>-0.300079</td>\n",
       "      <td>1</td>\n",
       "    </tr>\n",
       "    <tr>\n",
       "      <th>3</th>\n",
       "      <td>0.661438</td>\n",
       "      <td>0.001777</td>\n",
       "      <td>-0.647038</td>\n",
       "      <td>0.456505</td>\n",
       "      <td>0.95465</td>\n",
       "      <td>1.157144</td>\n",
       "      <td>0.535044</td>\n",
       "      <td>1.087908</td>\n",
       "      <td>-0.485643</td>\n",
       "      <td>-0.194837</td>\n",
       "      <td>...</td>\n",
       "      <td>-0.5</td>\n",
       "      <td>-0.108306</td>\n",
       "      <td>-0.07636</td>\n",
       "      <td>-0.053916</td>\n",
       "      <td>0.831370</td>\n",
       "      <td>-0.108306</td>\n",
       "      <td>0.322490</td>\n",
       "      <td>-0.108306</td>\n",
       "      <td>-0.300079</td>\n",
       "      <td>1</td>\n",
       "    </tr>\n",
       "    <tr>\n",
       "      <th>4</th>\n",
       "      <td>0.661438</td>\n",
       "      <td>-1.224303</td>\n",
       "      <td>0.174141</td>\n",
       "      <td>-0.153526</td>\n",
       "      <td>0.95465</td>\n",
       "      <td>-0.864196</td>\n",
       "      <td>-0.493887</td>\n",
       "      <td>-0.919195</td>\n",
       "      <td>-0.369408</td>\n",
       "      <td>-0.195413</td>\n",
       "      <td>...</td>\n",
       "      <td>-0.5</td>\n",
       "      <td>-0.108306</td>\n",
       "      <td>-0.07636</td>\n",
       "      <td>-0.053916</td>\n",
       "      <td>0.831370</td>\n",
       "      <td>-0.108306</td>\n",
       "      <td>-3.100868</td>\n",
       "      <td>-0.108306</td>\n",
       "      <td>3.332456</td>\n",
       "      <td>1</td>\n",
       "    </tr>\n",
       "  </tbody>\n",
       "</table>\n",
       "<p>5 rows × 43 columns</p>\n",
       "</div>"
      ],
      "text/plain": [
       "         A1        A2        A3        A8       A9       A10       A11  \\\n",
       "0  0.661438  0.001777 -0.956613 -0.291083  0.95465  1.157144 -0.288101   \n",
       "1 -1.511858  1.227857 -0.060051  0.244190  0.95465  1.157144  0.740830   \n",
       "2 -1.511858  0.001777 -0.856102 -0.216324  0.95465 -0.864196 -0.493887   \n",
       "3  0.661438  0.001777 -0.647038  0.456505  0.95465  1.157144  0.535044   \n",
       "4  0.661438 -1.224303  0.174141 -0.153526  0.95465 -0.864196 -0.493887   \n",
       "\n",
       "        A12       A14       A15   ...    A7_h      A7_j     A7_n      A7_o  \\\n",
       "0 -0.919195  0.107155 -0.195413   ...    -0.5 -0.108306 -0.07636 -0.053916   \n",
       "1 -0.919195 -0.816912 -0.087852   ...     2.0 -0.108306 -0.07636 -0.053916   \n",
       "2 -0.919195  0.560471 -0.037144   ...     2.0 -0.108306 -0.07636 -0.053916   \n",
       "3  1.087908 -0.485643 -0.194837   ...    -0.5 -0.108306 -0.07636 -0.053916   \n",
       "4 -0.919195 -0.369408 -0.195413   ...    -0.5 -0.108306 -0.07636 -0.053916   \n",
       "\n",
       "       A7_v      A7_z     A13_g     A13_p     A13_s  Target  \n",
       "0  0.831370 -0.108306  0.322490 -0.108306 -0.300079       1  \n",
       "1 -1.202834 -0.108306  0.322490 -0.108306 -0.300079       1  \n",
       "2 -1.202834 -0.108306  0.322490 -0.108306 -0.300079       1  \n",
       "3  0.831370 -0.108306  0.322490 -0.108306 -0.300079       1  \n",
       "4  0.831370 -0.108306 -3.100868 -0.108306  3.332456       1  \n",
       "\n",
       "[5 rows x 43 columns]"
      ]
     },
     "execution_count": 131,
     "metadata": {},
     "output_type": "execute_result"
    }
   ],
   "source": [
    "df_clean.head(5)"
   ]
  },
  {
   "cell_type": "markdown",
   "metadata": {},
   "source": [
    "To export the clean dataset;"
   ]
  },
  {
   "cell_type": "code",
   "execution_count": 132,
   "metadata": {},
   "outputs": [],
   "source": [
    "df_clean.to_csv('df_clean.csv', index=False)"
   ]
  },
  {
   "cell_type": "markdown",
   "metadata": {},
   "source": [
    "---"
   ]
  }
 ],
 "metadata": {
  "kernelspec": {
   "display_name": "Python 3",
   "language": "python",
   "name": "python3"
  },
  "language_info": {
   "codemirror_mode": {
    "name": "ipython",
    "version": 3
   },
   "file_extension": ".py",
   "mimetype": "text/x-python",
   "name": "python",
   "nbconvert_exporter": "python",
   "pygments_lexer": "ipython3",
   "version": "3.7.4"
  }
 },
 "nbformat": 4,
 "nbformat_minor": 2
}
