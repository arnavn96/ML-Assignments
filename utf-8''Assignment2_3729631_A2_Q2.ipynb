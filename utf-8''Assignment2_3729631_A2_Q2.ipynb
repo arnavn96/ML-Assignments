{
  "cells": [
    {
      "metadata": {},
      "cell_type": "markdown",
      "source": "# MATH2319 Machine Learning\nSemester 1, 2020\n\nAssignment 2\n\n\n`I hereby agree to follow any and all assignment rules and procedures as stated in Canvas for this course, MATH2319. In particular, I solemnly swear that I will not discuss/ have not discussed my assignment solutions with anyone in any way and the solutions I am submitting are my own personal work.`\n\n\n*Arnav Nambiar* - 3729631"
    },
    {
      "metadata": {
        "collapsed": true
      },
      "cell_type": "markdown",
      "source": "# Question 2"
    },
    {
      "metadata": {},
      "cell_type": "markdown",
      "source": "Here, we assume true is the positive target level and compute the confusion matrix for different thresholds after whiche we display the ROC curve"
    },
    {
      "metadata": {},
      "cell_type": "markdown",
      "source": "**Importing Required Libraries:**"
    },
    {
      "metadata": {
        "trusted": true
      },
      "cell_type": "code",
      "source": "import pandas as pd\nimport matplotlib.pyplot as plt\npd.set_option('display.max_columns', None) ",
      "execution_count": 1,
      "outputs": []
    },
    {
      "metadata": {},
      "cell_type": "markdown",
      "source": "**Reading the data;**"
    },
    {
      "metadata": {
        "trusted": true
      },
      "cell_type": "code",
      "source": "q2 = pd.read_csv('A2_Q2.csv')",
      "execution_count": 2,
      "outputs": []
    },
    {
      "metadata": {
        "trusted": true
      },
      "cell_type": "code",
      "source": "print('The data set has '+ str(q2.shape[1])+' columns and '+ str(q2.shape[0])+ ' rows.')",
      "execution_count": 3,
      "outputs": [
        {
          "output_type": "stream",
          "text": "The data set has 3 columns and 30 rows.\n",
          "name": "stdout"
        }
      ]
    },
    {
      "metadata": {},
      "cell_type": "markdown",
      "source": "To check the first 5 rows of the dataset;"
    },
    {
      "metadata": {
        "trusted": true,
        "scrolled": true
      },
      "cell_type": "code",
      "source": "q2.head()",
      "execution_count": 4,
      "outputs": [
        {
          "output_type": "execute_result",
          "execution_count": 4,
          "data": {
            "text/html": "<div>\n<style scoped>\n    .dataframe tbody tr th:only-of-type {\n        vertical-align: middle;\n    }\n\n    .dataframe tbody tr th {\n        vertical-align: top;\n    }\n\n    .dataframe thead th {\n        text-align: right;\n    }\n</style>\n<table border=\"1\" class=\"dataframe\">\n  <thead>\n    <tr style=\"text-align: right;\">\n      <th></th>\n      <th>ID</th>\n      <th>Target</th>\n      <th>Score</th>\n    </tr>\n  </thead>\n  <tbody>\n    <tr>\n      <th>0</th>\n      <td>1</td>\n      <td>False</td>\n      <td>0.46</td>\n    </tr>\n    <tr>\n      <th>1</th>\n      <td>2</td>\n      <td>False</td>\n      <td>0.14</td>\n    </tr>\n    <tr>\n      <th>2</th>\n      <td>3</td>\n      <td>False</td>\n      <td>0.48</td>\n    </tr>\n    <tr>\n      <th>3</th>\n      <td>4</td>\n      <td>True</td>\n      <td>0.91</td>\n    </tr>\n    <tr>\n      <th>4</th>\n      <td>5</td>\n      <td>False</td>\n      <td>0.24</td>\n    </tr>\n  </tbody>\n</table>\n</div>",
            "text/plain": "   ID  Target  Score\n0   1   False   0.46\n1   2   False   0.14\n2   3   False   0.48\n3   4    True   0.91\n4   5   False   0.24"
          },
          "metadata": {}
        }
      ]
    },
    {
      "metadata": {},
      "cell_type": "markdown",
      "source": "## Part A"
    },
    {
      "metadata": {},
      "cell_type": "markdown",
      "source": "Here the confusion matrix is calculated taking 0.5 as the score threshold. We will also compute the Error Rate, Precision, TPR( Recall ), F1-Score and FPR( False Positive Rate)\n"
    },
    {
      "metadata": {},
      "cell_type": "markdown",
      "source": "We use a loop to determine the predictions with 0.5 threshold."
    },
    {
      "metadata": {
        "trusted": true
      },
      "cell_type": "code",
      "source": "copy1 = q2.copy()\nPredictions = []\n\nfor row in q2['Score']:\n    \n    if row >= 0.5:\n        Predictions.append('True')\n    else:\n        Predictions.append('False')\n        \ncopy1['Predictions'] = Predictions",
      "execution_count": 5,
      "outputs": []
    },
    {
      "metadata": {
        "trusted": true,
        "scrolled": true
      },
      "cell_type": "code",
      "source": "copy1.head()",
      "execution_count": 6,
      "outputs": [
        {
          "output_type": "execute_result",
          "execution_count": 6,
          "data": {
            "text/html": "<div>\n<style scoped>\n    .dataframe tbody tr th:only-of-type {\n        vertical-align: middle;\n    }\n\n    .dataframe tbody tr th {\n        vertical-align: top;\n    }\n\n    .dataframe thead th {\n        text-align: right;\n    }\n</style>\n<table border=\"1\" class=\"dataframe\">\n  <thead>\n    <tr style=\"text-align: right;\">\n      <th></th>\n      <th>ID</th>\n      <th>Target</th>\n      <th>Score</th>\n      <th>Predictions</th>\n    </tr>\n  </thead>\n  <tbody>\n    <tr>\n      <th>0</th>\n      <td>1</td>\n      <td>False</td>\n      <td>0.46</td>\n      <td>False</td>\n    </tr>\n    <tr>\n      <th>1</th>\n      <td>2</td>\n      <td>False</td>\n      <td>0.14</td>\n      <td>False</td>\n    </tr>\n    <tr>\n      <th>2</th>\n      <td>3</td>\n      <td>False</td>\n      <td>0.48</td>\n      <td>False</td>\n    </tr>\n    <tr>\n      <th>3</th>\n      <td>4</td>\n      <td>True</td>\n      <td>0.91</td>\n      <td>True</td>\n    </tr>\n    <tr>\n      <th>4</th>\n      <td>5</td>\n      <td>False</td>\n      <td>0.24</td>\n      <td>False</td>\n    </tr>\n  </tbody>\n</table>\n</div>",
            "text/plain": "   ID  Target  Score Predictions\n0   1   False   0.46       False\n1   2   False   0.14       False\n2   3   False   0.48       False\n3   4    True   0.91        True\n4   5   False   0.24       False"
          },
          "metadata": {}
        }
      ]
    },
    {
      "metadata": {},
      "cell_type": "markdown",
      "source": "To compute the confusion matrix;"
    },
    {
      "metadata": {
        "trusted": true,
        "scrolled": true
      },
      "cell_type": "code",
      "source": "ConfMatrix = pd.crosstab(copy1['Target'], copy1['Predictions'], rownames=['Actual'], colnames=['Predicted'])\nprint (ConfMatrix)",
      "execution_count": 7,
      "outputs": [
        {
          "output_type": "stream",
          "text": "Predicted  False  True\nActual                \nFalse         11     6\nTrue           4     9\n",
          "name": "stdout"
        }
      ]
    },
    {
      "metadata": {
        "trusted": true
      },
      "cell_type": "code",
      "source": "TP = 9 \nFP = 6 \nFN = 4 \nTN = 11 ",
      "execution_count": 12,
      "outputs": []
    },
    {
      "metadata": {},
      "cell_type": "markdown",
      "source": "$ Error Rate = (FP  +FN ) / ( P + N ) $"
    },
    {
      "metadata": {
        "trusted": true
      },
      "cell_type": "code",
      "source": "ErrorRate = (FP  + FN ) / ( TP + FP + FN + TN )\nErrorRate",
      "execution_count": 11,
      "outputs": [
        {
          "output_type": "execute_result",
          "execution_count": 11,
          "data": {
            "text/plain": "0.3333333333333333"
          },
          "metadata": {}
        }
      ]
    },
    {
      "metadata": {},
      "cell_type": "markdown",
      "source": "$ Precision = TP / (TP + FP) $"
    },
    {
      "metadata": {
        "trusted": true
      },
      "cell_type": "code",
      "source": "Precision = TP / (TP + FP)\nPrecision",
      "execution_count": 13,
      "outputs": [
        {
          "output_type": "execute_result",
          "execution_count": 13,
          "data": {
            "text/plain": "0.6"
          },
          "metadata": {}
        }
      ]
    },
    {
      "metadata": {},
      "cell_type": "markdown",
      "source": "\n\n$ Recall = TP / TP + FN $ "
    },
    {
      "metadata": {
        "trusted": true
      },
      "cell_type": "code",
      "source": "Recall= TP / (TP + FN)\nTPR = Recall\nTPR",
      "execution_count": 14,
      "outputs": [
        {
          "output_type": "execute_result",
          "execution_count": 14,
          "data": {
            "text/plain": "0.6923076923076923"
          },
          "metadata": {}
        }
      ]
    },
    {
      "metadata": {},
      "cell_type": "markdown",
      "source": "$ F1 = 2 * (precision * recall) / (precision + recall) $"
    },
    {
      "metadata": {
        "trusted": true
      },
      "cell_type": "code",
      "source": "F1 = 2 * (Precision * TPR) / (Precision + TPR)\nF1",
      "execution_count": 15,
      "outputs": [
        {
          "output_type": "execute_result",
          "execution_count": 15,
          "data": {
            "text/plain": "0.6428571428571429"
          },
          "metadata": {}
        }
      ]
    },
    {
      "metadata": {},
      "cell_type": "markdown",
      "source": "$ FPR = FP / TN + FP $"
    },
    {
      "metadata": {
        "trusted": true,
        "scrolled": true
      },
      "cell_type": "code",
      "source": "FPR = FP / (TN + FP)\nFPR",
      "execution_count": 16,
      "outputs": [
        {
          "output_type": "execute_result",
          "execution_count": 16,
          "data": {
            "text/plain": "0.35294117647058826"
          },
          "metadata": {}
        }
      ]
    },
    {
      "metadata": {
        "trusted": true
      },
      "cell_type": "code",
      "source": "df_metrics = pd.DataFrame(columns=['Metric', 'Value'])\ndf_metrics.loc[len(df_metrics)] = ['Error Rate', ErrorRate]\ndf_metrics.loc[len(df_metrics)] = ['Precision', Precision]\ndf_metrics.loc[len(df_metrics)] = ['TPR - Recall', Recall]\ndf_metrics.loc[len(df_metrics)] = ['F1-Score', F1]\ndf_metrics.loc[len(df_metrics)] = ['FPR', FPR]\n\ndf_metrics.round(3)",
      "execution_count": 17,
      "outputs": [
        {
          "output_type": "execute_result",
          "execution_count": 17,
          "data": {
            "text/html": "<div>\n<style scoped>\n    .dataframe tbody tr th:only-of-type {\n        vertical-align: middle;\n    }\n\n    .dataframe tbody tr th {\n        vertical-align: top;\n    }\n\n    .dataframe thead th {\n        text-align: right;\n    }\n</style>\n<table border=\"1\" class=\"dataframe\">\n  <thead>\n    <tr style=\"text-align: right;\">\n      <th></th>\n      <th>Metric</th>\n      <th>Value</th>\n    </tr>\n  </thead>\n  <tbody>\n    <tr>\n      <th>0</th>\n      <td>Error Rate</td>\n      <td>0.333</td>\n    </tr>\n    <tr>\n      <th>1</th>\n      <td>Precision</td>\n      <td>0.600</td>\n    </tr>\n    <tr>\n      <th>2</th>\n      <td>TPR - Recall</td>\n      <td>0.692</td>\n    </tr>\n    <tr>\n      <th>3</th>\n      <td>F1-Score</td>\n      <td>0.643</td>\n    </tr>\n    <tr>\n      <th>4</th>\n      <td>FPR</td>\n      <td>0.353</td>\n    </tr>\n  </tbody>\n</table>\n</div>",
            "text/plain": "         Metric  Value\n0    Error Rate  0.333\n1     Precision  0.600\n2  TPR - Recall  0.692\n3      F1-Score  0.643\n4           FPR  0.353"
          },
          "metadata": {}
        }
      ]
    },
    {
      "metadata": {},
      "cell_type": "markdown",
      "source": "## Part B"
    },
    {
      "metadata": {},
      "cell_type": "markdown",
      "source": "Here, we determine TPR and FPR values by using score threshold values from 0.1 to 0.9 ( inclusive)"
    },
    {
      "metadata": {},
      "cell_type": "markdown",
      "source": "### Threshold = 0.1"
    },
    {
      "metadata": {
        "trusted": true,
        "scrolled": true
      },
      "cell_type": "code",
      "source": "copy2 = q2.copy()\nPredictions = []\n\n\nfor row in q2['Score']:\n    if row >= 0.1:\n        Predictions.append('True')\n    else:\n        Predictions.append('False')\n        \ncopy2['Predictions'] = Predictions\n\ncopy2.head()",
      "execution_count": 31,
      "outputs": [
        {
          "output_type": "execute_result",
          "execution_count": 31,
          "data": {
            "text/html": "<div>\n<style scoped>\n    .dataframe tbody tr th:only-of-type {\n        vertical-align: middle;\n    }\n\n    .dataframe tbody tr th {\n        vertical-align: top;\n    }\n\n    .dataframe thead th {\n        text-align: right;\n    }\n</style>\n<table border=\"1\" class=\"dataframe\">\n  <thead>\n    <tr style=\"text-align: right;\">\n      <th></th>\n      <th>ID</th>\n      <th>Target</th>\n      <th>Score</th>\n      <th>Predictions</th>\n    </tr>\n  </thead>\n  <tbody>\n    <tr>\n      <th>0</th>\n      <td>1</td>\n      <td>False</td>\n      <td>0.46</td>\n      <td>True</td>\n    </tr>\n    <tr>\n      <th>1</th>\n      <td>2</td>\n      <td>False</td>\n      <td>0.14</td>\n      <td>True</td>\n    </tr>\n    <tr>\n      <th>2</th>\n      <td>3</td>\n      <td>False</td>\n      <td>0.48</td>\n      <td>True</td>\n    </tr>\n    <tr>\n      <th>3</th>\n      <td>4</td>\n      <td>True</td>\n      <td>0.91</td>\n      <td>True</td>\n    </tr>\n    <tr>\n      <th>4</th>\n      <td>5</td>\n      <td>False</td>\n      <td>0.24</td>\n      <td>True</td>\n    </tr>\n  </tbody>\n</table>\n</div>",
            "text/plain": "   ID  Target  Score Predictions\n0   1   False   0.46        True\n1   2   False   0.14        True\n2   3   False   0.48        True\n3   4    True   0.91        True\n4   5   False   0.24        True"
          },
          "metadata": {}
        }
      ]
    },
    {
      "metadata": {
        "trusted": true,
        "scrolled": false
      },
      "cell_type": "code",
      "source": "ConfMatrix_01 = pd.crosstab(copy2['Target'], copy2['Predictions'], rownames=['Actual'], colnames=['Predicted'])\nprint (ConfMatrix_01)",
      "execution_count": 19,
      "outputs": [
        {
          "output_type": "stream",
          "text": "Predicted  False  True\nActual                \nFalse          1    16\nTrue           0    13\n",
          "name": "stdout"
        }
      ]
    },
    {
      "metadata": {
        "trusted": true
      },
      "cell_type": "code",
      "source": "TP = 13\nFP = 16\nFN = 0\nTN = 1",
      "execution_count": 20,
      "outputs": []
    },
    {
      "metadata": {},
      "cell_type": "markdown",
      "source": "$ Recall = TP / TP + FN $"
    },
    {
      "metadata": {
        "trusted": true,
        "scrolled": false
      },
      "cell_type": "code",
      "source": "Recall= TP / (TP + FN)\nTPR_01 = Recall\nTPR_01",
      "execution_count": 21,
      "outputs": [
        {
          "output_type": "execute_result",
          "execution_count": 21,
          "data": {
            "text/plain": "1.0"
          },
          "metadata": {}
        }
      ]
    },
    {
      "metadata": {},
      "cell_type": "markdown",
      "source": "$ FPR = FP / TN + FP $"
    },
    {
      "metadata": {
        "trusted": true
      },
      "cell_type": "code",
      "source": "FPR_01 = FP / (TN + FP)\nFPR_01",
      "execution_count": 22,
      "outputs": [
        {
          "output_type": "execute_result",
          "execution_count": 22,
          "data": {
            "text/plain": "0.9411764705882353"
          },
          "metadata": {}
        }
      ]
    },
    {
      "metadata": {},
      "cell_type": "markdown",
      "source": "### Threshold = 0.2"
    },
    {
      "metadata": {
        "trusted": true,
        "scrolled": false
      },
      "cell_type": "code",
      "source": "copy3 = q2.copy()\nPredictions = []\n\n\nfor row in q2['Score']:\n    if row >= 0.2:\n        Predictions.append('True')\n    else:\n        Predictions.append('False')\n        \ncopy3['Predictions'] = Predictions\n\ncopy3.head()",
      "execution_count": 30,
      "outputs": [
        {
          "output_type": "execute_result",
          "execution_count": 30,
          "data": {
            "text/html": "<div>\n<style scoped>\n    .dataframe tbody tr th:only-of-type {\n        vertical-align: middle;\n    }\n\n    .dataframe tbody tr th {\n        vertical-align: top;\n    }\n\n    .dataframe thead th {\n        text-align: right;\n    }\n</style>\n<table border=\"1\" class=\"dataframe\">\n  <thead>\n    <tr style=\"text-align: right;\">\n      <th></th>\n      <th>ID</th>\n      <th>Target</th>\n      <th>Score</th>\n      <th>Predictions</th>\n    </tr>\n  </thead>\n  <tbody>\n    <tr>\n      <th>0</th>\n      <td>1</td>\n      <td>False</td>\n      <td>0.46</td>\n      <td>True</td>\n    </tr>\n    <tr>\n      <th>1</th>\n      <td>2</td>\n      <td>False</td>\n      <td>0.14</td>\n      <td>False</td>\n    </tr>\n    <tr>\n      <th>2</th>\n      <td>3</td>\n      <td>False</td>\n      <td>0.48</td>\n      <td>True</td>\n    </tr>\n    <tr>\n      <th>3</th>\n      <td>4</td>\n      <td>True</td>\n      <td>0.91</td>\n      <td>True</td>\n    </tr>\n    <tr>\n      <th>4</th>\n      <td>5</td>\n      <td>False</td>\n      <td>0.24</td>\n      <td>True</td>\n    </tr>\n  </tbody>\n</table>\n</div>",
            "text/plain": "   ID  Target  Score Predictions\n0   1   False   0.46        True\n1   2   False   0.14       False\n2   3   False   0.48        True\n3   4    True   0.91        True\n4   5   False   0.24        True"
          },
          "metadata": {}
        }
      ]
    },
    {
      "metadata": {
        "trusted": true,
        "scrolled": false
      },
      "cell_type": "code",
      "source": "ConfMatrix = pd.crosstab(copy3['Target'], copy3['Predictions'], rownames=['Actual'], colnames=['Predicted'])\nprint (ConfMatrix)",
      "execution_count": 83,
      "outputs": [
        {
          "output_type": "error",
          "ename": "NameError",
          "evalue": "name 'copy3' is not defined",
          "traceback": [
            "\u001b[0;31m---------------------------------------------------------------------------\u001b[0m",
            "\u001b[0;31mNameError\u001b[0m                                 Traceback (most recent call last)",
            "\u001b[0;32m<ipython-input-83-1828319c0a5c>\u001b[0m in \u001b[0;36m<module>\u001b[0;34m\u001b[0m\n\u001b[0;32m----> 1\u001b[0;31m \u001b[0mConfMatrix\u001b[0m \u001b[0;34m=\u001b[0m \u001b[0mpd\u001b[0m\u001b[0;34m.\u001b[0m\u001b[0mcrosstab\u001b[0m\u001b[0;34m(\u001b[0m\u001b[0mcopy3\u001b[0m\u001b[0;34m[\u001b[0m\u001b[0;34m'Target'\u001b[0m\u001b[0;34m]\u001b[0m\u001b[0;34m,\u001b[0m \u001b[0mcopy3\u001b[0m\u001b[0;34m[\u001b[0m\u001b[0;34m'Predictions'\u001b[0m\u001b[0;34m]\u001b[0m\u001b[0;34m,\u001b[0m \u001b[0mrownames\u001b[0m\u001b[0;34m=\u001b[0m\u001b[0;34m[\u001b[0m\u001b[0;34m'Actual'\u001b[0m\u001b[0;34m]\u001b[0m\u001b[0;34m,\u001b[0m \u001b[0mcolnames\u001b[0m\u001b[0;34m=\u001b[0m\u001b[0;34m[\u001b[0m\u001b[0;34m'Predicted'\u001b[0m\u001b[0;34m]\u001b[0m\u001b[0;34m)\u001b[0m\u001b[0;34m\u001b[0m\u001b[0m\n\u001b[0m\u001b[1;32m      2\u001b[0m \u001b[0mprint\u001b[0m \u001b[0;34m(\u001b[0m\u001b[0mConfMatrix\u001b[0m\u001b[0;34m)\u001b[0m\u001b[0;34m\u001b[0m\u001b[0m\n",
            "\u001b[0;31mNameError\u001b[0m: name 'copy3' is not defined"
          ]
        }
      ]
    },
    {
      "metadata": {
        "trusted": true
      },
      "cell_type": "code",
      "source": "TP = 13\nFP = 12\nFN = 0\nTN = 5",
      "execution_count": 25,
      "outputs": []
    },
    {
      "metadata": {},
      "cell_type": "markdown",
      "source": "$ Recall = TP / TP + FN $"
    },
    {
      "metadata": {
        "trusted": true,
        "scrolled": false
      },
      "cell_type": "code",
      "source": "Recall = TP / (TP + FN)\nTPR_02 = Recall\nTPR_02",
      "execution_count": 26,
      "outputs": [
        {
          "output_type": "execute_result",
          "execution_count": 26,
          "data": {
            "text/plain": "1.0"
          },
          "metadata": {}
        }
      ]
    },
    {
      "metadata": {},
      "cell_type": "markdown",
      "source": "$ FPR = FP / TN + FP $"
    },
    {
      "metadata": {
        "trusted": true
      },
      "cell_type": "code",
      "source": "FPR_02 = FP / (TN + FP)\nFPR_02",
      "execution_count": 27,
      "outputs": [
        {
          "output_type": "execute_result",
          "execution_count": 27,
          "data": {
            "text/plain": "0.7058823529411765"
          },
          "metadata": {}
        }
      ]
    },
    {
      "metadata": {},
      "cell_type": "markdown",
      "source": "### Threshold = 0.3"
    },
    {
      "metadata": {
        "trusted": true,
        "scrolled": true
      },
      "cell_type": "code",
      "source": "copy4 = q2.copy()\nPredictions = []\n\nfor row in q2['Score']:\n    if row >= 0.3:\n        Predictions.append('True')\n    else:\n        Predictions.append('False')\n        \n\ncopy4['Predictions'] = Predictions\n\ncopy4.head()",
      "execution_count": 29,
      "outputs": [
        {
          "output_type": "execute_result",
          "execution_count": 29,
          "data": {
            "text/html": "<div>\n<style scoped>\n    .dataframe tbody tr th:only-of-type {\n        vertical-align: middle;\n    }\n\n    .dataframe tbody tr th {\n        vertical-align: top;\n    }\n\n    .dataframe thead th {\n        text-align: right;\n    }\n</style>\n<table border=\"1\" class=\"dataframe\">\n  <thead>\n    <tr style=\"text-align: right;\">\n      <th></th>\n      <th>ID</th>\n      <th>Target</th>\n      <th>Score</th>\n      <th>Predictions</th>\n    </tr>\n  </thead>\n  <tbody>\n    <tr>\n      <th>0</th>\n      <td>1</td>\n      <td>False</td>\n      <td>0.46</td>\n      <td>True</td>\n    </tr>\n    <tr>\n      <th>1</th>\n      <td>2</td>\n      <td>False</td>\n      <td>0.14</td>\n      <td>False</td>\n    </tr>\n    <tr>\n      <th>2</th>\n      <td>3</td>\n      <td>False</td>\n      <td>0.48</td>\n      <td>True</td>\n    </tr>\n    <tr>\n      <th>3</th>\n      <td>4</td>\n      <td>True</td>\n      <td>0.91</td>\n      <td>True</td>\n    </tr>\n    <tr>\n      <th>4</th>\n      <td>5</td>\n      <td>False</td>\n      <td>0.24</td>\n      <td>False</td>\n    </tr>\n  </tbody>\n</table>\n</div>",
            "text/plain": "   ID  Target  Score Predictions\n0   1   False   0.46        True\n1   2   False   0.14       False\n2   3   False   0.48        True\n3   4    True   0.91        True\n4   5   False   0.24       False"
          },
          "metadata": {}
        }
      ]
    },
    {
      "metadata": {
        "trusted": true,
        "scrolled": false
      },
      "cell_type": "code",
      "source": "ConfMatrix = pd.crosstab(copy4['Target'], copy4['Predictions'], rownames=['Actual'], colnames=['Predicted'])\nprint (ConfMatrix)",
      "execution_count": 32,
      "outputs": [
        {
          "output_type": "stream",
          "text": "Predicted  False  True\nActual                \nFalse          7    10\nTrue           1    12\n",
          "name": "stdout"
        }
      ]
    },
    {
      "metadata": {
        "trusted": true
      },
      "cell_type": "code",
      "source": "TP = 12\nFP = 10\nFN = 1\nTN = 7",
      "execution_count": 33,
      "outputs": []
    },
    {
      "metadata": {},
      "cell_type": "markdown",
      "source": " \n$ Recall = TP / TP + FN $\n"
    },
    {
      "metadata": {
        "trusted": true,
        "scrolled": true
      },
      "cell_type": "code",
      "source": "Recall= TP / (TP + FN)\nTPR_03 = Recall\nTPR_03",
      "execution_count": 35,
      "outputs": [
        {
          "output_type": "execute_result",
          "execution_count": 35,
          "data": {
            "text/plain": "0.9230769230769231"
          },
          "metadata": {}
        }
      ]
    },
    {
      "metadata": {},
      "cell_type": "markdown",
      "source": "$ FPR = FP / TN + FP $"
    },
    {
      "metadata": {
        "trusted": true
      },
      "cell_type": "code",
      "source": "FPR_03 = FP / (TN + FP)\nFPR_03",
      "execution_count": 36,
      "outputs": [
        {
          "output_type": "execute_result",
          "execution_count": 36,
          "data": {
            "text/plain": "0.5882352941176471"
          },
          "metadata": {}
        }
      ]
    },
    {
      "metadata": {},
      "cell_type": "markdown",
      "source": "### Threshold = 0.4"
    },
    {
      "metadata": {
        "trusted": true
      },
      "cell_type": "code",
      "source": "copy5 = q2.copy()\nPredictions = []\n\n\nfor row in q2['Score']:\n    if row >= 0.4:\n        Predictions.append('True')\n    else:\n        Predictions.append('False')\n        \ncopy5['Predictions'] = Predictions\n\ncopy5.head()",
      "execution_count": 38,
      "outputs": [
        {
          "output_type": "execute_result",
          "execution_count": 38,
          "data": {
            "text/html": "<div>\n<style scoped>\n    .dataframe tbody tr th:only-of-type {\n        vertical-align: middle;\n    }\n\n    .dataframe tbody tr th {\n        vertical-align: top;\n    }\n\n    .dataframe thead th {\n        text-align: right;\n    }\n</style>\n<table border=\"1\" class=\"dataframe\">\n  <thead>\n    <tr style=\"text-align: right;\">\n      <th></th>\n      <th>ID</th>\n      <th>Target</th>\n      <th>Score</th>\n      <th>Predictions</th>\n    </tr>\n  </thead>\n  <tbody>\n    <tr>\n      <th>0</th>\n      <td>1</td>\n      <td>False</td>\n      <td>0.46</td>\n      <td>True</td>\n    </tr>\n    <tr>\n      <th>1</th>\n      <td>2</td>\n      <td>False</td>\n      <td>0.14</td>\n      <td>False</td>\n    </tr>\n    <tr>\n      <th>2</th>\n      <td>3</td>\n      <td>False</td>\n      <td>0.48</td>\n      <td>True</td>\n    </tr>\n    <tr>\n      <th>3</th>\n      <td>4</td>\n      <td>True</td>\n      <td>0.91</td>\n      <td>True</td>\n    </tr>\n    <tr>\n      <th>4</th>\n      <td>5</td>\n      <td>False</td>\n      <td>0.24</td>\n      <td>False</td>\n    </tr>\n  </tbody>\n</table>\n</div>",
            "text/plain": "   ID  Target  Score Predictions\n0   1   False   0.46        True\n1   2   False   0.14       False\n2   3   False   0.48        True\n3   4    True   0.91        True\n4   5   False   0.24       False"
          },
          "metadata": {}
        }
      ]
    },
    {
      "metadata": {
        "trusted": true,
        "scrolled": false
      },
      "cell_type": "code",
      "source": "ConfMatrix = pd.crosstab(copy5['Target'], copy5['Predictions'], rownames=['Actual'], colnames=['Predicted'])\nprint (ConfMatrix)",
      "execution_count": 39,
      "outputs": [
        {
          "output_type": "stream",
          "text": "Predicted  False  True\nActual                \nFalse          9     8\nTrue           2    11\n",
          "name": "stdout"
        }
      ]
    },
    {
      "metadata": {
        "trusted": true
      },
      "cell_type": "code",
      "source": "TP = 11\nFP = 8\nFN = 2\nTN = 9",
      "execution_count": 40,
      "outputs": []
    },
    {
      "metadata": {},
      "cell_type": "markdown",
      "source": " \n$ Recall = TP / TP + FN $\n"
    },
    {
      "metadata": {
        "trusted": true
      },
      "cell_type": "code",
      "source": "Recall= TP / (TP + FN )\nTPR_04 = Recall\nTPR_04",
      "execution_count": 41,
      "outputs": [
        {
          "output_type": "execute_result",
          "execution_count": 41,
          "data": {
            "text/plain": "0.8461538461538461"
          },
          "metadata": {}
        }
      ]
    },
    {
      "metadata": {},
      "cell_type": "markdown",
      "source": "$ FPR = FP / TN + FP $"
    },
    {
      "metadata": {
        "trusted": true
      },
      "cell_type": "code",
      "source": "FPR_04 = FP / (TN + FP)\nFPR_04",
      "execution_count": 42,
      "outputs": [
        {
          "output_type": "execute_result",
          "execution_count": 42,
          "data": {
            "text/plain": "0.47058823529411764"
          },
          "metadata": {}
        }
      ]
    },
    {
      "metadata": {},
      "cell_type": "markdown",
      "source": "### Threshold = 0.5"
    },
    {
      "metadata": {
        "trusted": true,
        "scrolled": true
      },
      "cell_type": "code",
      "source": "copy6 = q2.copy()\nPredictions = []\n\n\nfor row in q2['Score']:\n    if row >= 0.5:\n        Predictions.append('True')\n    else:\n        Predictions.append('False')\n        \ncopy6['Predictions'] = Predictions\n\ncopy6.head()",
      "execution_count": 43,
      "outputs": [
        {
          "output_type": "execute_result",
          "execution_count": 43,
          "data": {
            "text/html": "<div>\n<style scoped>\n    .dataframe tbody tr th:only-of-type {\n        vertical-align: middle;\n    }\n\n    .dataframe tbody tr th {\n        vertical-align: top;\n    }\n\n    .dataframe thead th {\n        text-align: right;\n    }\n</style>\n<table border=\"1\" class=\"dataframe\">\n  <thead>\n    <tr style=\"text-align: right;\">\n      <th></th>\n      <th>ID</th>\n      <th>Target</th>\n      <th>Score</th>\n      <th>Predictions</th>\n    </tr>\n  </thead>\n  <tbody>\n    <tr>\n      <th>0</th>\n      <td>1</td>\n      <td>False</td>\n      <td>0.46</td>\n      <td>False</td>\n    </tr>\n    <tr>\n      <th>1</th>\n      <td>2</td>\n      <td>False</td>\n      <td>0.14</td>\n      <td>False</td>\n    </tr>\n    <tr>\n      <th>2</th>\n      <td>3</td>\n      <td>False</td>\n      <td>0.48</td>\n      <td>False</td>\n    </tr>\n    <tr>\n      <th>3</th>\n      <td>4</td>\n      <td>True</td>\n      <td>0.91</td>\n      <td>True</td>\n    </tr>\n    <tr>\n      <th>4</th>\n      <td>5</td>\n      <td>False</td>\n      <td>0.24</td>\n      <td>False</td>\n    </tr>\n  </tbody>\n</table>\n</div>",
            "text/plain": "   ID  Target  Score Predictions\n0   1   False   0.46       False\n1   2   False   0.14       False\n2   3   False   0.48       False\n3   4    True   0.91        True\n4   5   False   0.24       False"
          },
          "metadata": {}
        }
      ]
    },
    {
      "metadata": {
        "trusted": true,
        "scrolled": false
      },
      "cell_type": "code",
      "source": "ConfMatrix = pd.crosstab(copy6['Target'], copy6['Predictions'], rownames=['Actual'], colnames=['Predicted'])\nprint (ConfMatrix)",
      "execution_count": 44,
      "outputs": [
        {
          "output_type": "stream",
          "text": "Predicted  False  True\nActual                \nFalse         11     6\nTrue           4     9\n",
          "name": "stdout"
        }
      ]
    },
    {
      "metadata": {
        "trusted": true
      },
      "cell_type": "code",
      "source": "TP = 9\nFP = 6\nFN = 4\nTN = 11",
      "execution_count": 45,
      "outputs": []
    },
    {
      "metadata": {},
      "cell_type": "markdown",
      "source": " \n$ Recall = TP / TP + FN $\n"
    },
    {
      "metadata": {
        "trusted": true
      },
      "cell_type": "code",
      "source": "Recall= TP / (TP + FN )\nTPR_05 = Recall\nTPR_05",
      "execution_count": 46,
      "outputs": [
        {
          "output_type": "execute_result",
          "execution_count": 46,
          "data": {
            "text/plain": "0.6923076923076923"
          },
          "metadata": {}
        }
      ]
    },
    {
      "metadata": {},
      "cell_type": "markdown",
      "source": "$ FPR = FP / TN + FP $"
    },
    {
      "metadata": {
        "trusted": true
      },
      "cell_type": "code",
      "source": "FPR_05 = FP / (TN + FP)\nFPR_05",
      "execution_count": 47,
      "outputs": [
        {
          "output_type": "execute_result",
          "execution_count": 47,
          "data": {
            "text/plain": "0.35294117647058826"
          },
          "metadata": {}
        }
      ]
    },
    {
      "metadata": {},
      "cell_type": "markdown",
      "source": "### Threshold = 0.6"
    },
    {
      "metadata": {
        "trusted": true,
        "scrolled": true
      },
      "cell_type": "code",
      "source": "copy7 = q2.copy()\nPredictions = []\n\n\nfor row in q2['Score']:\n    if row >= 0.6:\n        Predictions.append('True')\n    else:\n        Predictions.append('False')\n        \ncopy7['Predictions'] = Predictions\n\ncopy7.head()",
      "execution_count": 48,
      "outputs": [
        {
          "output_type": "execute_result",
          "execution_count": 48,
          "data": {
            "text/html": "<div>\n<style scoped>\n    .dataframe tbody tr th:only-of-type {\n        vertical-align: middle;\n    }\n\n    .dataframe tbody tr th {\n        vertical-align: top;\n    }\n\n    .dataframe thead th {\n        text-align: right;\n    }\n</style>\n<table border=\"1\" class=\"dataframe\">\n  <thead>\n    <tr style=\"text-align: right;\">\n      <th></th>\n      <th>ID</th>\n      <th>Target</th>\n      <th>Score</th>\n      <th>Predictions</th>\n    </tr>\n  </thead>\n  <tbody>\n    <tr>\n      <th>0</th>\n      <td>1</td>\n      <td>False</td>\n      <td>0.46</td>\n      <td>False</td>\n    </tr>\n    <tr>\n      <th>1</th>\n      <td>2</td>\n      <td>False</td>\n      <td>0.14</td>\n      <td>False</td>\n    </tr>\n    <tr>\n      <th>2</th>\n      <td>3</td>\n      <td>False</td>\n      <td>0.48</td>\n      <td>False</td>\n    </tr>\n    <tr>\n      <th>3</th>\n      <td>4</td>\n      <td>True</td>\n      <td>0.91</td>\n      <td>True</td>\n    </tr>\n    <tr>\n      <th>4</th>\n      <td>5</td>\n      <td>False</td>\n      <td>0.24</td>\n      <td>False</td>\n    </tr>\n  </tbody>\n</table>\n</div>",
            "text/plain": "   ID  Target  Score Predictions\n0   1   False   0.46       False\n1   2   False   0.14       False\n2   3   False   0.48       False\n3   4    True   0.91        True\n4   5   False   0.24       False"
          },
          "metadata": {}
        }
      ]
    },
    {
      "metadata": {
        "trusted": true,
        "scrolled": true
      },
      "cell_type": "code",
      "source": "ConfMatrix = pd.crosstab(copy7['Target'], copy7['Predictions'], rownames=['Actual'], colnames=['Predicted'])\nprint (ConfMatrix)",
      "execution_count": 49,
      "outputs": [
        {
          "output_type": "stream",
          "text": "Predicted  False  True\nActual                \nFalse         13     4\nTrue           5     8\n",
          "name": "stdout"
        }
      ]
    },
    {
      "metadata": {
        "trusted": true
      },
      "cell_type": "code",
      "source": "TP = 8\nFP = 4\nFN = 5\nTN = 13",
      "execution_count": 50,
      "outputs": []
    },
    {
      "metadata": {},
      "cell_type": "markdown",
      "source": " \n$ Recall = TP / TP + FN $\n"
    },
    {
      "metadata": {
        "trusted": true
      },
      "cell_type": "code",
      "source": "Recall= TP / (TP + FN )\nTPR_06 = Recall\nTPR_06",
      "execution_count": 51,
      "outputs": [
        {
          "output_type": "execute_result",
          "execution_count": 51,
          "data": {
            "text/plain": "0.6153846153846154"
          },
          "metadata": {}
        }
      ]
    },
    {
      "metadata": {},
      "cell_type": "markdown",
      "source": "$ FPR = FP / TN + FP $"
    },
    {
      "metadata": {
        "trusted": true,
        "scrolled": true
      },
      "cell_type": "code",
      "source": "FPR_06 = FP / (TN + FP)\nFPR_06",
      "execution_count": 52,
      "outputs": [
        {
          "output_type": "execute_result",
          "execution_count": 52,
          "data": {
            "text/plain": "0.23529411764705882"
          },
          "metadata": {}
        }
      ]
    },
    {
      "metadata": {},
      "cell_type": "markdown",
      "source": "### Threshold = 0.7"
    },
    {
      "metadata": {
        "trusted": true,
        "scrolled": true
      },
      "cell_type": "code",
      "source": "copy8 = q2.copy()\nPredictions = []\n\n\nfor row in q2['Score']:\n    if row >= 0.7:\n        Predictions.append('True')\n    else:\n        Predictions.append('False')\n\ncopy8['Predictions'] = Predictions\n\ncopy8.head()",
      "execution_count": 53,
      "outputs": [
        {
          "output_type": "execute_result",
          "execution_count": 53,
          "data": {
            "text/html": "<div>\n<style scoped>\n    .dataframe tbody tr th:only-of-type {\n        vertical-align: middle;\n    }\n\n    .dataframe tbody tr th {\n        vertical-align: top;\n    }\n\n    .dataframe thead th {\n        text-align: right;\n    }\n</style>\n<table border=\"1\" class=\"dataframe\">\n  <thead>\n    <tr style=\"text-align: right;\">\n      <th></th>\n      <th>ID</th>\n      <th>Target</th>\n      <th>Score</th>\n      <th>Predictions</th>\n    </tr>\n  </thead>\n  <tbody>\n    <tr>\n      <th>0</th>\n      <td>1</td>\n      <td>False</td>\n      <td>0.46</td>\n      <td>False</td>\n    </tr>\n    <tr>\n      <th>1</th>\n      <td>2</td>\n      <td>False</td>\n      <td>0.14</td>\n      <td>False</td>\n    </tr>\n    <tr>\n      <th>2</th>\n      <td>3</td>\n      <td>False</td>\n      <td>0.48</td>\n      <td>False</td>\n    </tr>\n    <tr>\n      <th>3</th>\n      <td>4</td>\n      <td>True</td>\n      <td>0.91</td>\n      <td>True</td>\n    </tr>\n    <tr>\n      <th>4</th>\n      <td>5</td>\n      <td>False</td>\n      <td>0.24</td>\n      <td>False</td>\n    </tr>\n  </tbody>\n</table>\n</div>",
            "text/plain": "   ID  Target  Score Predictions\n0   1   False   0.46       False\n1   2   False   0.14       False\n2   3   False   0.48       False\n3   4    True   0.91        True\n4   5   False   0.24       False"
          },
          "metadata": {}
        }
      ]
    },
    {
      "metadata": {
        "trusted": true,
        "scrolled": false
      },
      "cell_type": "code",
      "source": "ConfMatrix = pd.crosstab(copy8['Target'], copy8['Predictions'], rownames=['Actual'], colnames=['Predicted'])\nprint (ConfMatrix)",
      "execution_count": 54,
      "outputs": [
        {
          "output_type": "stream",
          "text": "Predicted  False  True\nActual                \nFalse         15     2\nTrue           7     6\n",
          "name": "stdout"
        }
      ]
    },
    {
      "metadata": {
        "trusted": true
      },
      "cell_type": "code",
      "source": "TP = 6\nFP = 2\nFN = 7\nTN = 15",
      "execution_count": 55,
      "outputs": []
    },
    {
      "metadata": {},
      "cell_type": "markdown",
      "source": " \n$ Recall = TP / TP + FN $\n"
    },
    {
      "metadata": {
        "trusted": true
      },
      "cell_type": "code",
      "source": "Recall= TP / (TP + FN )\nTPR_07 = Recall\nTPR_07",
      "execution_count": 56,
      "outputs": [
        {
          "output_type": "execute_result",
          "execution_count": 56,
          "data": {
            "text/plain": "0.46153846153846156"
          },
          "metadata": {}
        }
      ]
    },
    {
      "metadata": {},
      "cell_type": "markdown",
      "source": "$ FPR = FP / TN + FP $"
    },
    {
      "metadata": {
        "trusted": true,
        "scrolled": true
      },
      "cell_type": "code",
      "source": "FPR_07 = FP / (TN + FP)\nFPR_07",
      "execution_count": 57,
      "outputs": [
        {
          "output_type": "execute_result",
          "execution_count": 57,
          "data": {
            "text/plain": "0.11764705882352941"
          },
          "metadata": {}
        }
      ]
    },
    {
      "metadata": {},
      "cell_type": "markdown",
      "source": "### Threshold = 0.8"
    },
    {
      "metadata": {
        "trusted": true,
        "scrolled": true
      },
      "cell_type": "code",
      "source": "copy9 = q2.copy()\nPredictions = []\n\n\nfor row in q2['Score']:\n    \n    if row >= 0.8:\n        Predictions.append('True')\n    else:\n        Predictions.append('False')\n        \ncopy9['Predictions'] = Predictions\n\ncopy9.head()",
      "execution_count": 62,
      "outputs": [
        {
          "output_type": "execute_result",
          "execution_count": 62,
          "data": {
            "text/html": "<div>\n<style scoped>\n    .dataframe tbody tr th:only-of-type {\n        vertical-align: middle;\n    }\n\n    .dataframe tbody tr th {\n        vertical-align: top;\n    }\n\n    .dataframe thead th {\n        text-align: right;\n    }\n</style>\n<table border=\"1\" class=\"dataframe\">\n  <thead>\n    <tr style=\"text-align: right;\">\n      <th></th>\n      <th>ID</th>\n      <th>Target</th>\n      <th>Score</th>\n      <th>Predictions</th>\n    </tr>\n  </thead>\n  <tbody>\n    <tr>\n      <th>0</th>\n      <td>1</td>\n      <td>False</td>\n      <td>0.46</td>\n      <td>False</td>\n    </tr>\n    <tr>\n      <th>1</th>\n      <td>2</td>\n      <td>False</td>\n      <td>0.14</td>\n      <td>False</td>\n    </tr>\n    <tr>\n      <th>2</th>\n      <td>3</td>\n      <td>False</td>\n      <td>0.48</td>\n      <td>False</td>\n    </tr>\n    <tr>\n      <th>3</th>\n      <td>4</td>\n      <td>True</td>\n      <td>0.91</td>\n      <td>True</td>\n    </tr>\n    <tr>\n      <th>4</th>\n      <td>5</td>\n      <td>False</td>\n      <td>0.24</td>\n      <td>False</td>\n    </tr>\n  </tbody>\n</table>\n</div>",
            "text/plain": "   ID  Target  Score Predictions\n0   1   False   0.46       False\n1   2   False   0.14       False\n2   3   False   0.48       False\n3   4    True   0.91        True\n4   5   False   0.24       False"
          },
          "metadata": {}
        }
      ]
    },
    {
      "metadata": {
        "trusted": true,
        "scrolled": false
      },
      "cell_type": "code",
      "source": "ConfMatrix = pd.crosstab(copy9['Target'], copy9['Predictions'], rownames=['Actual'], colnames=['Predicted'])\nprint (ConfMatrix)",
      "execution_count": 63,
      "outputs": [
        {
          "output_type": "stream",
          "text": "Predicted  False  True\nActual                \nFalse         16     1\nTrue           9     4\n",
          "name": "stdout"
        }
      ]
    },
    {
      "metadata": {
        "trusted": true
      },
      "cell_type": "code",
      "source": "TP = 4\nFP = 1\nFN = 9\nTN = 16",
      "execution_count": 64,
      "outputs": []
    },
    {
      "metadata": {},
      "cell_type": "markdown",
      "source": " \n$ Recall = TP / TP + FN $\n"
    },
    {
      "metadata": {
        "trusted": true
      },
      "cell_type": "code",
      "source": "Recall= TP / (TP + FN )\nTPR_08 = Recall\nTPR_08",
      "execution_count": 65,
      "outputs": [
        {
          "output_type": "execute_result",
          "execution_count": 65,
          "data": {
            "text/plain": "0.3076923076923077"
          },
          "metadata": {}
        }
      ]
    },
    {
      "metadata": {},
      "cell_type": "markdown",
      "source": "$ FPR = FP / TN + FP $"
    },
    {
      "metadata": {
        "trusted": true,
        "scrolled": true
      },
      "cell_type": "code",
      "source": "FPR_08 = FP / (TN + FP)\nFPR_08",
      "execution_count": 66,
      "outputs": [
        {
          "output_type": "execute_result",
          "execution_count": 66,
          "data": {
            "text/plain": "0.058823529411764705"
          },
          "metadata": {}
        }
      ]
    },
    {
      "metadata": {},
      "cell_type": "markdown",
      "source": "### Threshold = 0.9"
    },
    {
      "metadata": {
        "trusted": true,
        "scrolled": true
      },
      "cell_type": "code",
      "source": "copy10 = q2.copy()\nPredictions = []\n\n\nfor row in q2['Score']:\n    \n    if row >= 0.9:\n        Predictions.append('True')\n    else:\n        Predictions.append('False')\n        \ncopy10['Predictions'] = Predictions\n\ncopy10.head()",
      "execution_count": 67,
      "outputs": [
        {
          "output_type": "execute_result",
          "execution_count": 67,
          "data": {
            "text/html": "<div>\n<style scoped>\n    .dataframe tbody tr th:only-of-type {\n        vertical-align: middle;\n    }\n\n    .dataframe tbody tr th {\n        vertical-align: top;\n    }\n\n    .dataframe thead th {\n        text-align: right;\n    }\n</style>\n<table border=\"1\" class=\"dataframe\">\n  <thead>\n    <tr style=\"text-align: right;\">\n      <th></th>\n      <th>ID</th>\n      <th>Target</th>\n      <th>Score</th>\n      <th>Predictions</th>\n    </tr>\n  </thead>\n  <tbody>\n    <tr>\n      <th>0</th>\n      <td>1</td>\n      <td>False</td>\n      <td>0.46</td>\n      <td>False</td>\n    </tr>\n    <tr>\n      <th>1</th>\n      <td>2</td>\n      <td>False</td>\n      <td>0.14</td>\n      <td>False</td>\n    </tr>\n    <tr>\n      <th>2</th>\n      <td>3</td>\n      <td>False</td>\n      <td>0.48</td>\n      <td>False</td>\n    </tr>\n    <tr>\n      <th>3</th>\n      <td>4</td>\n      <td>True</td>\n      <td>0.91</td>\n      <td>True</td>\n    </tr>\n    <tr>\n      <th>4</th>\n      <td>5</td>\n      <td>False</td>\n      <td>0.24</td>\n      <td>False</td>\n    </tr>\n  </tbody>\n</table>\n</div>",
            "text/plain": "   ID  Target  Score Predictions\n0   1   False   0.46       False\n1   2   False   0.14       False\n2   3   False   0.48       False\n3   4    True   0.91        True\n4   5   False   0.24       False"
          },
          "metadata": {}
        }
      ]
    },
    {
      "metadata": {
        "trusted": true,
        "scrolled": false
      },
      "cell_type": "code",
      "source": "ConfMatrix = pd.crosstab(copy10['Target'], copy10['Predictions'], rownames=['Actual'], colnames=['Predicted'])\nprint (ConfMatrix)",
      "execution_count": 68,
      "outputs": [
        {
          "output_type": "stream",
          "text": "Predicted  False  True\nActual                \nFalse         17     0\nTrue          12     1\n",
          "name": "stdout"
        }
      ]
    },
    {
      "metadata": {
        "trusted": true
      },
      "cell_type": "code",
      "source": "TP = 1\nFP = 0\nFN = 12\nTN = 17",
      "execution_count": 69,
      "outputs": []
    },
    {
      "metadata": {},
      "cell_type": "markdown",
      "source": " \n$ Recall = TP / TP + FN $\n"
    },
    {
      "metadata": {
        "trusted": true
      },
      "cell_type": "code",
      "source": "Recall= TP / (TP + FN )\nTPR_09 = Recall\nTPR_09",
      "execution_count": 70,
      "outputs": [
        {
          "output_type": "execute_result",
          "execution_count": 70,
          "data": {
            "text/plain": "0.07692307692307693"
          },
          "metadata": {}
        }
      ]
    },
    {
      "metadata": {},
      "cell_type": "markdown",
      "source": "$ FPR = FP / TN + FP $"
    },
    {
      "metadata": {
        "trusted": true,
        "scrolled": true
      },
      "cell_type": "code",
      "source": "FPR_09 = FP / (TN + FP)\nFPR_09",
      "execution_count": 71,
      "outputs": [
        {
          "output_type": "execute_result",
          "execution_count": 71,
          "data": {
            "text/plain": "0.0"
          },
          "metadata": {}
        }
      ]
    },
    {
      "metadata": {
        "trusted": true,
        "scrolled": true
      },
      "cell_type": "code",
      "source": "df_roc = pd.DataFrame(columns=['Threshold', 'TPR', 'FPR'])\ndf_roc.loc[len(df_roc)] = [0.1, TPR_01, FPR_01]\ndf_roc.loc[len(df_roc)] = [0.2, TPR_02, FPR_02]\ndf_roc.loc[len(df_roc)] = [0.3, TPR_03, FPR_03]\ndf_roc.loc[len(df_roc)] = [0.4, TPR_04, FPR_04]\ndf_roc.loc[len(df_roc)] = [0.5, TPR_05, FPR_05]\ndf_roc.loc[len(df_roc)] = [0.6, TPR_06, FPR_06]\ndf_roc.loc[len(df_roc)] = [0.7, TPR_07, FPR_07]\ndf_roc.loc[len(df_roc)] = [0.8, TPR_08, FPR_08]\ndf_roc.loc[len(df_roc)] = [0.9, TPR_09, FPR_09]\n\n",
      "execution_count": 84,
      "outputs": []
    },
    {
      "metadata": {
        "trusted": true,
        "scrolled": true
      },
      "cell_type": "code",
      "source": "df_metrics",
      "execution_count": 79,
      "outputs": [
        {
          "output_type": "execute_result",
          "execution_count": 79,
          "data": {
            "text/html": "<div>\n<style scoped>\n    .dataframe tbody tr th:only-of-type {\n        vertical-align: middle;\n    }\n\n    .dataframe tbody tr th {\n        vertical-align: top;\n    }\n\n    .dataframe thead th {\n        text-align: right;\n    }\n</style>\n<table border=\"1\" class=\"dataframe\">\n  <thead>\n    <tr style=\"text-align: right;\">\n      <th></th>\n      <th>Metric</th>\n      <th>Value</th>\n    </tr>\n  </thead>\n  <tbody>\n    <tr>\n      <th>0</th>\n      <td>Error Rate</td>\n      <td>0.333333</td>\n    </tr>\n    <tr>\n      <th>1</th>\n      <td>Precision</td>\n      <td>0.600000</td>\n    </tr>\n    <tr>\n      <th>2</th>\n      <td>TPR - Recall</td>\n      <td>0.692308</td>\n    </tr>\n    <tr>\n      <th>3</th>\n      <td>F1-Score</td>\n      <td>0.642857</td>\n    </tr>\n    <tr>\n      <th>4</th>\n      <td>FPR</td>\n      <td>0.352941</td>\n    </tr>\n  </tbody>\n</table>\n</div>",
            "text/plain": "         Metric     Value\n0    Error Rate  0.333333\n1     Precision  0.600000\n2  TPR - Recall  0.692308\n3      F1-Score  0.642857\n4           FPR  0.352941"
          },
          "metadata": {}
        }
      ]
    },
    {
      "metadata": {
        "trusted": true,
        "scrolled": true
      },
      "cell_type": "code",
      "source": "df_roc",
      "execution_count": 80,
      "outputs": [
        {
          "output_type": "execute_result",
          "execution_count": 80,
          "data": {
            "text/html": "<div>\n<style scoped>\n    .dataframe tbody tr th:only-of-type {\n        vertical-align: middle;\n    }\n\n    .dataframe tbody tr th {\n        vertical-align: top;\n    }\n\n    .dataframe thead th {\n        text-align: right;\n    }\n</style>\n<table border=\"1\" class=\"dataframe\">\n  <thead>\n    <tr style=\"text-align: right;\">\n      <th></th>\n      <th>Threshold</th>\n      <th>TPR</th>\n      <th>FPR</th>\n    </tr>\n  </thead>\n  <tbody>\n    <tr>\n      <th>0</th>\n      <td>0.1</td>\n      <td>1.000000</td>\n      <td>0.941176</td>\n    </tr>\n    <tr>\n      <th>1</th>\n      <td>0.2</td>\n      <td>1.000000</td>\n      <td>0.705882</td>\n    </tr>\n    <tr>\n      <th>2</th>\n      <td>0.3</td>\n      <td>0.923077</td>\n      <td>0.588235</td>\n    </tr>\n    <tr>\n      <th>3</th>\n      <td>0.4</td>\n      <td>0.846154</td>\n      <td>0.470588</td>\n    </tr>\n    <tr>\n      <th>4</th>\n      <td>0.5</td>\n      <td>0.692308</td>\n      <td>0.352941</td>\n    </tr>\n    <tr>\n      <th>5</th>\n      <td>0.6</td>\n      <td>0.615385</td>\n      <td>0.235294</td>\n    </tr>\n    <tr>\n      <th>6</th>\n      <td>0.7</td>\n      <td>0.461538</td>\n      <td>0.117647</td>\n    </tr>\n    <tr>\n      <th>7</th>\n      <td>0.8</td>\n      <td>0.307692</td>\n      <td>0.058824</td>\n    </tr>\n    <tr>\n      <th>8</th>\n      <td>0.9</td>\n      <td>0.076923</td>\n      <td>0.000000</td>\n    </tr>\n  </tbody>\n</table>\n</div>",
            "text/plain": "   Threshold       TPR       FPR\n0        0.1  1.000000  0.941176\n1        0.2  1.000000  0.705882\n2        0.3  0.923077  0.588235\n3        0.4  0.846154  0.470588\n4        0.5  0.692308  0.352941\n5        0.6  0.615385  0.235294\n6        0.7  0.461538  0.117647\n7        0.8  0.307692  0.058824\n8        0.9  0.076923  0.000000"
          },
          "metadata": {}
        }
      ]
    },
    {
      "metadata": {},
      "cell_type": "markdown",
      "source": "## Part C"
    },
    {
      "metadata": {},
      "cell_type": "markdown",
      "source": "Here, we'll display the ROC curve"
    },
    {
      "metadata": {
        "trusted": true
      },
      "cell_type": "code",
      "source": "plt.plot(df_roc['FPR'], df_roc['TPR'],  '-ok', color='blue');\nplt.plot(df_roc['FPR'],df_roc['FPR'], '-')\nplt.title('ROC Curve');\nplt.xlabel('FPR');\nplt.ylabel('TRP');",
      "execution_count": 86,
      "outputs": [
        {
          "output_type": "display_data",
          "data": {
            "image/png": "[encoded data removed]",
            "text/plain": "<Figure size 432x288 with 1 Axes>"
          },
          "metadata": {
            "needs_background": "light"
          }
        }
      ]
    }
  ],
  "metadata": {
    "kernelspec": {
      "name": "python36",
      "display_name": "Python 3.6",
      "language": "python"
    },
    "language_info": {
      "mimetype": "text/x-python",
      "nbconvert_exporter": "python",
      "name": "python",
      "pygments_lexer": "ipython3",
      "version": "3.6.6",
      "file_extension": ".py",
      "codemirror_mode": {
        "version": 3,
        "name": "ipython"
      }
    }
  },
  "nbformat": 4,
  "nbformat_minor": 2
}